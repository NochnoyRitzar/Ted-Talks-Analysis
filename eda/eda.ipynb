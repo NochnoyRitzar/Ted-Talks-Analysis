{
  "cells": [
    {
      "cell_type": "markdown",
      "metadata": {
        "id": "view-in-github",
        "colab_type": "text"
      },
      "source": [
        "<a href=\"https://colab.research.google.com/github/NochnoyRitzar/Ted-Talks-Analysis/blob/master/eda/eda.ipynb\" target=\"_parent\"><img src=\"https://colab.research.google.com/assets/colab-badge.svg\" alt=\"Open In Colab\"/></a>"
      ]
    },
    {
      "cell_type": "markdown",
      "source": [
        "## Importing Libraries"
      ],
      "metadata": {
        "id": "ruIWl0NQ05H8"
      }
    },
    {
      "cell_type": "code",
      "execution_count": 1,
      "metadata": {
        "collapsed": true,
        "id": "WyYrnzRVtROj"
      },
      "outputs": [],
      "source": [
        "import pandas as pd\n",
        "import numpy as np\n",
        "from ast import literal_eval\n",
        "# for plotting\n",
        "import matplotlib.pyplot as plt\n",
        "import plotly.express as px\n",
        "import seaborn as sns\n",
        "sns.set(style=\"darkgrid\")"
      ]
    },
    {
      "cell_type": "code",
      "source": [
        "np.random.seed(42)"
      ],
      "metadata": {
        "id": "plmHRy_Te4GM"
      },
      "execution_count": 2,
      "outputs": []
    },
    {
      "cell_type": "code",
      "source": [
        "# loading data\n",
        "orig_df = pd.read_csv('https://raw.githubusercontent.com/NochnoyRitzar/Ted-Talks-Analysis/master/talks_info.csv')\n",
        "df = orig_df.copy()"
      ],
      "metadata": {
        "id": "Qqlj8MYa03YX"
      },
      "execution_count": 3,
      "outputs": []
    },
    {
      "cell_type": "markdown",
      "source": [
        "## Initial look"
      ],
      "metadata": {
        "id": "Bx3nvyhe0_G7"
      }
    },
    {
      "cell_type": "code",
      "source": [
        "df.head()"
      ],
      "metadata": {
        "colab": {
          "base_uri": "https://localhost:8080/",
          "height": 739
        },
        "id": "w5CvUYDS0_aM",
        "outputId": "a6f1b322-c0e5-424f-9d3d-6888878dd1d9"
      },
      "execution_count": 4,
      "outputs": [
        {
          "output_type": "execute_result",
          "data": {
            "text/plain": [
              "   _id  duration           event likes  \\\n",
              "0   21       992         TED2006   17K   \n",
              "1    1       957         TED2006  110K   \n",
              "2    7      1266         TED2006   60K   \n",
              "3   47      1126  TEDGlobal 2005   80K   \n",
              "4   55      1524         TED2006   14K   \n",
              "\n",
              "                                            page_url        published_date  \\\n",
              "0  https://www.ted.com/talks/mena_trott_meet_the_...  2006-08-25T00:11:00Z   \n",
              "1  https://www.ted.com/talks/al_gore_averting_the...  2006-06-27T00:11:00Z   \n",
              "2  https://www.ted.com/talks/david_pogue_simplici...  2006-06-27T00:11:00Z   \n",
              "3  https://www.ted.com/talks/david_deutsch_chemic...  2006-09-12T00:11:00Z   \n",
              "4  https://www.ted.com/talks/jehane_noujaim_my_wi...  2006-07-25T00:11:00Z   \n",
              "\n",
              "  recorded_date                                related_videos  \\\n",
              "0    2006-02-23      [\"144\",\"1282\",\"1379\",\"87\",\"2302\",\"2638\"]   \n",
              "1    2006-02-25  [\"243\",\"547\",\"2093\",\"74405\",\"64693\",\"83767\"]   \n",
              "2    2006-02-24    [\"1725\",\"2274\",\"172\",\"2664\",\"2464\",\"1268\"]   \n",
              "3    2005-07-14    [\"2237\",\"701\",\"1095\",\"1386\",\"76211\",\"242\"]   \n",
              "4    2006-02-26   [\"2228\",\"1476\",\"800\",\"2890\",\"45233\",\"2694\"]   \n",
              "\n",
              "                                            speakers  \\\n",
              "0  [{\"name\":\"Mena Trott\",\"occupation\":\"Blogger; c...   \n",
              "1  [{\"name\":\"Al Gore\",\"occupation\":\"Climate advoc...   \n",
              "2  [{\"name\":\"David Pogue\",\"occupation\":\"Technolog...   \n",
              "3  [{\"name\":\"David Deutsch\",\"occupation\":\"Physici...   \n",
              "4  [{\"name\":\"Jehane Noujaim\",\"occupation\":\"Filmma...   \n",
              "\n",
              "                                  subtitle_languages  \\\n",
              "0  [{\"name\":\"English\",\"code\":\"en\"},{\"name\":\"Vietn...   \n",
              "1  [{\"name\":\"Greek\",\"code\":\"el\"},{\"name\":\"Gujarat...   \n",
              "2  [{\"name\":\"Greek\",\"code\":\"el\"},{\"name\":\"English...   \n",
              "3  [{\"name\":\"Greek\",\"code\":\"el\"},{\"name\":\"English...   \n",
              "4  [{\"name\":\"English\",\"code\":\"en\"},{\"name\":\"Vietn...   \n",
              "\n",
              "                                             summary  \\\n",
              "0  The founding mother of the blog revolution, Mo...   \n",
              "1  With the same humor and humanity he exuded in ...   \n",
              "2  New York Times columnist David Pogue takes aim...   \n",
              "3  Legendary scientist David Deutsch puts theoret...   \n",
              "4  Jehane Noujaim unveils her 2006 TED Prize wish...   \n",
              "\n",
              "                                         title  \\\n",
              "0      Meet the founder of the blog revolution   \n",
              "1                  Averting the climate crisis   \n",
              "2                             Simplicity sells   \n",
              "3  Chemical scum that dream of distant quasars   \n",
              "4                My wish: A global day of film   \n",
              "\n",
              "                                              topics  \\\n",
              "0  [{\"id\":\"4\",\"name\":\"culture\"},{\"id\":\"13\",\"name\"...   \n",
              "1  [{\"id\":\"3\",\"name\":\"climate change\"},{\"id\":\"4\",...   \n",
              "2  [{\"id\":\"10\",\"name\":\"technology\"},{\"id\":\"36\",\"n...   \n",
              "3  [{\"id\":\"3\",\"name\":\"climate change\"},{\"id\":\"4\",...   \n",
              "4  [{\"id\":\"4\",\"name\":\"culture\"},{\"id\":\"6\",\"name\":...   \n",
              "\n",
              "                                          transcript    views  \\\n",
              "0  Over the past couple of days, as I've been pre...   589115   \n",
              "1  Thank you so much, Chris. And it's truly a gre...  3671801   \n",
              "2  (Music: \"The Sound of Silence,\" Simon &amp; Ga...  2008487   \n",
              "3  We've been told to go out on a limb and say so...  2694257   \n",
              "4  I can't help but this wish: to think about whe...   489757   \n",
              "\n",
              "  youtube_video_code  \n",
              "0        RlBTxuWCuL8  \n",
              "1        rDiGYuQicpA  \n",
              "2        NEjZt0y6OOw  \n",
              "3        gQliI_WGaGk  \n",
              "4        QCFSrb6B5nw  "
            ],
            "text/html": [
              "\n",
              "  <div id=\"df-df0db458-7f9b-45c8-8211-a48bf83f435a\">\n",
              "    <div class=\"colab-df-container\">\n",
              "      <div>\n",
              "<style scoped>\n",
              "    .dataframe tbody tr th:only-of-type {\n",
              "        vertical-align: middle;\n",
              "    }\n",
              "\n",
              "    .dataframe tbody tr th {\n",
              "        vertical-align: top;\n",
              "    }\n",
              "\n",
              "    .dataframe thead th {\n",
              "        text-align: right;\n",
              "    }\n",
              "</style>\n",
              "<table border=\"1\" class=\"dataframe\">\n",
              "  <thead>\n",
              "    <tr style=\"text-align: right;\">\n",
              "      <th></th>\n",
              "      <th>_id</th>\n",
              "      <th>duration</th>\n",
              "      <th>event</th>\n",
              "      <th>likes</th>\n",
              "      <th>page_url</th>\n",
              "      <th>published_date</th>\n",
              "      <th>recorded_date</th>\n",
              "      <th>related_videos</th>\n",
              "      <th>speakers</th>\n",
              "      <th>subtitle_languages</th>\n",
              "      <th>summary</th>\n",
              "      <th>title</th>\n",
              "      <th>topics</th>\n",
              "      <th>transcript</th>\n",
              "      <th>views</th>\n",
              "      <th>youtube_video_code</th>\n",
              "    </tr>\n",
              "  </thead>\n",
              "  <tbody>\n",
              "    <tr>\n",
              "      <th>0</th>\n",
              "      <td>21</td>\n",
              "      <td>992</td>\n",
              "      <td>TED2006</td>\n",
              "      <td>17K</td>\n",
              "      <td>https://www.ted.com/talks/mena_trott_meet_the_...</td>\n",
              "      <td>2006-08-25T00:11:00Z</td>\n",
              "      <td>2006-02-23</td>\n",
              "      <td>[\"144\",\"1282\",\"1379\",\"87\",\"2302\",\"2638\"]</td>\n",
              "      <td>[{\"name\":\"Mena Trott\",\"occupation\":\"Blogger; c...</td>\n",
              "      <td>[{\"name\":\"English\",\"code\":\"en\"},{\"name\":\"Vietn...</td>\n",
              "      <td>The founding mother of the blog revolution, Mo...</td>\n",
              "      <td>Meet the founder of the blog revolution</td>\n",
              "      <td>[{\"id\":\"4\",\"name\":\"culture\"},{\"id\":\"13\",\"name\"...</td>\n",
              "      <td>Over the past couple of days, as I've been pre...</td>\n",
              "      <td>589115</td>\n",
              "      <td>RlBTxuWCuL8</td>\n",
              "    </tr>\n",
              "    <tr>\n",
              "      <th>1</th>\n",
              "      <td>1</td>\n",
              "      <td>957</td>\n",
              "      <td>TED2006</td>\n",
              "      <td>110K</td>\n",
              "      <td>https://www.ted.com/talks/al_gore_averting_the...</td>\n",
              "      <td>2006-06-27T00:11:00Z</td>\n",
              "      <td>2006-02-25</td>\n",
              "      <td>[\"243\",\"547\",\"2093\",\"74405\",\"64693\",\"83767\"]</td>\n",
              "      <td>[{\"name\":\"Al Gore\",\"occupation\":\"Climate advoc...</td>\n",
              "      <td>[{\"name\":\"Greek\",\"code\":\"el\"},{\"name\":\"Gujarat...</td>\n",
              "      <td>With the same humor and humanity he exuded in ...</td>\n",
              "      <td>Averting the climate crisis</td>\n",
              "      <td>[{\"id\":\"3\",\"name\":\"climate change\"},{\"id\":\"4\",...</td>\n",
              "      <td>Thank you so much, Chris. And it's truly a gre...</td>\n",
              "      <td>3671801</td>\n",
              "      <td>rDiGYuQicpA</td>\n",
              "    </tr>\n",
              "    <tr>\n",
              "      <th>2</th>\n",
              "      <td>7</td>\n",
              "      <td>1266</td>\n",
              "      <td>TED2006</td>\n",
              "      <td>60K</td>\n",
              "      <td>https://www.ted.com/talks/david_pogue_simplici...</td>\n",
              "      <td>2006-06-27T00:11:00Z</td>\n",
              "      <td>2006-02-24</td>\n",
              "      <td>[\"1725\",\"2274\",\"172\",\"2664\",\"2464\",\"1268\"]</td>\n",
              "      <td>[{\"name\":\"David Pogue\",\"occupation\":\"Technolog...</td>\n",
              "      <td>[{\"name\":\"Greek\",\"code\":\"el\"},{\"name\":\"English...</td>\n",
              "      <td>New York Times columnist David Pogue takes aim...</td>\n",
              "      <td>Simplicity sells</td>\n",
              "      <td>[{\"id\":\"10\",\"name\":\"technology\"},{\"id\":\"36\",\"n...</td>\n",
              "      <td>(Music: \"The Sound of Silence,\" Simon &amp;amp; Ga...</td>\n",
              "      <td>2008487</td>\n",
              "      <td>NEjZt0y6OOw</td>\n",
              "    </tr>\n",
              "    <tr>\n",
              "      <th>3</th>\n",
              "      <td>47</td>\n",
              "      <td>1126</td>\n",
              "      <td>TEDGlobal 2005</td>\n",
              "      <td>80K</td>\n",
              "      <td>https://www.ted.com/talks/david_deutsch_chemic...</td>\n",
              "      <td>2006-09-12T00:11:00Z</td>\n",
              "      <td>2005-07-14</td>\n",
              "      <td>[\"2237\",\"701\",\"1095\",\"1386\",\"76211\",\"242\"]</td>\n",
              "      <td>[{\"name\":\"David Deutsch\",\"occupation\":\"Physici...</td>\n",
              "      <td>[{\"name\":\"Greek\",\"code\":\"el\"},{\"name\":\"English...</td>\n",
              "      <td>Legendary scientist David Deutsch puts theoret...</td>\n",
              "      <td>Chemical scum that dream of distant quasars</td>\n",
              "      <td>[{\"id\":\"3\",\"name\":\"climate change\"},{\"id\":\"4\",...</td>\n",
              "      <td>We've been told to go out on a limb and say so...</td>\n",
              "      <td>2694257</td>\n",
              "      <td>gQliI_WGaGk</td>\n",
              "    </tr>\n",
              "    <tr>\n",
              "      <th>4</th>\n",
              "      <td>55</td>\n",
              "      <td>1524</td>\n",
              "      <td>TED2006</td>\n",
              "      <td>14K</td>\n",
              "      <td>https://www.ted.com/talks/jehane_noujaim_my_wi...</td>\n",
              "      <td>2006-07-25T00:11:00Z</td>\n",
              "      <td>2006-02-26</td>\n",
              "      <td>[\"2228\",\"1476\",\"800\",\"2890\",\"45233\",\"2694\"]</td>\n",
              "      <td>[{\"name\":\"Jehane Noujaim\",\"occupation\":\"Filmma...</td>\n",
              "      <td>[{\"name\":\"English\",\"code\":\"en\"},{\"name\":\"Vietn...</td>\n",
              "      <td>Jehane Noujaim unveils her 2006 TED Prize wish...</td>\n",
              "      <td>My wish: A global day of film</td>\n",
              "      <td>[{\"id\":\"4\",\"name\":\"culture\"},{\"id\":\"6\",\"name\":...</td>\n",
              "      <td>I can't help but this wish: to think about whe...</td>\n",
              "      <td>489757</td>\n",
              "      <td>QCFSrb6B5nw</td>\n",
              "    </tr>\n",
              "  </tbody>\n",
              "</table>\n",
              "</div>\n",
              "      <button class=\"colab-df-convert\" onclick=\"convertToInteractive('df-df0db458-7f9b-45c8-8211-a48bf83f435a')\"\n",
              "              title=\"Convert this dataframe to an interactive table.\"\n",
              "              style=\"display:none;\">\n",
              "        \n",
              "  <svg xmlns=\"http://www.w3.org/2000/svg\" height=\"24px\"viewBox=\"0 0 24 24\"\n",
              "       width=\"24px\">\n",
              "    <path d=\"M0 0h24v24H0V0z\" fill=\"none\"/>\n",
              "    <path d=\"M18.56 5.44l.94 2.06.94-2.06 2.06-.94-2.06-.94-.94-2.06-.94 2.06-2.06.94zm-11 1L8.5 8.5l.94-2.06 2.06-.94-2.06-.94L8.5 2.5l-.94 2.06-2.06.94zm10 10l.94 2.06.94-2.06 2.06-.94-2.06-.94-.94-2.06-.94 2.06-2.06.94z\"/><path d=\"M17.41 7.96l-1.37-1.37c-.4-.4-.92-.59-1.43-.59-.52 0-1.04.2-1.43.59L10.3 9.45l-7.72 7.72c-.78.78-.78 2.05 0 2.83L4 21.41c.39.39.9.59 1.41.59.51 0 1.02-.2 1.41-.59l7.78-7.78 2.81-2.81c.8-.78.8-2.07 0-2.86zM5.41 20L4 18.59l7.72-7.72 1.47 1.35L5.41 20z\"/>\n",
              "  </svg>\n",
              "      </button>\n",
              "      \n",
              "  <style>\n",
              "    .colab-df-container {\n",
              "      display:flex;\n",
              "      flex-wrap:wrap;\n",
              "      gap: 12px;\n",
              "    }\n",
              "\n",
              "    .colab-df-convert {\n",
              "      background-color: #E8F0FE;\n",
              "      border: none;\n",
              "      border-radius: 50%;\n",
              "      cursor: pointer;\n",
              "      display: none;\n",
              "      fill: #1967D2;\n",
              "      height: 32px;\n",
              "      padding: 0 0 0 0;\n",
              "      width: 32px;\n",
              "    }\n",
              "\n",
              "    .colab-df-convert:hover {\n",
              "      background-color: #E2EBFA;\n",
              "      box-shadow: 0px 1px 2px rgba(60, 64, 67, 0.3), 0px 1px 3px 1px rgba(60, 64, 67, 0.15);\n",
              "      fill: #174EA6;\n",
              "    }\n",
              "\n",
              "    [theme=dark] .colab-df-convert {\n",
              "      background-color: #3B4455;\n",
              "      fill: #D2E3FC;\n",
              "    }\n",
              "\n",
              "    [theme=dark] .colab-df-convert:hover {\n",
              "      background-color: #434B5C;\n",
              "      box-shadow: 0px 1px 3px 1px rgba(0, 0, 0, 0.15);\n",
              "      filter: drop-shadow(0px 1px 2px rgba(0, 0, 0, 0.3));\n",
              "      fill: #FFFFFF;\n",
              "    }\n",
              "  </style>\n",
              "\n",
              "      <script>\n",
              "        const buttonEl =\n",
              "          document.querySelector('#df-df0db458-7f9b-45c8-8211-a48bf83f435a button.colab-df-convert');\n",
              "        buttonEl.style.display =\n",
              "          google.colab.kernel.accessAllowed ? 'block' : 'none';\n",
              "\n",
              "        async function convertToInteractive(key) {\n",
              "          const element = document.querySelector('#df-df0db458-7f9b-45c8-8211-a48bf83f435a');\n",
              "          const dataTable =\n",
              "            await google.colab.kernel.invokeFunction('convertToInteractive',\n",
              "                                                     [key], {});\n",
              "          if (!dataTable) return;\n",
              "\n",
              "          const docLinkHtml = 'Like what you see? Visit the ' +\n",
              "            '<a target=\"_blank\" href=https://colab.research.google.com/notebooks/data_table.ipynb>data table notebook</a>'\n",
              "            + ' to learn more about interactive tables.';\n",
              "          element.innerHTML = '';\n",
              "          dataTable['output_type'] = 'display_data';\n",
              "          await google.colab.output.renderOutput(dataTable, element);\n",
              "          const docLink = document.createElement('div');\n",
              "          docLink.innerHTML = docLinkHtml;\n",
              "          element.appendChild(docLink);\n",
              "        }\n",
              "      </script>\n",
              "    </div>\n",
              "  </div>\n",
              "  "
            ]
          },
          "metadata": {},
          "execution_count": 4
        }
      ]
    },
    {
      "cell_type": "code",
      "source": [
        "df.info()"
      ],
      "metadata": {
        "colab": {
          "base_uri": "https://localhost:8080/"
        },
        "id": "lQptDXto1A2L",
        "outputId": "d018fa57-27ba-42fa-a0be-3600a89a3e8b"
      },
      "execution_count": 5,
      "outputs": [
        {
          "output_type": "stream",
          "name": "stdout",
          "text": [
            "<class 'pandas.core.frame.DataFrame'>\n",
            "RangeIndex: 5631 entries, 0 to 5630\n",
            "Data columns (total 16 columns):\n",
            " #   Column              Non-Null Count  Dtype \n",
            "---  ------              --------------  ----- \n",
            " 0   _id                 5631 non-null   int64 \n",
            " 1   duration            5631 non-null   int64 \n",
            " 2   event               5630 non-null   object\n",
            " 3   likes               5631 non-null   object\n",
            " 4   page_url            5631 non-null   object\n",
            " 5   published_date      5631 non-null   object\n",
            " 6   recorded_date       5629 non-null   object\n",
            " 7   related_videos      5631 non-null   object\n",
            " 8   speakers            5631 non-null   object\n",
            " 9   subtitle_languages  5631 non-null   object\n",
            " 10  summary             5631 non-null   object\n",
            " 11  title               5631 non-null   object\n",
            " 12  topics              5631 non-null   object\n",
            " 13  transcript          4983 non-null   object\n",
            " 14  views               5631 non-null   int64 \n",
            " 15  youtube_video_code  5462 non-null   object\n",
            "dtypes: int64(3), object(13)\n",
            "memory usage: 704.0+ KB\n"
          ]
        }
      ]
    },
    {
      "cell_type": "code",
      "source": [
        "# check missing values\n",
        "print(f'Overall entries in dataset: {df.shape[0]}')\n",
        "\n",
        "# count number of missing values in all columns\n",
        "df.isnull().sum()"
      ],
      "metadata": {
        "colab": {
          "base_uri": "https://localhost:8080/"
        },
        "id": "P18okXbY1H0h",
        "outputId": "a5bf1337-27f1-4be5-e608-7aa459ecbbdd"
      },
      "execution_count": 6,
      "outputs": [
        {
          "output_type": "stream",
          "name": "stdout",
          "text": [
            "Overall entries in dataset: 5631\n"
          ]
        },
        {
          "output_type": "execute_result",
          "data": {
            "text/plain": [
              "_id                     0\n",
              "duration                0\n",
              "event                   1\n",
              "likes                   0\n",
              "page_url                0\n",
              "published_date          0\n",
              "recorded_date           2\n",
              "related_videos          0\n",
              "speakers                0\n",
              "subtitle_languages      0\n",
              "summary                 0\n",
              "title                   0\n",
              "topics                  0\n",
              "transcript            648\n",
              "views                   0\n",
              "youtube_video_code    169\n",
              "dtype: int64"
            ]
          },
          "metadata": {},
          "execution_count": 6
        }
      ]
    },
    {
      "cell_type": "markdown",
      "source": [
        "**Column 'transcript'** - Some of the talks contain dancing and singing, some also had their transcript removed, that's why we have so many missing values\n",
        "</br>\n",
        "**Column 'youtube_video_code'** - Talks are usually published in 2 places: official TED website and Youtube, but some videos weren't uploaded to youtube, hence we have missing values"
      ],
      "metadata": {
        "id": "Ng-0QUYg1LKZ"
      }
    },
    {
      "cell_type": "markdown",
      "source": [
        "### Let's take a deeper look at different columns"
      ],
      "metadata": {
        "id": "mrj6zEmn1PhJ"
      }
    },
    {
      "cell_type": "code",
      "source": [
        "fig, axes = plt.subplots(1, 2, figsize=(20, 6))\n",
        " \n",
        "fig.suptitle('Distribution of values in Duration column')\n",
        "\n",
        "sns.histplot(ax=axes[0], data=df, x='duration')\n",
        "sns.scatterplot(ax=axes[1], data=df, x='duration', y='_id')"
      ],
      "metadata": {
        "colab": {
          "base_uri": "https://localhost:8080/",
          "height": 454
        },
        "id": "uE9zDjFR1Hup",
        "outputId": "16362c84-75bb-437f-e01b-6c2cc3349462"
      },
      "execution_count": 7,
      "outputs": [
        {
          "output_type": "execute_result",
          "data": {
            "text/plain": [
              "<matplotlib.axes._subplots.AxesSubplot at 0x7f77612465d0>"
            ]
          },
          "metadata": {},
          "execution_count": 7
        },
        {
          "output_type": "display_data",
          "data": {
            "text/plain": [
              "<Figure size 1440x432 with 2 Axes>"
            ],
            "image/png": "[encoded data removed]"
          },
          "metadata": {}
        }
      ]
    },
    {
      "cell_type": "code",
      "source": [
        "df['duration'].describe(percentiles=[0.25, 0.5, 0.75, 0.95, 0.99])"
      ],
      "metadata": {
        "colab": {
          "base_uri": "https://localhost:8080/"
        },
        "id": "qZ1EfzJH1Hr8",
        "outputId": "7091059a-51ef-410d-d1f3-c1eeb015ebb3"
      },
      "execution_count": 8,
      "outputs": [
        {
          "output_type": "execute_result",
          "data": {
            "text/plain": [
              "count     5631.000000\n",
              "mean       707.691529\n",
              "std        521.179373\n",
              "min         60.000000\n",
              "25%        355.000000\n",
              "50%        682.000000\n",
              "75%        926.500000\n",
              "95%       1225.500000\n",
              "99%       2565.600000\n",
              "max      20404.000000\n",
              "Name: duration, dtype: float64"
            ]
          },
          "metadata": {},
          "execution_count": 8
        }
      ]
    },
    {
      "cell_type": "markdown",
      "source": [
        "\n",
        "There are some potential outliers, but majority of the talks have duration of under 1250 seconds\n",
        "***"
      ],
      "metadata": {
        "id": "qFAByjq91VNF"
      }
    },
    {
      "cell_type": "code",
      "source": [
        "fig, axes = plt.subplots(1, 2, figsize=(20, 6))\n",
        " \n",
        "fig.suptitle('Distribution of values in Views column')\n",
        "\n",
        "sns.histplot(ax=axes[0], data=df, x='views')\n",
        "sns.scatterplot(ax=axes[1], data=df, x='views', y='_id')"
      ],
      "metadata": {
        "colab": {
          "base_uri": "https://localhost:8080/",
          "height": 454
        },
        "id": "CS2urKIf1HpI",
        "outputId": "5ef50e53-6934-476a-b84f-b076a4d2d835"
      },
      "execution_count": 9,
      "outputs": [
        {
          "output_type": "execute_result",
          "data": {
            "text/plain": [
              "<matplotlib.axes._subplots.AxesSubplot at 0x7f77608c6c10>"
            ]
          },
          "metadata": {},
          "execution_count": 9
        },
        {
          "output_type": "display_data",
          "data": {
            "text/plain": [
              "<Figure size 1440x432 with 2 Axes>"
            ],
            "image/png": "[encoded data removed]"
          },
          "metadata": {}
        }
      ]
    },
    {
      "cell_type": "code",
      "source": [
        "# closer look at the distribution\n",
        "plt.figure(figsize=(20,8))\n",
        "plt.xticks(np.arange(min(df['views']), max(df['views']), 100000))\n",
        "hist = sns.histplot(x=df['views'].loc[df['views'] <= df['views'].mean()], bins=100)\n",
        "plt.show()"
      ],
      "metadata": {
        "colab": {
          "base_uri": "https://localhost:8080/",
          "height": 502
        },
        "id": "pcBDGzVm1Hdm",
        "outputId": "d3c25212-ed4b-4d66-b120-eaf727f47651"
      },
      "execution_count": 10,
      "outputs": [
        {
          "output_type": "display_data",
          "data": {
            "text/plain": [
              "<Figure size 1440x576 with 1 Axes>"
            ],
            "image/png": "[encoded data removed]"
          },
          "metadata": {}
        }
      ]
    },
    {
      "cell_type": "code",
      "source": [
        "df['views'].describe(percentiles=[0.25, 0.5, 0.75, 0.95, 0.99]).apply('{:.2f}'.format)"
      ],
      "metadata": {
        "colab": {
          "base_uri": "https://localhost:8080/"
        },
        "id": "oNE1qkDP1HHo",
        "outputId": "243f691c-d11c-4a7a-9abd-3be1fa4c7c1c"
      },
      "execution_count": 11,
      "outputs": [
        {
          "output_type": "execute_result",
          "data": {
            "text/plain": [
              "count        5631.00\n",
              "mean      2130394.21\n",
              "std       3679481.02\n",
              "min           587.00\n",
              "25%        678154.00\n",
              "50%       1392074.00\n",
              "75%       2182299.50\n",
              "95%       6440912.50\n",
              "99%      16493103.90\n",
              "max      73389142.00\n",
              "Name: views, dtype: object"
            ]
          },
          "metadata": {},
          "execution_count": 11
        }
      ]
    },
    {
      "cell_type": "code",
      "source": [
        "plt.figure(figsize=(15,8))\n",
        "sns.boxplot(x=df['views'])"
      ],
      "metadata": {
        "colab": {
          "base_uri": "https://localhost:8080/",
          "height": 519
        },
        "id": "9jMuuqy0cHRn",
        "outputId": "3a26c6d5-3f66-4909-bf04-3f10d08cb1dc"
      },
      "execution_count": 12,
      "outputs": [
        {
          "output_type": "execute_result",
          "data": {
            "text/plain": [
              "<matplotlib.axes._subplots.AxesSubplot at 0x7f775e4af390>"
            ]
          },
          "metadata": {},
          "execution_count": 12
        },
        {
          "output_type": "display_data",
          "data": {
            "text/plain": [
              "<Figure size 1080x576 with 1 Axes>"
            ],
            "image/png": "[encoded data removed]"
          },
          "metadata": {}
        }
      ]
    },
    {
      "cell_type": "code",
      "source": [
        "# interactive plot\n",
        "px.box(df, x='views', orientation='h')"
      ],
      "metadata": {
        "colab": {
          "base_uri": "https://localhost:8080/",
          "height": 542
        },
        "id": "togirF1zEr56",
        "outputId": "01b57ff0-2172-4934-f691-1efebc32cd53"
      },
      "execution_count": 13,
      "outputs": [
        {
          "output_type": "display_data",
          "data": {
            "text/html": [
              "<html>\n",
              "<head><meta charset=\"utf-8\" /></head>\n",
              "<body>\n",
              "    <div>            <script src=\"https://cdnjs.cloudflare.com/ajax/libs/mathjax/2.7.5/MathJax.js?config=TeX-AMS-MML_SVG\"></script><script type=\"text/javascript\">if (window.MathJax) {MathJax.Hub.Config({SVG: {font: \"STIX-Web\"}});}</script>                <script type=\"text/javascript\">window.PlotlyConfig = {MathJaxConfig: 'local'};</script>\n",
              "        <script src=\"https://cdn.plot.ly/plotly-2.8.3.min.js\"></script>                <div id=\"cfde0b72-ce3c-460e-99b9-e704d31562cd\" class=\"plotly-graph-div\" style=\"height:525px; width:100%;\"></div>            <script type=\"text/javascript\">                                    window.PLOTLYENV=window.PLOTLYENV || {};                                    if (document.getElementById(\"cfde0b72-ce3c-460e-99b9-e704d31562cd\")) {                    Plotly.newPlot(                        \"cfde0b72-ce3c-460e-99b9-e704d31562cd\",                        [{\"alignmentgroup\":\"True\",\"hovertemplate\":\"views=%{x}<extra></extra>\",\"legendgroup\":\"\",\"marker\":{\"color\":\"#636efa\"},\"name\":\"\",\"notched\":false,\"offsetgroup\":\"\",\"orientation\":\"h\",\"showlegend\":false,\"x\":[589115,3671801,2008487,2694257,489757,12138500,1405560,4280534,1095372,73389142,4821638,1370419,15365640,4203112,17020709,1259211,3375245,4846002,1131962,1872397,1460589,1157232,4637134,1329124,1420395,4251881,630036,20106571,2988934,1823617,4203816,688662,495933,7367189,9293810,1178410,2999591,2556536,2361129,987827,16200021,959468,1031593,1371361,548866,3065229,660907,907302,2245490,1464846,2255824,8069884,1801779,1678952,1014208,1309196,2017908,2850036,454243,1081062,2324166,1415903,3312915,7217308,860102,920704,4691237,601049,1742437,4429521,1832305,1869867,1018316,883124,1026147,1000673,853736,2516702,2193324,732113,4451530,2055812,2950748,676757,6533942,502465,2621442,825482,1805109,575351,706443,1475149,2018504,1939140,837140,596371,6524358,1177300,1172279,1747249,702401,6035179,2217156,719171,1098251,2235439,855803,488842,464862,595050,610382,779858,3930025,536239,1209162,2066224,796583,714770,738453,2325230,3424095,2243009,2331732,350805,854267,5476509,1388818,2657193,1189472,1403533,436802,1195847,1540232,951963,1582830,3632224,1928308,1716471,1846835,1440432,4336432,1409382,650582,1975254,809501,1114183,1513944,4345437,10265641,1963547,765850,1522637,491388,834134,5401048,16390193,849432,1498937,948227,1074309,5250539,1100477,1594829,1498844,9993335,2260696,2670642,551863,1971231,887994,3116616,1989230,558081,2457655,2395883,706166,5469892,825533,1826438,1246039,692451,747662,390692,1153945,786672,1890434,555211,546404,1230567,637394,2257202,1307935,865521,877461,867235,239342,787448,467786,1117493,2234876,551945,28392208,637314,7014369,409029,2299581,13440381,900319,2084244,319887,2022439,609924,726171,3335010,1739131,1380048,448433,933150,351013,3567990,1874365,1756296,450618,278868,1035409,1654072,638832,1016741,1105345,2062735,936982,2746165,1022931,1074125,582229,1341320,1159697,2200731,15615450,991760,4998220,876138,403433,239178,4307841,487142,2307250,6485306,7995411,658708,101960,1418417,370434,523712,898999,1267300,3018621,1156927,989110,6777802,1439472,343785,924360,4024942,1406740,1874257,329898,18686919,7174438,1657067,845603,752056,436443,1175491,387549,824668,2845229,1102548,428659,557904,828591,3131818,6015870,1478195,1973905,1302777,591525,295977,1330205,226059,2992798,1160712,642782,463118,1656727,1660376,712611,1071653,4222186,477643,482278,1457644,7816577,1394179,812627,266111,879268,417462,499033,3003290,1665340,229355,2070099,482918,434596,419791,1965407,2403333,402793,6953448,2089662,610546,241034,462601,324476,437796,374243,676959,324610,295387,656310,1081537,282334,609612,541745,2406048,1590622,1185719,590856,509265,671369,1597061,902060,801906,804139,620239,630669,5810899,309695,2316243,2259494,823825,1032547,401653,560751,529886,720385,1685348,696751,539774,985029,1292557,440418,1322672,471462,1607973,1174342,2947541,1016406,3656384,465807,485665,1405379,1385464,5220819,1161189,3385305,9887928,873615,510884,492228,1491517,922596,567883,453597,493754,20828029,4509801,689172,252648,603690,746270,1109587,1465779,1312878,1965620,847284,2205633,11463875,4792073,2342115,1817886,3902708,3898683,1987228,511681,3960547,755649,1508143,965397,7081525,1847937,305227,1171963,1916164,346977,1775830,413604,1147276,2976396,2701361,1410189,1337767,563645,758569,4122064,875254,1563309,629624,533385,496695,337699,938897,1590060,2580823,831622,1540368,1050493,970464,1342410,1026342,1176072,2527045,447564,1269165,1086244,1950080,1221877,7866105,38901968,1109607,643458,4123416,5084510,1398847,680451,1231233,695135,1067727,910817,337433,582497,672352,413554,2211618,741480,4643585,1244636,2031862,1343264,903208,906127,1913490,486967,508269,384272,2764270,1364494,1105982,829172,1276460,757833,829218,836598,727363,549906,3266210,1448591,1241152,8681075,840682,1469032,802226,5038686,724248,1629718,1018680,28548982,2291958,2006291,463490,884802,881690,380021,1083145,637876,1115720,884104,3504536,493970,1144650,2692850,1254007,9558813,1118459,979060,529254,3175083,1819957,577012,1638334,2208391,1030125,675595,3637354,1333851,1809765,31430731,7594094,963177,2960637,1140759,3473061,1551516,2196161,899667,908211,4054000,722309,1271845,1506352,1395304,1342976,1199349,1096579,1463589,455673,1083204,578295,608132,19286857,483589,1382750,2384643,967000,2230930,971431,769017,616921,2449705,675896,964744,1258589,603124,4978846,1226728,950633,381859,689945,771819,611252,2383301,638799,1061581,619104,850140,489447,494657,169541,903017,2396071,1968181,4479988,531231,828725,660270,668108,161518,482345,1724651,419172,56868,1154515,28715978,518626,1988967,594775,328094,795132,1035182,927707,1539034,983732,4072922,1584394,627127,612464,556205,868481,530325,904164,10409535,1893233,783531,2700481,8380154,725328,766151,809177,6380069,968986,879929,3448937,6762646,1080063,785511,692817,2323406,4142772,1157533,798799,648227,2489527,1263758,847801,803985,457321,500746,6252154,873123,924217,7100796,391851,1039214,819567,1425549,207385,1171991,1270698,812686,9865453,6815755,487290,1742513,615986,2306845,502102,1059816,2324078,1402863,916133,798884,636150,700429,6028846,331106,7267679,622464,620552,1986617,718730,710102,2606846,1534001,59273210,890931,798042,632005,1890715,992476,404528,2950300,3855422,1388432,5484510,2972888,457162,706412,1351033,10174851,1302570,1226374,722243,630016,440212,1913092,1675026,1806432,2056407,1205642,1609665,450350,1302322,1729754,1770879,2974997,997405,567062,1919253,886943,3404809,728472,956011,1104524,1233920,1092733,786085,459224,2083713,1684219,1621689,827087,575791,4668736,864312,2607566,874908,2558584,2910610,1002382,1313618,2807739,583839,3877663,240771,801287,378494,3473341,1262791,527453,1260048,361742,866126,1219932,7174503,961621,3600366,643778,616173,519048,601265,1683815,2597594,1752729,1041669,7520424,1783448,3367042,492791,427149,596835,1084534,660353,1953325,3370426,715100,877420,1356141,5500246,292625,558305,983066,1958370,122736,1135779,1230020,451546,1213972,1327469,1158635,376855,962689,4380686,1452187,1546212,391348,472127,2251510,319563,1603585,1825469,1012492,936482,784891,746279,1296625,636904,461540,967092,1355415,628833,544304,759346,1489169,1085209,369246,1926002,723309,1473669,1810431,2640008,637611,1214180,417631,552248,613666,6216172,1375296,2473891,2756875,1707037,646681,973559,706752,3364883,1709759,1118572,2371419,2613199,1444891,2476963,1000033,11384354,1450708,58566923,1224410,5678818,2395869,1413500,1066291,3423802,876542,2052174,1544032,1636968,1444876,1072633,622895,704427,585235,905268,4651785,617173,1487828,511137,532131,408298,867158,1598066,4031226,850444,5207783,1269919,478008,1011299,3389026,1066965,2577592,1052281,2440871,715542,13248367,2014382,1322191,1920349,723009,1885454,5302353,1642179,583711,8351876,1135464,1019554,1003967,1788293,1864851,6021614,1025719,766847,1645315,1844496,2513443,2568162,821006,6168695,758461,1519457,1165575,1831091,2129003,1623233,7998963,377131,1834183,741026,837528,1307837,928462,261092,983223,1930115,1540096,1683382,873663,3623500,2478791,524395,1302196,1993058,1062470,1656385,725520,1238665,906360,1011483,922023,2463056,829722,1030414,1929792,2317756,705967,935942,14390805,1648987,1126244,802128,572600,842467,853505,2188081,614622,1927415,3378144,4303538,8834863,854707,1633277,2226839,1023759,10608623,1320744,2767557,1871497,666143,2553763,1606709,1101060,454664,953985,1301438,6291492,1422561,1593837,912302,1111713,2045985,909565,680555,796308,1059235,1145708,1514590,1014478,1080739,833321,317562,1852608,2143238,955761,570509,1631933,1930701,815699,439069,3081598,916997,2149372,663625,5731785,9975744,1230382,587517,5115555,1171085,656756,32080845,1784054,4472940,1198612,586136,998690,835681,3741145,744662,2458866,617175,1013603,934316,1849110,1024873,2129448,1184345,298456,364241,885559,1014029,649950,1382486,3261377,397920,239471,8535257,8770921,13014842,1105604,840060,713955,930873,2447043,619968,1455076,2588737,2210275,1541493,2801555,581100,757794,2523939,195919,1491283,399930,1815462,939991,874061,812258,384374,351588,704850,1247261,840853,984375,416511,486785,326095,2378031,494948,2734537,622697,1040466,2210518,2877611,1185431,719626,190863,199356,531768,1080636,434911,3295899,375058,662529,116013,458751,3230385,1098388,1594809,3017604,4558184,290627,258610,1755935,1618274,728833,1819846,421988,839051,669428,700983,3105751,550470,1558517,816741,363268,4513327,24753736,712533,1203028,612247,4306958,250264,1258730,635321,385210,2865491,602811,313699,1333576,6832628,421152,790048,344125,5966974,1419932,880256,1950595,362546,8099587,3312713,1766226,3407817,1068954,1529491,27203660,275760,31322975,970466,7164841,1640361,974527,5389013,5152010,1199305,377646,2472949,2801681,1445682,3189519,3267528,703549,955051,1192351,1614118,17276247,204295,3788514,319344,1788159,1308195,1420396,190846,1433110,1390497,1064489,1487299,1852358,3445749,386424,7262206,7365077,1296380,2195199,2653626,1682021,761800,5208298,228735,705640,1452029,7169015,601743,716530,1063165,3433018,1549121,1134443,3915740,1748972,395042,993958,5440979,1133973,828463,4545288,926910,2292731,3151240,1944001,319417,6320695,355371,260319,1356162,396716,988628,1796126,205602,1876169,737942,918964,1358635,1088829,682668,1227763,993231,2057949,4805312,729240,786948,1022668,187020,2664317,5951328,577695,12931970,1662854,249778,4262446,1909088,588559,1347932,982620,3293350,683737,1244729,3079929,1037800,1719184,4273750,5409174,851862,1066173,357857,1034709,725549,817248,609153,720102,756316,791150,2761653,812831,1382099,1245748,1862407,1847304,1393504,1815714,885005,912827,834413,1144934,4694729,3597107,7693645,1465664,813712,2127621,1148202,932807,918437,649155,2705139,3349313,1749590,5667510,2866950,1289718,994000,980540,923883,907785,28218377,1266076,5685106,1585555,565744,1128524,1381499,776806,2073764,1507554,1748778,1452081,1449906,759216,2890105,1271541,914004,4513593,958365,253777,883448,2999351,1854597,1116165,648404,971155,1323328,747449,1702354,3829757,1386747,799180,1902329,1115675,2694819,1237422,65331931,844504,3056129,2020795,604673,704648,1102013,800669,1692627,1273619,1514902,2291072,1283047,1207932,1443967,1655610,1185727,1659215,1107581,1106400,2783997,1209781,1180003,601589,2090911,738981,783253,1291822,3528706,403982,2160999,8744779,1372559,2773565,2104972,1101815,11368043,565657,1176800,1845911,820884,1130612,990802,906895,3980659,8824495,2546864,2317357,528212,588244,1451249,1277385,724182,1113037,1036540,1447129,713237,1029873,752872,5957353,1048605,1394651,8379100,800962,1758744,1080173,1167956,1494260,1389021,866965,832306,4762379,1774000,1146012,2139168,1893119,2206083,1933630,1093472,1596382,5941408,2787965,19780246,3687839,1238718,1308154,1481218,657106,2605742,1169826,742839,1781854,1357054,442202,693270,2522637,1225465,1363818,1058385,1378871,1218059,1984110,2061619,1261087,2010098,1907398,1345068,591883,957650,38728687,1071733,2896855,19730838,3393425,558984,1368995,1152758,6147636,670600,1146984,7254246,2714287,984450,860612,13357686,1730507,524377,3142884,1593968,53991,1076598,2124838,1785115,12788701,800898,916173,5203942,476918,2715676,1824312,3220064,1176304,153800,3977,176457,5437,6866,2919984,2756190,5314647,2161456,1412796,1075983,1458582,1996871,914932,8100664,23464556,1666448,3750709,4231191,8313,8356597,7439322,1588413,952264,1253558,11068,50859,6083,17282,3539430,1588728,7217660,1816098,15575929,3251645,822946,6595,11534,11244,19778,1937475,372623,2764926,1587794,1421604,1148162,1259392,1392074,953356,100950,1656217,1132320,1196939,1538058,8847,685293,2953406,1572904,8707,1473479,1186997,1332374,1567520,1387141,2103725,888904,1211570,1262005,9311416,2169029,2187537,2584860,4539501,12105205,2842723,3306895,2015731,1607852,1481363,936548,2426345,4841601,5228352,3647494,1904100,26975884,226708,1664944,5957246,556176,2944356,2971236,12748617,2186073,1027007,13991994,461580,1646524,2144072,2832705,846695,4113261,1119889,789368,892417,976228,671254,562460,483106,879886,996434,3405796,1181590,2121798,3177894,1183250,6031551,3034528,698861,1440441,1342800,3667627,654848,15503828,3455601,1050057,1644192,1497032,468644,2439227,1678170,2087221,3370561,4966286,364114,2670637,164176,1143160,541093,6220144,5559778,1263740,1529879,1637725,1005660,5075755,1589143,14160115,816930,1965358,1723555,1582922,693792,3175635,1430242,2169818,1769714,2815140,4693269,624336,1402343,1340477,608455,1478343,1927546,2167926,5312681,2230763,1432566,1450005,3338974,2521357,769817,1877751,9101268,216080,2621493,2755732,1444352,2396171,785702,1383344,5037263,2305368,2289034,1219153,5951014,1358086,3586738,5686006,35236928,1534398,871991,738967,1272239,1375124,971336,1863268,37422,1163217,1147413,1087143,872600,2792080,1806111,1853571,806456,5548721,1635537,1941129,1852126,8627997,1438511,1189828,3039694,5325764,4201152,108563,4589461,2288623,760320,29351029,2322081,451305,2865716,1211424,1633807,834115,1422719,742194,1323340,2112671,31625341,1789469,3147471,1150003,1417698,774185,882121,5755075,4388386,3137335,1807157,4670801,2885364,4788120,8508767,911959,1869474,2975616,8342257,1937080,1641780,2665431,2398514,1051641,1584274,818319,867909,1052414,1340743,809240,1299335,1650431,1482334,3038168,1279533,1322732,2442258,2246387,1071056,1058054,681425,1360333,1180035,106155,2542514,2521314,1786067,598512,1016988,8601,19412,6027,16016,5389,6591,15898,7555,1757835,2338553,8385266,2661389,1132037,1104065,906995,1256980,677253,819267,3223977,1276552,1085934,2635923,1185533,3448258,8693587,1001762,12480655,1722001,2116662,1343603,961409,1824753,1227341,731425,2623473,1292731,1647798,905664,1544834,12701259,1148100,1574770,3849257,6254444,1780079,2992213,11711778,1592130,968389,14342618,5181652,1257451,6662547,1374167,1793590,1447164,1133306,2962806,1211930,22836766,3091061,2450359,1245328,7862,65837,8902,34809,4935,20917,29720,10180,3980198,2802735,1597821,1869681,1151056,1097248,1052026,4101650,1767270,1328289,905417,740973,2147731,1157309,970792,1461731,1209383,999033,4559893,1314561,2016348,6159239,2337616,2877238,1576827,919172,523286,807885,6686694,1434790,1246917,1065083,1790693,928720,842533,2313017,1473915,4397304,2303722,1556833,2654338,1158513,990379,924437,5772802,11647558,1000025,697960,1279775,2755275,2805117,1124817,1937855,1060183,1585571,16431555,3635926,1344477,813516,1909485,5069634,2527750,1163921,1531259,2632329,3051214,9538394,891462,1167176,2923054,5135632,2623098,1431848,1471136,1257040,2982662,1342608,2814542,1110992,7836503,5729421,4362318,516103,9394417,704618,1242829,1345640,874134,1737661,4676949,3424092,1097899,4034901,6583938,4927144,1626317,1513243,689658,6756975,1506213,2134468,17152167,1307499,3712596,7505268,1347294,2013904,4220062,1179550,1616915,1046948,2697770,3768571,2610646,7029009,1467479,1309836,831846,4017542,2774308,1150363,1196543,1309313,1914328,2063949,9136692,5229793,659767,1845649,1719857,3415605,1626519,1540026,1241154,50793260,1139703,1047573,2989516,7408758,1366318,3546553,2362421,2113437,1927604,1658261,1528646,6354042,1755527,3342130,1391722,866296,1358886,546021,5277858,1587564,12886301,6426036,1841310,1265832,955190,2100878,1888924,2706711,1207122,954629,2317404,2529097,6223030,1217156,770871,1570606,1765614,2033113,1068260,1314142,751467,4367679,1096214,1581626,1665810,9494718,1453846,3897322,1400889,953081,6550610,976271,6227179,1602115,2153937,1275746,4519247,2054928,21066,10144,7629,13066,3766,14612,44467,69558,7668,20266,30282,2703514,1219335,880866,1897456,1517960,2190461,1864159,827785,4320096,866559,1357060,1562358,1049787,1714367,1350328,1474554,2709109,5561814,4378089,1365177,6964984,1356964,1444954,1170032,1418711,2238968,1470541,1372111,1308988,1587310,1197140,2258184,1283580,1600875,1156953,8963154,1542590,924151,3299346,2661982,2242832,1946738,1105740,5604226,1333724,2295089,2227585,8319391,1128374,2701990,1982187,7335,7808,216028,21048,190135,88559,86839,47604,69014,10056,26737,15126,6603,24671,1100356,1873381,3001854,1687872,4149753,3436796,1170749,21804142,1187019,2042906,1804990,945379,856864,757637,2432995,2019521,4643084,1378901,4505076,2682389,13812346,1348466,1080620,9509,44214,10513,19509,12276,34049,7589,5689,29320,12062,57233,381680,2149366,121782,41952,8526,101780,8120,101393,9850987,2114421,439152,1522044,5937637,2836038,2568043,1606283,861159,1368428,982708,2006151,1080657,1005086,816517,2364241,1722474,1045657,3365103,1450439,807409,1343034,868575,1485281,1389256,2204727,1227284,9655944,3231519,3729969,1318914,1174232,3751185,4594922,1893543,5598531,12684336,9899492,1007566,1182706,1371616,2190942,1240438,802925,1079717,2253163,865659,1133836,1474111,1723136,1885665,8576957,1234236,1260318,4047089,1578532,1990997,2727952,4006727,1212752,2845617,1588808,3379545,4198764,499470,20849700,2954997,1854748,2592401,1327326,2257476,1348645,1607499,2610175,4186191,1510359,44071656,5730802,2034475,2074557,1382488,1061422,1442480,5679487,2078868,1323872,1977622,1624332,5130128,1672982,4009240,4537397,1106119,5166925,1151142,13002299,4453589,2175281,2047587,992043,1511473,5358756,1446997,1375078,2854324,1360898,2785936,5904197,5916250,6849367,1442836,1562552,7038461,1572887,10652359,1159253,20030356,2229425,1190126,2608719,1565270,1682855,9963068,2039046,3590230,1360499,2383736,5711977,1805208,4381426,1672781,1746522,3418235,3985205,13863377,1888652,1354943,2615710,1991640,2096108,15035188,1949331,2696078,2177838,1752334,1784944,1204129,2867554,1429622,19568842,1710484,2144280,3980167,1938850,2444002,1194699,4903088,1591678,4377839,5192806,5046788,1674468,8617987,10599315,2267310,2830123,3170556,876291,1299908,2073799,2024251,1865984,2445320,2388750,2546158,1147194,3253022,1193775,2281402,1502370,1480275,20062987,5742744,3739726,1726147,139227,6501,14244,53187,222338,11498,116360,37616,50454,13361,57286,36012,3679814,15289804,1075413,1324593,2010903,2624005,2626262,4294284,5810074,7387467,1631295,1279180,4609757,1573391,2696090,1098460,2599750,3351339,1319987,2699232,2900040,8389955,1325978,25023906,1675338,2771376,12890051,7333065,1129617,2422228,2010657,1769196,1353725,1223094,4939847,16131762,3890391,1748538,6208867,1613561,859381,405251,1852461,2095659,1004745,2298465,19901907,40069,85820,35947,10041,20672,68977,52427,18718,22591,84088,46978,5593,1019114,1776988,3407,244737,7061,13977,146475,66981,10674,22220,26787,6139,25599,18941730,1503576,2857010,1551025,2765400,6090451,1642565,1551319,13651756,883782,2323912,1337205,3130490,1164130,2522877,8724203,1838242,4670818,3537308,587,11925892,959335,1580078,1473286,5132088,1157644,2115800,1964507,1801932,1938593,7665402,4802173,1661061,2399223,23432398,1561036,4294787,1219919,1443929,1799523,582327,42700299,2721094,1702912,1832873,1226598,4111212,5404861,1250542,1807869,2776671,1223367,2013996,1654719,934443,1892922,1841403,3351679,2511153,1166666,1166595,2082212,1827934,2144721,9757299,2259393,17956235,1659977,4724935,1208914,1665423,1594056,861999,1336194,6302021,1493791,3481112,26979266,3165428,5347880,2804179,10140959,2300547,8362357,12326129,1957327,1297368,1774792,1186721,1498214,1834252,1040497,1966793,6062918,1842972,1091411,5298318,2264879,2831390,1980786,62253756,9202705,1551795,1349715,1819482,3647020,2561084,3328824,1111836,3899979,2808397,10839518,1355496,18707662,1824635,2250540,678118,20103079,1099752,1294105,3302392,7858976,1127767,6935491,2013941,7020644,2298252,1656694,2883569,1238430,1474899,4253081,7248936,1939162,3804164,2161734,1850075,4087845,1778644,1363278,12093860,1139247,1291452,2025198,1575412,1078552,2083315,1041775,1488442,2131932,3225129,2849833,1246801,952519,2260884,13926875,786797,1464473,1348380,2907000,2267317,1521093,4203297,3489177,1644423,1253480,707872,12198627,1084338,5384162,1147215,1190716,2098835,2160229,1182034,1604066,3080879,1380250,2569335,1492386,1410014,1040445,1365380,950272,2102674,978402,1008498,16805478,14460272,1671867,16519482,1687677,976347,2106362,1859680,7595354,1279527,1030818,2121935,1106251,3752945,1967132,1736153,8876839,1534771,4257388,1540012,15648,22879,4148,93260,19792,8713,20990,3650487,3100227,1502771,994427,1125788,1586612,5580122,5290725,2840829,2886591,2372844,1934404,1009831,2008483,1461830,1948350,1237053,1067399,586162,2129254,1438407,741436,6936614,1626954,914595,2341913,1322984,3241655,1008231,4515296,2000351,2922751,1623784,1598057,2541911,6701878,1760810,1763714,2412900,1032714,1472070,2228883,2815040,1427292,1209325,1169621,2945793,1595536,1869099,684856,5804816,2292722,9956984,2278766,1038104,1161795,3535255,8832800,970342,5250863,1319115,1983130,1089241,3155642,752542,5092218,2061192,1534093,1841603,2429567,916140,4226707,4363405,4295400,1056787,1459554,34741,21105,44883,50607,6889,22871,13178,30198,17353,1570977,1010756,2050158,1647837,6472843,1909369,1151747,1706194,780354,1081412,2118832,2256578,1272608,1350278,1155572,5250309,4516912,1488620,2064822,1670490,3874203,1734085,980982,3245490,7258005,3564305,1237922,320569,1452897,1696443,6196101,910161,1745224,1710057,1164343,9502135,2085826,1213276,807401,1009190,1854436,1781795,1458086,12924294,695855,1887803,2423835,1291115,1333167,1472574,946598,1650847,2576955,8205884,9477672,1019096,1814846,2630435,2920120,1756196,1475352,1383921,4840982,1498602,3432798,2305609,2002682,1009973,2896343,1717902,4118699,1773462,1742095,7475695,1463602,1247395,1062023,2074976,4197280,13476852,2169417,7288069,6268960,1092441,2476709,13248703,1191719,1038834,7232212,3049619,1652221,1323072,1187261,2971578,3791845,11636552,1050639,1414524,1160596,1233195,12921919,978869,1512217,1821235,1057074,1273679,2191780,10657141,2110194,1299399,1560426,1971780,7295099,1356427,1485036,4371389,8482032,636646,763412,2261062,1087917,4585798,1748177,7516148,1000706,5547480,1186143,2168507,1486309,1510908,1759964,1632959,846588,1141958,11021962,3566215,1088111,5723702,568720,1796669,1360643,2628590,6315995,1428400,1175176,1006669,4959609,6358276,1473489,1411303,1784281,3000809,6563502,5315751,2931403,1507585,5592387,1096988,3847054,2651305,7856706,30500144,9525517,1539134,2681705,2715197,1270191,1496867,2416372,1947599,1277055,11476281,3863955,1552712,5795017,2503092,1633743,3571146,2291310,1439477,3878886,917583,1285058,8717870,1133077,2477748,1622256,9148459,1905719,1250698,1428224,1589065,1980136,15157727,1932782,1566921,742604,3409653,3476158,6620057,4947993,11084750,2369809,1426432,1392397,1992771,1800092,1858576,1531962,1578831,1499435,1834960,2569978,1502568,2166169,713001,1490069,4327589,1335742,13302652,1925023,2138825,1524544,2472141,1516757,3196948,1900952,1774206,1395331,4842451,1860975,1009230,1296549,2710380,2152062,3025017,1781415,2149889,331039,1513569,1317403,6280879,931722,1399776,3226756,1375708,3116610,1272440,1581248,1250780,1208557,1492013,1629545,1028831,1318175,927369,1212958,1712887,1305609,1014488,1455847,1199939,1287083,4117020,731631,1438420,2529219,1205761,12410836,1868281,1251785,30049,20528,7234,16204,21317,9813,16908,161381,1846983,1824990,1224912,1334538,1185153,1212499,1232234,1305619,4676486,1517464,2656670,1312152,1182355,1405735,1185489,4544103,2772335,561082,1742853,1296325,2657823,1820789,1707061,1304207,4342637,1145768,2019613,1836112,6126830,2462546,4942906,1520493,1649074,1004086,1585237,512908,1299321,1489813,1193495,1078715,2045037,3385978,1028060,3318511,1352740,1658498,1258106,1128035,4923834,1734768,1714785,1111996,662542,1447840,4892627,18511,10425632,1813332,1315219,1241246,8528,1438356,1871121,1126523,1034860,1293030,3945721,57768,81767,1034601,3271222,1268357,3175857,1276195,38090,1647003,1647867,41146,2275796,1295768,50892,178626,1520261,1351460,1666501,970779,8457678,8161651,38989,42851,26815,34180,8565,4572050,542987,1509742,29255,1569144,1298065,1324078,9562,134093,581443,1276524,13931,1379457,1279762,1198989,1352238,1937210,3803403,62489,666722,4427266,1110411,159490,29723,4709708,3988408,1177814,1024035,1570858,1048551,2866124,5683408,1077196,6619025,1293915,28615,1200338,3715826,1195703,40981,8066,17728,89658,8371,17435,14139,22932,952646,21419,56940,1048375,1082203,1001951,27491,1020014,4115145,1372649,1318063,1333099,1423100,1198041,2372718,2175337,3614064,1165664,1403926,1558030,9374,1397752,504341,2134800,1229687,1672012,1257047,9856931,1051617,7649,4556,3225,20954,3366,28450,16279,4858,3679183,24709,978853,1410154,1070684,1233612,14062922,2580625,1036482,1123190,58464,1173310,946109,232769,3253355,72663,33731,6158,8633,6591,12948,23459,20804,5819,91824,11025,15706,14055,20338,25575,74131,2571,1133669,7760,73758,7933,12449,144501,13828,25127,20889,39204,12920,3507,36831,17174,102704,7345,11554,10224,13576,8083,7028,2771,29512,7691,11461,13266,35506,92360,3899,3185930,1723204,3088702,932611,13976,128359,44920,11420,50767,14087,8954,14729,44248,2358,1264712,2315135,1207687,4744425,1096799,1473444,965674,1614409,2578814,1309532,4255830,1009974,14925950,9651,1027635,1463244,992305,1927326,1396422,1069808,1628273,1293548,2640628,1157087,1338631,55176,1782732,280038,1165665,1414677,169485,1643410,1336887,1397520,724753,584391,837219,608246,575398,460599,2701108,4421069,1351678,570882,1417224,1200301,1033733,988724,1237588,942639,1616603,1034088,340377,5228637,1569192,1245315,1190216,1034698,20321338,29430996,9474461,44560660,4426547,38007674,945257,1289785,1311044,4525300,1322323,354126,1269958,1388471,21323,51842,28555,15726,20337,1466805,1301132,1241066,1255544,1093149,18351549,1046620,3525476,2686101,12764,12725,6894,14543,1123844,1433664,1492947,1287868,4161976,2487809,3616347,1124036,1009185,1643167,997985,1347930,184116,3600248,4457824,1362373,1165009,1204523,1206233,4092324,5687891,8104,1618287,981377,80520,1179279,4304735,1412637,294365,3015019,4511689,994749,1205119,1347378,1308507,1230929,473285,4592466,2958101,1260681,34830,19732,1209291,2577398,2954029,52018,5484,4447677,162348,13291,1528873,1505861,1286278,1582820,2252553,6306,1343923,1459883,2246767,1305617,1313964,1762810,101989,2865715,1320642,21390,1405001,66359,1464003,7447206,1314877,1073310,446777,408263,643797,694721,3143422,2352648,1737289,1725690,1491016,1517924,5079127,8700,1274846,4363639,676863,2847391,3767103,1730323,41067,849568,1485107,2189363,1766928,119676,1385328,7426946,1489838,2854482,1437964,1900512,1256525,273968,91335,9228626,14835,4447184,2728199,1182291,1668759,1533939,574021,12902975,163287,6505126,1560161,1461275,3658806,1911992,393388,2457506,1943483,1245721,1439438,1521310,1549260,1616132,1059142,2017688,731663,1446357,1803445,48451,64884,1898327,70657,1866348,2145503,18064,1027408,1462701,1543810,22236,26042,36378,120820,33160,207851,138944,6016211,50425,6273587,5618603,598387,42088,4783,313267,2143364,1404646,1664980,15788,2529125,2202076,1612132,3320738,71113,3113901,1777084,2174957,1659501,3619703,2638894,4088666,1409398,2393676,3234207,1444608,1338665,2944525,1841805,1482478,260423,1679406,1678840,699495,1342379,2234403,33589,2339155,3867122,869924,1416545,1433427,488032,4444913,2620392,1932443,1633994,3242199,2159308,406308,2260539,1589579,26728,8668,391440,21501,671057,1415330,2549747,317779,1571403,1948514,1544422,2138831,1569294,2448514,776602,230808,1490106,1269023,19172445,1913311,3817926,8943304,699730,540668,936312,1393514,2032792,4142751,5595776,5724200,1483824,166285,11855,69240,7453,31794,6255,5983,13045,4168,2419090,315994,2320440,196698,1785658,16308275,1686671,4149794,207117,2602246,4980246,2414120,44654,1728002,1477775,1801525,2456699,1235476,1544227,265138,1786858,816597,958909,2122133,1432150,6380604,1748735,244142,550901,470044,3620582,688053,1581891,1178666,6013061,8766,50401,67620,88347,1766157,788829,3350335,2626850,758466,639752,207322,40004,1883122,16766,11604968,1944742,2382369,1799280,1812334,2694158,1682250,4288417,1506425,189485,907104,3042566,1657981,1509991,1812741,1877000,1944681,1786024,1753800,1518185,40948,1691753,6932315,1901679,1850501,1512975,3306509,286676,3029450,1092209,48406,1928050,3377,2306482,1592806,56993,5534744,4535111,2012402,56066,25777,39044,4812717,1827969,1739601,1902945,2380640,4071,2029396,644817,1722545,1703380,1822507,45723,3255439,1784936,11694,1908448,3378128,1753703,6455789,67564,11454,353856,78957,1738962,1753745,1108371,1645785,20173,81898,8999,38930,3731,59531,6066248,2493832,1773695,783081,434267,1891859,1751663,845615,1966762,2327274,2311718,1499770,13466,1287745,1958895,2504860,2304111,1060683,6659446,2887881,2459849,12530,7878,29941,44302,851876,1435085,1886929,7588,2544632,7498,1518750,361272,2792562,1445028,127709,1775359,4705838,1803058,260943,13259752,3994524,3369537,583099,4980889,3888,1735226,4995,304087,660183,1661430,468391,131445,2098939,2714568,3276854,1919197,2706587,446328,1230845,2699795,6858204,14159856,135864,3729714,1699835,12565046,2353664,1857978,1661772,1923883,54780,2658928,3242765,4743905,67960,3175417,668867,797594,4041639,13508,1375,5154,9414,2596,8081,16365,9356,28952,4013,8831,1966795,7085874,1985748,1911635,1962607,2238277,193016,1857216,836539,40787,28817,1927322,2768351,1564392,754269,399649,621571,1057282,179829,5400693,2448544,2451760,2765869,6147062,2082985,9067,1457681,23566,2780345,1863386,2011148,1795787,655168,271815,355261,1104351,315206,3710770,1923144,1433093,75193,1115393,2557764,970865,2024595,2457162,2331691,572610,1622911,26305,1302046,2224912,1964104,32775,1063013,1901330,6351,3308344,552752,2109514,197460,133063,394726,12918,125449,309328,2199291,2157963,2081393,349671,2311557,1267084,1973683,2198289,447381,3942669,1657521,5377,375675,1770785,3583585,1767184,15526,1806968,970065,2465092,129246,85138,26669,249818,1619245,460976,2217953,40684,6714124,1940103,2013447,22298,344851,1686525,1924718,4813793,481329,165087,474836,26278,239856,3128565,4624888,2019346,3061817,1344105,180734,2296631,1944308,6271942,357588,291632,1934608,2508712,1532071,910938,529547,2526728,2408434,18706,16538,26881,14790,2808231,1955980,52761,2019640,1567845,304778,2017743,1790900,495073,2389991,5471109,378747,21386,1819372,476705,2028064,45917,50140,3062657,836042,6306901,7589,1812068,2420575,1879737,1963547,1988103,23305,2220694,1205184,563446,4380365,2038440,42721,2352369,3758587,2056756,1876204,2391360,2639737,1334344,931375,4771527,845768,2067307,3470158,2761441,4186831,6727314,3325024,1901255,2519012,794415,2149272,683886,35915,348110,612684,1166684,931662,15667,1947556,5449894,2478133,2250092,13870,4564192,1896108,17207,16807926,708550,480636,727551,3356108,2798020,757665,1766231,9709531,6841631,1796695,650447,456378,2430519,4378721,618090,1444516,9663,58452,43807,820810,3120326,11424,2016906,2333207,36492,362834,2360664,465270,8214,13313,9434,2985,7136,10425,15303,48282,10453,9855,13914,20315,5385794,1902681,611744,264351,2248524,943767,332222,1240889,42866,29162,26702,659046,556181,7845824,644604,4834868,475142,2981328,797270,1938132,2700759,190051,2086868,889208,2528667,11911,3412286,8925,14652,6512,1865219,1357111,8553,9174,79335,450480,46627,3165507,56783,2139639,2165491,542759,2358754,2686298,4751016,390008,546254,3257667,770640,7879,2583798,853747,2223423,12699,1421916,3099706,4045433,2195972,100385,1963016,52239,465377,129811,707787,2630170,40578,891022,1822661,1856279,3798543,55557,3510701,240153,4094058,803940,801812,2032034,2462168,2392330,369326,2040962,1206467,1944353,2326455,1994062,2771205,384778,2699418,31684,1971946,127898,3701529,472798,3487943,2102105,4161437,3839507,2495262,1965129,217958,4466,56525,33884,87008,3375499,967246,3817379,3428540,1525822,852326,1215957,1640313,412008,1400666,815741,81519,4485,343598,278519,6748830,1676010,2056183,1443129,38853,2592456,2282894,623978,2276316,924401,2500839,1779921,1913118,4363924,3941360,2639092,4743969,2042464,59022,1956212,1488900,3305498,489725,2321420,35769,2582784,248358,2274515,249226,1969410,412433,4343750,3453851,2802831,139541,7574748,1688858,5083362,351092,2601535,2282733,524852,1465484,1905362,15275440,2508236,2427423,666543,3244663,1795498,3160585,1796778,3405295,624240,1966909,1888839,4693062,627715,255421,2250255,336053,1485232,1958722,1955443,1236109,1449558,3777998,193738,1649209,2121008,80747,1845305,3043927,523914,1905240,1649064,2928825,1290431,2030306,1792189,2470377,1460396,299371,56877,4786,6106,2229908,657805,1831485,1857608,2085327,45158,1815079,28709,1849923,2054883,496266,385785,38041,414921,374087,1249800,63405,1997884,3060664,3371837,2057463,2023565,1815244,2744158,2071689,57927,424655,30091,19879,9341,2073852,38696,29808,26500,54009,497786,2390724,1969316,2069954,1941096,31310,10429,2116092,2228197,4165060,5503696,2606104,1554154,1283432,538776,61637,238131,1438760,2375589,2079744,8235,5670,10124,2065050,429752,2105945,500868,1794624,1849808,288740,2856306,456079,2264622,10356,237398,517152,2744175,2174058,2224366,56704,20633,2497439,4081149,14959,1895768,549930,265952,3368241,6298204,2023586,2187821,9806,2257400,8063852,2892340,219457,286969,1891764,516209,3440867,159896,2320881,348834,8226766,2078044,2033384,2318875,4804276,2071378,2369766,4399242,2475878,40637,524241,2327405,25984,1910686,2124367,2480076,424170,2187930,2514371,2953411,1710632,3431071,16300,2535740,239676,2216025,4255911,2441876,2204973,12502,10683,2559388,2137277,3596790,4144442,2549199,2130041,5462580,1510151,2480255,2349853,928126,236199,2219262,439720,3335394,2401635,3615694,2312647,635324,2370999,429487,2694706,1975531,2022146,57356,124210,2292560,4409815,1309244,3109686,82151,334243,993487,2553440,2160397,1629067,2131455,3708888,18505,13450,12808,34270,13475,8884,4975,3085,1365,3358,1927041,22478,86427,2569972,831139,2810587,1867705,540112,2351331,330655,438844,429951,62604,2325269,426960,360277,573151,404158,2342078,493376,2461973,1991242,10379,50413,1160388,711739,886395,1690076,747691,288339,834692,721775,235829,29583,1085976,2343177,1313686,2434845,1692578,3321443,474033,33104,2261084,478160,348600,370176,374415,2028488,712778,397053,327551,1407593,1621287,1612527,503323,681832,3322082,705865,31359,339766,1235590,2171269,1343712,2175492,857856,2360795,3052046,2147250,1985221,466440,3563928,2184193,2180406,3169716,1498210,2362647,401830,2040947,2452564,361167,1659780,1967405,500220,1481596,3752977,2726111,1542429,1516239,2235471,6748295,74248,452511,2308419,1807876,1018805,1025143,3608645,1994562,418156,533849,2120769,1838216,1215547,2410044,1590021,706453,2825751,368483,3492593,2026929,8673432,3095301,8803783,2450838,1289156,639311,16976,33629,4790,3140605,358283,1984405,357067,1723091,1133039,343742,2488556,2317611,2217555,31601,2952649,2130172,2208355,1593070,2171739,1568805,2069379,339956,2981072,258615,8021931,2370526,7862,252221,1023398,449505,479733,532357,3634918,490888,2503551,641355,116870,442110,57341,2184941,587874,376004,2074838,2039407,2215348,2914864,547622,299938,1843772,2293361,1013172,2048631,2050032,389600,396178,287938,5291911,1970681,1883904,5147918,2725782,2138027,2475044,2223414,1887154,845949,3216038,12226,1928970,1181741,2582930,1431903,2247192,799705,3615197,678190,131078,2375888,2028662,304588,1999792,307815,2422618,2118173,2230696,752482,2155559,1901659,539745,2230835,602444,2072573,428757,8934,9691,2253571,45411,7121813,1908308,343378,299787,48247,337858,9519,1416173,2521701,741118,450563,2506457,247894,389760,131721,1260249,184212,183422,1022848,311794,1934960,2935959,2232486,978691,2019894,2225895,8873,25975,5225511,1168813,11080,2813238,202890,328428,417568,425449,2619346,3371595,528419,3471616,595653,542184,105978,429672,1191947,2069144,339958,268290,1846420,2079165,736538,2377287,2761082,620143,9208,1951098,1887626,257992,2493566,2139779,269810,4632355,265541,1834613,1222899,897834,4435295,289658,2365481,2452789,15407,15974,230606,4814008,227857,208330,1898068,2042591,611120,191211,255879,2077077,4209,1932415,1554284,205550,1645329,802169,1802555,831266,1539142,2108604,1764014,2992474,1846403,58722,230575,1820112,2677907,236265,1088124,1728909,1121197,223186,24226,26821,1717024,214774,259026,4182369,604413,1942895,195922,900653,61713,1545008,136211,797540,2634851,1874255,1903938,1298008,1098477,401478,1749844,413878,1526112,3423823,1669566,691812,1995879,373233,1035189,55499,392452,7346,5147,1735268,5994869,49181,969444,145910,683224,481100,1844588,536598,1878128,48331,475597,1927769,670058,2165478,519093,968557,1785999,306206,3945957,1900454,3081,176118,836223,2391138,2076656,1809933,2138468,45343,1783700,638369,1927966,1932276,1853246,1768805,1787018,2282247,2992,2003460,2194787,1533321,415943,1654353,581607,387987,7629564,3411,1728755,621677,2507255,1940557,2364763,1861656,1969139,303106,345657,4286,1670806,255325,1575362,401371,2505784,300130,7542976,1712240,265502,1122926,304022,1710982,1567753,3957633,188941,2929,160043,277695,247417,251450,122136,183075,276813,1384960,230959,214245,55113,81583,134134,1458202,109967,173761,17076,122390,904603,1717426,1837741,1772076,1624824,2319863,1619638,1991267,1002242,1649,24330,9476,6411,5689,11847,1566436,1865269,1459531,550275,1530325,483917,1562733,1379024,4305473,189522,183345,704373,1712228,1285507,1616915,1516654,362119,655153,209054,6927506,960110,1681556,2964903,230579,330457,1390947,731330,1503113,1415372,8706,1694530,416061,1555216,2424747,307732,1770408,360554,1607299,31903,283186,1483175,2934487,2333182,1719047,717250,17694,6640,1672220,997027,1673317,1365983,322001,602086,1538088,981535,1706,1613377,1570653,1630132,1714029,342720,1452047,672233,482770,1794402,358405,3232,226899,1502163,1792618,1640702,1468335,2206418,1508376,1620619,568996,15221,412350,1637631,2329212,650720,1370918,2201918,1611242,1483538,867835,1650132,1444751,284520,1450503,1369022,1598875,298501,1377325,351446,1380489,1926606,1215963,751556,1076538,1508068,1247592,1424174,628209,2118415,1389764,2397091,842199,103242,1479873,1490253,1653605,1333061,1323809,481913,1532043,4383070,1863235,1431400,3226,101661,1373649,570820,1458560,148712,1720341,1631313,874558,1366333,1832,1430112,846312,1362457,318644,1654345,249508,580422,1187998,6171,1812470,1500901,1765036,1315199,346283,247911,327932,1630169,1710165,1693410,1523019,504720,10908544,1579205,406131,1321737,1445622,229020,3320988,1655791,394322,1688424,1471968,315443,1282810,314085,2126499,1584761,15333,29786,1722958,707111,1540430,1241389,269324,1269397,1372326,1528258,1209897,1470284,2086365,1577260,651182,522901,1418788,1266559,268291,1240110,36716,1495505,1231300,406307,1350521,1405290,449018,1825056,1288727,1362177,260404,1282810,399428,2556335,1675707,3106319,1222367,1852534,488323,1370498,968371,1362770,1309198,1083769,1113950,189303,1282562,635010,1438434,613587,1415535,288424,1149349,1367928,904693,1288578,1886330,1532106,1324312,851039,4890,945180,1337111,4026678,1168927,2351817,1284595,1286041,3560181,2285197,1005329,1190494,1285836,549305,1433622,849923,2252578,1261117,600683,1012868,6402,1429474,413468,1149339,851932,352775,1648797,4080238,1340702,1518651,1324417,378352,1381302,1259907,758247,1807253,1374161,310064,179433,224667,1223861,2007909,2577741,1007155,1208265,3213624,1659955,1251603,1288826,1317573,1517227,2310365,46672,1528785,1991190,1242653,495153,1336376,1371376,2030766,1739466,265127,1480536,1274793,2874843,1303675,1998209,350964,4845893,1498032,1375622,873969,1504609,1512557,436055,1498327,774087,492871,1242714,1516442,1615233,673965,1556372,1589479,3470090,1599892,1528540,829935,371047,1651573,2060101,2286704,1671157,3574625,1528589,1223933,3834732,1892913,1581098,1338995,300036,1828377,1533011,1683867,48429,792185,2936452,1817762,2015741,1314681,1605754,3642404,1204353,1775686,1654934,1068289,1919399,857524,2022941,1676580,1659363,2563243,8148130,1511747,951059,3786912,1697827,797559,1672362,443808,1685698,1753615,2248851,513403,1964599,1933660,797470,1926109,1685505,2003013,2419986,1617953,1743947,283004,1451801,754791,322232,475827,1717262,1687049,539333,1789356,451808,2848601,559460,3008119,498113,2169780,1934343,709994,1986849,1890462,40525,598840,1980432,1795944,2200220,2169777,2052605,2093368,34560,1797864,1340501,1767169,2554512,889054,2043345,3080092,1030336,1943500,1805213,2155138,333442,1841479,2189869,2213015,1621182,2068448,44095,1674552,774465,2170551,1836235,6716,530215,1739152,1827906,1710273,2090511,1595662,334053,64106,1858592,1299379,1602175,3297256,166386,515338,2100558,729704,1694870,408075,1757997,430946,1562572,1811450,1585393,1402448,45363,219978,1669224,411715,16527,1747413,1601724,1817709,1820956,2023669,1793379,1571187,356105,6151386,335298,1991077,469409,520731,2271994,438374,1885634,32667,1679709,506526,1826752,1711097,1711806,339029,1677275,448601,539973,2061831,944390,1460747,1489520,1567052,247595,1683204,1196998,1793674,1755101,2459353,281998,1723618,375590,3862,7493,594673,1639496,1732749,498865,1827876,8130,559474,1763331,1704650,299750,1664907,609524,451121,336945,441628,1734792,368606,343235,576777,2086042,538082,2169431,2116598,1615533,1872827,1799822,757236,405076,1685437,2165303,6609,1656195,733864,1848383,6255,3460,1253087,1681099,1932071,1789031,1722453,1826769,5325,1703822,1521873,417738,1803804,1817892,625188,1531674,1685285,1808040,1704637,2015712,1603368,431546,799421,14713,1904758,1850308,1533767,13750,1615536,1889706,1155440,1751675,1612943,1747005,149487,1631852,34524,2492364,1761096,48091,12837,1970820,2506404,21409,2064792,1643534,1395465,1596699,1590259,891091,1671663,1665725,1784674,1485798,826167,78126,1599588,1603828,553898,1765069,1500460,341361,1651693,527108,1523280,449139,1611903,726535,1586489,25233,7380,277695,1460173,751524,1640673,29309,1497754,1869344,283745,384353,1585175,273017,1488374,889026,1413567,5023,1496406,1544708,634702,1485630,1431988,572883,1509147,1427381,674967,3356,1370308,1508612,377201,1304755,6587965,1463942,468992,1546978,1892688,1803,1443489,1098064,1351534,1387036,1369264,1036134,7356,1357246,3339473,1298708,1354604,1425101,621194,1271088,1435131,527943,1385926,1315793,1267868,1572697,493595,1547207,1194463,944183,1297164,357144,1287489,692681,1295337,1276427,1137768,4224,1164235,22337,28810,488216,1057323,390193,1462338,1338301,1155669,1066701,1202198,1511790,549144,1268556,36987,1373488,1027513,12266610,9480336,1659186,1229147,1083967,577232,1131632,2122551,693846,1020477,572211,1468212,378754,1061289,281292,997499,947207,464561,1056887,1012148,463590,29411,1013246,946120,984642,1062176,1091194,1042858,636126,1323271,939943,312845,906554,894983,1042580,179997,1164794,872686,940734,752174,302828,1529129,882860,931678,1443706,866419,866322,1026657,797441,428995,912963,844267,828928,442868,963892,999678,637176,868873,1019253,979127,440968,752110,767699,938240,780334,1513417,701157,781764,886225,782128,257782,916624,662110,661044,445766,705298,708179,1034732,559779,144765,168351,617427,336169,555398,358861,555504,561445,634765,549010,518302,589752,613664,262823,541744,611226,7949,555815,432791,169244,462830,218765,507380,102885,448407,363861,269168,519190,195168,356620,412825,240375,151529],\"x0\":\" \",\"xaxis\":\"x\",\"y0\":\" \",\"yaxis\":\"y\",\"type\":\"box\"}],                        {\"template\":{\"data\":{\"bar\":[{\"error_x\":{\"color\":\"#2a3f5f\"},\"error_y\":{\"color\":\"#2a3f5f\"},\"marker\":{\"line\":{\"color\":\"#E5ECF6\",\"width\":0.5},\"pattern\":{\"fillmode\":\"overlay\",\"size\":10,\"solidity\":0.2}},\"type\":\"bar\"}],\"barpolar\":[{\"marker\":{\"line\":{\"color\":\"#E5ECF6\",\"width\":0.5},\"pattern\":{\"fillmode\":\"overlay\",\"size\":10,\"solidity\":0.2}},\"type\":\"barpolar\"}],\"carpet\":[{\"aaxis\":{\"endlinecolor\":\"#2a3f5f\",\"gridcolor\":\"white\",\"linecolor\":\"white\",\"minorgridcolor\":\"white\",\"startlinecolor\":\"#2a3f5f\"},\"baxis\":{\"endlinecolor\":\"#2a3f5f\",\"gridcolor\":\"white\",\"linecolor\":\"white\",\"minorgridcolor\":\"white\",\"startlinecolor\":\"#2a3f5f\"},\"type\":\"carpet\"}],\"choropleth\":[{\"colorbar\":{\"outlinewidth\":0,\"ticks\":\"\"},\"type\":\"choropleth\"}],\"contour\":[{\"colorbar\":{\"outlinewidth\":0,\"ticks\":\"\"},\"colorscale\":[[0.0,\"#0d0887\"],[0.1111111111111111,\"#46039f\"],[0.2222222222222222,\"#7201a8\"],[0.3333333333333333,\"#9c179e\"],[0.4444444444444444,\"#bd3786\"],[0.5555555555555556,\"#d8576b\"],[0.6666666666666666,\"#ed7953\"],[0.7777777777777778,\"#fb9f3a\"],[0.8888888888888888,\"#fdca26\"],[1.0,\"#f0f921\"]],\"type\":\"contour\"}],\"contourcarpet\":[{\"colorbar\":{\"outlinewidth\":0,\"ticks\":\"\"},\"type\":\"contourcarpet\"}],\"heatmap\":[{\"colorbar\":{\"outlinewidth\":0,\"ticks\":\"\"},\"colorscale\":[[0.0,\"#0d0887\"],[0.1111111111111111,\"#46039f\"],[0.2222222222222222,\"#7201a8\"],[0.3333333333333333,\"#9c179e\"],[0.4444444444444444,\"#bd3786\"],[0.5555555555555556,\"#d8576b\"],[0.6666666666666666,\"#ed7953\"],[0.7777777777777778,\"#fb9f3a\"],[0.8888888888888888,\"#fdca26\"],[1.0,\"#f0f921\"]],\"type\":\"heatmap\"}],\"heatmapgl\":[{\"colorbar\":{\"outlinewidth\":0,\"ticks\":\"\"},\"colorscale\":[[0.0,\"#0d0887\"],[0.1111111111111111,\"#46039f\"],[0.2222222222222222,\"#7201a8\"],[0.3333333333333333,\"#9c179e\"],[0.4444444444444444,\"#bd3786\"],[0.5555555555555556,\"#d8576b\"],[0.6666666666666666,\"#ed7953\"],[0.7777777777777778,\"#fb9f3a\"],[0.8888888888888888,\"#fdca26\"],[1.0,\"#f0f921\"]],\"type\":\"heatmapgl\"}],\"histogram\":[{\"marker\":{\"pattern\":{\"fillmode\":\"overlay\",\"size\":10,\"solidity\":0.2}},\"type\":\"histogram\"}],\"histogram2d\":[{\"colorbar\":{\"outlinewidth\":0,\"ticks\":\"\"},\"colorscale\":[[0.0,\"#0d0887\"],[0.1111111111111111,\"#46039f\"],[0.2222222222222222,\"#7201a8\"],[0.3333333333333333,\"#9c179e\"],[0.4444444444444444,\"#bd3786\"],[0.5555555555555556,\"#d8576b\"],[0.6666666666666666,\"#ed7953\"],[0.7777777777777778,\"#fb9f3a\"],[0.8888888888888888,\"#fdca26\"],[1.0,\"#f0f921\"]],\"type\":\"histogram2d\"}],\"histogram2dcontour\":[{\"colorbar\":{\"outlinewidth\":0,\"ticks\":\"\"},\"colorscale\":[[0.0,\"#0d0887\"],[0.1111111111111111,\"#46039f\"],[0.2222222222222222,\"#7201a8\"],[0.3333333333333333,\"#9c179e\"],[0.4444444444444444,\"#bd3786\"],[0.5555555555555556,\"#d8576b\"],[0.6666666666666666,\"#ed7953\"],[0.7777777777777778,\"#fb9f3a\"],[0.8888888888888888,\"#fdca26\"],[1.0,\"#f0f921\"]],\"type\":\"histogram2dcontour\"}],\"mesh3d\":[{\"colorbar\":{\"outlinewidth\":0,\"ticks\":\"\"},\"type\":\"mesh3d\"}],\"parcoords\":[{\"line\":{\"colorbar\":{\"outlinewidth\":0,\"ticks\":\"\"}},\"type\":\"parcoords\"}],\"pie\":[{\"automargin\":true,\"type\":\"pie\"}],\"scatter\":[{\"marker\":{\"colorbar\":{\"outlinewidth\":0,\"ticks\":\"\"}},\"type\":\"scatter\"}],\"scatter3d\":[{\"line\":{\"colorbar\":{\"outlinewidth\":0,\"ticks\":\"\"}},\"marker\":{\"colorbar\":{\"outlinewidth\":0,\"ticks\":\"\"}},\"type\":\"scatter3d\"}],\"scattercarpet\":[{\"marker\":{\"colorbar\":{\"outlinewidth\":0,\"ticks\":\"\"}},\"type\":\"scattercarpet\"}],\"scattergeo\":[{\"marker\":{\"colorbar\":{\"outlinewidth\":0,\"ticks\":\"\"}},\"type\":\"scattergeo\"}],\"scattergl\":[{\"marker\":{\"colorbar\":{\"outlinewidth\":0,\"ticks\":\"\"}},\"type\":\"scattergl\"}],\"scattermapbox\":[{\"marker\":{\"colorbar\":{\"outlinewidth\":0,\"ticks\":\"\"}},\"type\":\"scattermapbox\"}],\"scatterpolar\":[{\"marker\":{\"colorbar\":{\"outlinewidth\":0,\"ticks\":\"\"}},\"type\":\"scatterpolar\"}],\"scatterpolargl\":[{\"marker\":{\"colorbar\":{\"outlinewidth\":0,\"ticks\":\"\"}},\"type\":\"scatterpolargl\"}],\"scatterternary\":[{\"marker\":{\"colorbar\":{\"outlinewidth\":0,\"ticks\":\"\"}},\"type\":\"scatterternary\"}],\"surface\":[{\"colorbar\":{\"outlinewidth\":0,\"ticks\":\"\"},\"colorscale\":[[0.0,\"#0d0887\"],[0.1111111111111111,\"#46039f\"],[0.2222222222222222,\"#7201a8\"],[0.3333333333333333,\"#9c179e\"],[0.4444444444444444,\"#bd3786\"],[0.5555555555555556,\"#d8576b\"],[0.6666666666666666,\"#ed7953\"],[0.7777777777777778,\"#fb9f3a\"],[0.8888888888888888,\"#fdca26\"],[1.0,\"#f0f921\"]],\"type\":\"surface\"}],\"table\":[{\"cells\":{\"fill\":{\"color\":\"#EBF0F8\"},\"line\":{\"color\":\"white\"}},\"header\":{\"fill\":{\"color\":\"#C8D4E3\"},\"line\":{\"color\":\"white\"}},\"type\":\"table\"}]},\"layout\":{\"annotationdefaults\":{\"arrowcolor\":\"#2a3f5f\",\"arrowhead\":0,\"arrowwidth\":1},\"autotypenumbers\":\"strict\",\"coloraxis\":{\"colorbar\":{\"outlinewidth\":0,\"ticks\":\"\"}},\"colorscale\":{\"diverging\":[[0,\"#8e0152\"],[0.1,\"#c51b7d\"],[0.2,\"#de77ae\"],[0.3,\"#f1b6da\"],[0.4,\"#fde0ef\"],[0.5,\"#f7f7f7\"],[0.6,\"#e6f5d0\"],[0.7,\"#b8e186\"],[0.8,\"#7fbc41\"],[0.9,\"#4d9221\"],[1,\"#276419\"]],\"sequential\":[[0.0,\"#0d0887\"],[0.1111111111111111,\"#46039f\"],[0.2222222222222222,\"#7201a8\"],[0.3333333333333333,\"#9c179e\"],[0.4444444444444444,\"#bd3786\"],[0.5555555555555556,\"#d8576b\"],[0.6666666666666666,\"#ed7953\"],[0.7777777777777778,\"#fb9f3a\"],[0.8888888888888888,\"#fdca26\"],[1.0,\"#f0f921\"]],\"sequentialminus\":[[0.0,\"#0d0887\"],[0.1111111111111111,\"#46039f\"],[0.2222222222222222,\"#7201a8\"],[0.3333333333333333,\"#9c179e\"],[0.4444444444444444,\"#bd3786\"],[0.5555555555555556,\"#d8576b\"],[0.6666666666666666,\"#ed7953\"],[0.7777777777777778,\"#fb9f3a\"],[0.8888888888888888,\"#fdca26\"],[1.0,\"#f0f921\"]]},\"colorway\":[\"#636efa\",\"#EF553B\",\"#00cc96\",\"#ab63fa\",\"#FFA15A\",\"#19d3f3\",\"#FF6692\",\"#B6E880\",\"#FF97FF\",\"#FECB52\"],\"font\":{\"color\":\"#2a3f5f\"},\"geo\":{\"bgcolor\":\"white\",\"lakecolor\":\"white\",\"landcolor\":\"#E5ECF6\",\"showlakes\":true,\"showland\":true,\"subunitcolor\":\"white\"},\"hoverlabel\":{\"align\":\"left\"},\"hovermode\":\"closest\",\"mapbox\":{\"style\":\"light\"},\"paper_bgcolor\":\"white\",\"plot_bgcolor\":\"#E5ECF6\",\"polar\":{\"angularaxis\":{\"gridcolor\":\"white\",\"linecolor\":\"white\",\"ticks\":\"\"},\"bgcolor\":\"#E5ECF6\",\"radialaxis\":{\"gridcolor\":\"white\",\"linecolor\":\"white\",\"ticks\":\"\"}},\"scene\":{\"xaxis\":{\"backgroundcolor\":\"#E5ECF6\",\"gridcolor\":\"white\",\"gridwidth\":2,\"linecolor\":\"white\",\"showbackground\":true,\"ticks\":\"\",\"zerolinecolor\":\"white\"},\"yaxis\":{\"backgroundcolor\":\"#E5ECF6\",\"gridcolor\":\"white\",\"gridwidth\":2,\"linecolor\":\"white\",\"showbackground\":true,\"ticks\":\"\",\"zerolinecolor\":\"white\"},\"zaxis\":{\"backgroundcolor\":\"#E5ECF6\",\"gridcolor\":\"white\",\"gridwidth\":2,\"linecolor\":\"white\",\"showbackground\":true,\"ticks\":\"\",\"zerolinecolor\":\"white\"}},\"shapedefaults\":{\"line\":{\"color\":\"#2a3f5f\"}},\"ternary\":{\"aaxis\":{\"gridcolor\":\"white\",\"linecolor\":\"white\",\"ticks\":\"\"},\"baxis\":{\"gridcolor\":\"white\",\"linecolor\":\"white\",\"ticks\":\"\"},\"bgcolor\":\"#E5ECF6\",\"caxis\":{\"gridcolor\":\"white\",\"linecolor\":\"white\",\"ticks\":\"\"}},\"title\":{\"x\":0.05},\"xaxis\":{\"automargin\":true,\"gridcolor\":\"white\",\"linecolor\":\"white\",\"ticks\":\"\",\"title\":{\"standoff\":15},\"zerolinecolor\":\"white\",\"zerolinewidth\":2},\"yaxis\":{\"automargin\":true,\"gridcolor\":\"white\",\"linecolor\":\"white\",\"ticks\":\"\",\"title\":{\"standoff\":15},\"zerolinecolor\":\"white\",\"zerolinewidth\":2}}},\"xaxis\":{\"anchor\":\"y\",\"domain\":[0.0,1.0],\"title\":{\"text\":\"views\"}},\"yaxis\":{\"anchor\":\"x\",\"domain\":[0.0,1.0]},\"legend\":{\"tracegroupgap\":0},\"margin\":{\"t\":60},\"boxmode\":\"group\"},                        {\"responsive\": true}                    ).then(function(){\n",
              "                            \n",
              "var gd = document.getElementById('cfde0b72-ce3c-460e-99b9-e704d31562cd');\n",
              "var x = new MutationObserver(function (mutations, observer) {{\n",
              "        var display = window.getComputedStyle(gd).display;\n",
              "        if (!display || display === 'none') {{\n",
              "            console.log([gd, 'removed!']);\n",
              "            Plotly.purge(gd);\n",
              "            observer.disconnect();\n",
              "        }}\n",
              "}});\n",
              "\n",
              "// Listen for the removal of the full notebook cells\n",
              "var notebookContainer = gd.closest('#notebook-container');\n",
              "if (notebookContainer) {{\n",
              "    x.observe(notebookContainer, {childList: true});\n",
              "}}\n",
              "\n",
              "// Listen for the clearing of the current output cell\n",
              "var outputEl = gd.closest('.output');\n",
              "if (outputEl) {{\n",
              "    x.observe(outputEl, {childList: true});\n",
              "}}\n",
              "\n",
              "                        })                };                            </script>        </div>\n",
              "</body>\n",
              "</html>"
            ]
          },
          "metadata": {}
        }
      ]
    },
    {
      "cell_type": "markdown",
      "source": [
        "Plots showcase a large amount of outliers, we'll remove extreme cases later when cleaning data\n",
        "***"
      ],
      "metadata": {
        "id": "ep5SDc_v1ash"
      }
    },
    {
      "cell_type": "code",
      "source": [
        "df['event'].value_counts()"
      ],
      "metadata": {
        "colab": {
          "base_uri": "https://localhost:8080/"
        },
        "id": "NekLrpmn1aJO",
        "outputId": "6e2ebe1e-3c6f-4af3-de2c-7301d49cf6f0"
      },
      "execution_count": 14,
      "outputs": [
        {
          "output_type": "execute_result",
          "data": {
            "text/plain": [
              "TED-Ed                  865\n",
              "TED2018                 104\n",
              "TED2020                 102\n",
              "TED2019                 101\n",
              "TED2017                  97\n",
              "                       ... \n",
              "TEDxIndianapolis          1\n",
              "TEDSalon NY2015           1\n",
              "TEDxSouthBank             1\n",
              "TEDxMuncyStatePrison      1\n",
              "TEDxSeattleWomen          1\n",
              "Name: event, Length: 630, dtype: int64"
            ]
          },
          "metadata": {},
          "execution_count": 14
        }
      ]
    },
    {
      "cell_type": "code",
      "source": [
        "plot = px.scatter(df['event'].value_counts())\n",
        "plot.update_layout(xaxis_title=\"Event\", yaxis_title=\"Count\")\n",
        "plot.show()"
      ],
      "metadata": {
        "colab": {
          "base_uri": "https://localhost:8080/",
          "height": 542
        },
        "id": "Am-DKW7cZgdb",
        "outputId": "173265cc-d9bb-44a2-c762-b2ee44fc9cc4"
      },
      "execution_count": 15,
      "outputs": [
        {
          "output_type": "display_data",
          "data": {
            "text/html": [
              "<html>\n",
              "<head><meta charset=\"utf-8\" /></head>\n",
              "<body>\n",
              "    <div>            <script src=\"https://cdnjs.cloudflare.com/ajax/libs/mathjax/2.7.5/MathJax.js?config=TeX-AMS-MML_SVG\"></script><script type=\"text/javascript\">if (window.MathJax) {MathJax.Hub.Config({SVG: {font: \"STIX-Web\"}});}</script>                <script type=\"text/javascript\">window.PlotlyConfig = {MathJaxConfig: 'local'};</script>\n",
              "        <script src=\"https://cdn.plot.ly/plotly-2.8.3.min.js\"></script>                <div id=\"5845cfeb-a938-4dfe-81d7-ba5a071ca63e\" class=\"plotly-graph-div\" style=\"height:525px; width:100%;\"></div>            <script type=\"text/javascript\">                                    window.PLOTLYENV=window.PLOTLYENV || {};                                    if (document.getElementById(\"5845cfeb-a938-4dfe-81d7-ba5a071ca63e\")) {                    Plotly.newPlot(                        \"5845cfeb-a938-4dfe-81d7-ba5a071ca63e\",                        [{\"hovertemplate\":\"variable=event<br>index=%{x}<br>value=%{y}<extra></extra>\",\"legendgroup\":\"event\",\"marker\":{\"color\":\"#636efa\",\"symbol\":\"circle\"},\"mode\":\"markers\",\"name\":\"event\",\"orientation\":\"v\",\"showlegend\":true,\"x\":[\"TED-Ed\",\"TED2018\",\"TED2020 \",\"TED2019\",\"TED2017\",\"TED2014\",\"TED2009\",\"TED2016\",\"TED2015\",\"TED2013\",\"TEDGlobal 2012\",\"TED2011\",\"TED2007\",\"TED2010\",\"TEDGlobal 2011\",\"TEDGlobal 2013\",\"TEDGlobal 2009\",\"TED2012\",\"Countdown\",\"TED@IBM\",\"Countdown Summit\",\"TED2008\",\"TEDMonterey\",\"TEDGlobal 2010\",\"TED@UPS\",\"TEDGlobal 2017\",\"TEDGlobal 2014\",\"TEDSummit 2019\",\"TED2022\",\"TED2006\",\"TEDWomen 2018\",\"TEDxMileHigh\",\"TEDxMidAtlantic\",\"TED@BCG\",\"TEDxBeaconStreet\",\"TED Residency\",\"TEDWomen 2019\",\"TEDWomen 2021\",\"TED2005\",\"TEDWomen 2017\",\"TEDIndia 2009\",\"TEDWomen 2010\",\"TED2003\",\"TEDSummit\",\"The Way We Work\",\"TED2004\",\"TED@Merck KGaA, Darmstadt, Germany\",\"TEDxSydney\",\"TEDWomen 2015\",\"TED Salon Brightline Initiative\",\"TED@State Street Boston\",\"TEDGlobal 2005\",\"TEDGlobal 2007\",\"TED2002\",\"TEDWomen 2016\",\"TEDNYC\",\"TED@BCG Berlin\",\"TEDWomen 2020\",\"TEDxRiodelaPlata\",\"TED Talks Live\",\"TED@BCG Paris\",\"Mission Blue Voyage\",\"TED@Intel\",\"We the Future\",\"TED@BCG Toronto\",\"TED Membership\",\"TED@Westpac\",\"Sleeping with Science\",\"TED Fellows: Shape Your Future\",\"TED@BCG London\",\"TEDMED 2020\",\"TED@BCG Milan\",\"Small Thing Big Idea\",\"TED Connects\",\"TEDxExeter\",\"TED@Tommy\",\"TED@State Street London\",\"TED@BCG San Francisco\",\"TEDxStanford\",\"EG 2007\",\"TEDGlobal>London\",\"TED@NAS\",\"TED@Unilever\",\"TEDxSummit\",\"TEDxCambridge\",\"TEDMED 2018\",\"TEDCity2.0\",\"TEDSalon NY2013\",\"TEDMED 2009\",\"TEDSalon NY2014\",\"TED@BCG Mumbai\",\"TEDMED 2017\",\"TEDMED 2016\",\"TEDMED 2014\",\"TED Audio Collective\",\"TED@NYC\",\"TEDMED 2012\",\"TEDxUniversityofNevada\",\"TEDSalon Berlin 2014\",\"TEDxCERN\",\"TEDxLondon\",\"Am I Normal? with Mona Chalabi\",\"TEDGlobal>Geneva\",\"TEDxUSC\",\"TEDxPSU\",\"TEDWomen 2013\",\"TED@PMI\",\"TED@WellsFargo\",\"TEDMED 2013\",\"TED@DuPont\",\"Your Money and Your Mind\",\"TEDxBrussels\",\"TED Talks Education\",\"TEDxVienna\",\"TEDxBoulder\",\"TEDxNewYork\",\"TED Studio\",\"TEDGlobalLondon\",\"TEDMED 2015\",\"Serious Play 2008\",\"TEDxSeattle\",\"TEDxRainier\",\"EG 2008\",\"Mission Blue II\",\"TEDxCaltech\",\"TEDGlobal>NYC\",\"Body Stuff with Dr. Jen Gunter\",\"Countdown Global Livestream\",\"TEDxMarin\",\"TEDxBerkeley\",\"TED en Espa\\u00f1ol en NYC\",\"TEDxLondonWomen\",\"TEDxWomen 2011\",\"TEDSalon London 2010\",\"TEDYouth 2014\",\"TEDMED 2011\",\"TED Fellows Retreat 2015\",\"How to Deal with Difficult Feelings\",\"TEDxHousesOfParliament\",\"TEDxBoston 2012\",\"TED1998\",\"TEDxSanFrancisco\",\"DIY Neuroscience\",\"TEDSalon London Fall 2012\",\"TED Salon: Radical Craft\",\"TEDxSMU\",\"TEDxWomen 2012\",\"TEDxOhioStateUniversity\",\"TEDxOslo\",\"Taste3 2008\",\"TED Salon Border Stories\",\"TED-Ed Weekend\",\"TEDxSaltLakeCity\",\"TEDxManhattanBeach\",\"TEDxBoston 2011\",\"TEDSalon London Spring 2011\",\"TEDxWarwick\",\"INK Conference\",\"TEDSalon NY2011\",\"Build Back Better\",\"TEDxDublin\",\"TED Salon: Belonging\",\"TEDxEast\",\"TED@Cannes\",\"TEDxTeen\",\"TED Countdown New York Session 2022\",\"TEDxGateway\",\"TEDxChristchurch\",\"TED Salon Samsung\",\"TEDYouth 2015\",\"TED Fellows Retreat 2013\",\"TEDxLondonBusinessSchool\",\"TED Salon American Family Insurance\",\"TEDxKC\",\"TED@State\",\"TEDxBoston\",\"Torchbearers\",\"TED Salon UNICEF\",\"TEDxAmsterdam\",\"TED Salon The Macallan\",\"TED Salon Novo Nordisk\",\"WorkLife with Adam Grant\",\"TEDSalon London Spring 2012\",\"TEDxRiga\",\"TEDxYouth@Sydney\",\"TEDxYouth@Beaconstreet\",\"TED Salon Doha Debates\",\"TED Talks India: Nayi Baat\",\"TEDxManchester\",\"TEDxMadrid\",\"TEDxColumbus\",\"TEDxUofM\",\"TED Salon Zebra Technologies\",\"TEDxToronto\",\"TEDxKyoto\",\"TEDxBend\",\"TED Salon U.S. Air Force\",\"The TED Interview\",\"TEDxCMU\",\"TEDxBloomington\",\"TEDxPittsburgh\",\"TEDxYYC\",\"TED Salon UNDP\",\"TEDxPhoenix\",\"TEDxPeachtree\",\"TEDxAustin\",\"TEDxVancouver\",\"TEDxChange\",\"TEDSalon NY2012\",\"TED Salon DWEN\",\"TEDxCanberra\",\"TEDxAtlanta\",\"TEDxToronto 2010\",\"TEDMED 2010\",\"TEDYouth 2011\",\"TED@New York\",\"TEDxThessaloniki\",\"TED2001\",\"TEDxMaastricht\",\"TEDSalon 2006\",\"Far Flung\",\"TEDxGreatPacificGarbagePatch\",\"TEDxPerth\",\"TEDxPenn\",\"TED Salon Optum\",\"TEDxUCLA\",\"Full Spectrum Auditions\",\"TEDxMidAtlantic 2013\",\"Business Innovation Factory\",\"TEDxMIT\",\"TEDxGroningen\",\"TEDxKlagenfurt\",\"TEDxGhent\",\"TEDxUCincinnati\",\"TEDxTC\",\"TED in the Field\",\"TEDxNashville\",\"TEDxRC2\",\"In the Green: The Business of Climate Action\",\"TEDxLSU\",\"TED Salon: Border Stories\",\"TEDxDayton\",\"TEDxPlaceDesNations\",\"TEDxBinghamtonUniversity\",\"TEDxManhattan\",\"TEDxMidwest\",\"TEDActive 2011\",\"TEDxCharlottesville\",\"TEDxCordoba\",\"TEDxMileHighWomen\",\"TEDxWrigleyville\",\"TEDxOilSpill\",\"TEDxPasadena\",\"TEDxUniversityofMississippi\",\"RSA Animate\",\"TEDxCU\",\"TEDxSanDiego\",\"TED Salon: Education Everywhere\",\"TED Salon Dell Technologies\",\"TEDxDanubia\",\"TEDxMidAtlantic 2017\",\"TEDxMinneapolis\",\"TED Salon Verizon\",\"TEDxBratislava\",\"Chautauqua Institution\",\"TEDxBerlin\",\"TEDxSkoll\",\"TEDYouth 2013\",\"TED@BCG Singapore\",\"TEDxAthens\",\"TEDxNYED\",\"TEDxGatewayWomen\",\"TEDxRotterdam 2010\",\"TEDPrize@UN\",\"TEDxNASA\",\"American Family Insurance\",\"TED@MotorCity\",\"TEDxAmoskeagMillyard\",\"TEDxRapidCity\",\"TED Talks India\",\"TED Global Idea Search 2021\",\"TEDxBristol\",\"TEDxToronto 2011\",\"TEDLagos Ideas Search\",\"TEDxHouston\",\"Stanford University\",\"TEDxVirginiaTech\",\"University of California\",\"TEDxNatick\",\"TED Dialogues\",\"TEDxRoma\",\"TEDxPortland\",\"TEDxFoggyBottom\",\"TEDxSFU\",\"TEDxTysons\",\"TEDxMontreal\",\"TEDxMtHood\",\"TEDxTelAviv 2010\",\"TEDxPennsylvaniaAvenue\",\"TEDxSydneySalon\",\"TEDxDU 2010\",\"TEDxZurich\",\"TEDxEuston\",\"TEDxIndianaUniversity\",\"Gel Conference\",\"TED Salon Education Everywhere\",\"TEDxCapeTownWomen\",\"TEDxDeExtinction\",\"TEDSalon London Fall 2011\",\"TEDActive 2014\",\"TEDxFondduLac\",\"TEDxToulouse\",\"TEDxGalway\",\"TEDxBroadway\",\"TEDxPortofSpain\",\"TEDxMet\",\"TEDxDePaulUniversity\",\"TEDxUofT\",\"TEDxTokyo\",\"TEDxStockholm\",\"TEDxPurdueU\",\"TEDxYouth@Manchester\",\"TEDxNaperville\",\"TEDxOgden\",\"TEDxTufts\",\"TEDxMaui\",\"TEDxSalem\",\"TEDSalon 2007 Hot Science\",\"TEDxDelft\",\"TEDxCSU\",\"TEDxBeaconStreetSalon\",\"TEDxZurich 2012\",\"TEDxSF\",\"TEDxGeorgetown\",\"TEDSalon 2009 Compassion\",\"TEDxAuckland\",\"TEDxKakumaCamp\",\"TEDxUF\",\"TEDxValladolid\",\"TEDxProvidence\",\"TEDxTarragona\",\"TEDxKrakow\",\"TEDxBoulder 2011\",\"TEDxDirigo\",\"TEDxParis 2010\",\"TED Masterclass\",\"TEDxCopenhagen\",\"TEDxBoise\",\"TEDxSantaCruz\",\"TEDxOrlando\",\"TEDxOshkosh\",\"TEDxInnsbruck\",\"TEDxCoventGardenWomen\",\"TEDxCesena\",\"TEDxLusakaStudio\",\"TEDxBellevue\",\"TEDxCapeMay\",\"TEDxUHasselt\",\"TEDxVillanovaU\",\"TEDxMcMinnville\",\"TEDxLeicester\",\"TED Salon Belonging\",\"TEDxWalthamED\",\"TEDxSingapore\",\"TEDxIEMadrid\",\"TEDxBerkshires\",\"TEDxAmsterdamWomen\",\"TEDxEastVan\",\"TEDxAarhus\",\"TEDxMalvern\",\"TEDxNantes\",\"TEDxMidAtlanticSalon\",\"TEDxParramatta\",\"TEDxJHU\",\"TEDxDebrecenUniversity\",\"TEDxSoMa\",\"TEDxTemecula\",\"TEDxProvincetown\",\"TEDxSalford\",\"TEDxTimberlaneSchools\",\"TEDxShimizu\",\"TEDxMonashUniversityMalaysia\",\"Currently\",\"TEDxNashvilleWomen\",\"TEDxBahiaBlanca\",\"TEDx SHORTS\",\"2021 US Presidential Inauguration\",\"TEDxGuangzhou\",\"TEDxOakland\",\"Conversations with People Who Hate Me\",\"Design Matters with Debbie Millman\",\"TEDxCherryCreekWomen\",\"TEDxSantaClaraUniversity\",\"taken for granted\",\"TEDxKeene\",\"TEDxUSN\",\"TEDxNewcastle\",\"TEDxEasthamptonWomen\",\"TEDxStCloud\",\"The Hartford\",\"TEDxTinHau\",\"TEDxTAMUSalon\",\"TEDxConnecticutCollege\",\"TEDxParcDuCinquantenaire\",\"TEDxNTU\",\"TEDxCambridgeUniversity\",\"TED Legacy Project\",\"Checking In with Susan David\",\"TEDxHerndon\",\"TEDxCambridgeSalon\",\"ZigZag\",\"TEDxDetroit\",\"TEDxQueensU\",\"TEDxFargo\",\"TEDxSHHS\",\"TEDxBrisbane\",\"TEDxUofSC\",\"TEDxUniversityofGlasgow\",\"TEDxJacksonville\",\"TEDxBasel\",\"TEDxSiouxFalls\",\"TEDxSandhillsCommunityCollege\",\"TEDxSuffolkUniversity\",\"TEDxSavannah\",\"TEDxTaipei\",\"TEDxCuauht\\u00e9moc\",\"TEDxUTAustin\",\"TEDxAlbertopolis\",\"TED and Minderoo Foundation\",\"TEDxSMCC\",\"TEDxNSU\",\"TEDxCreightonU\",\"TEDxNashvilleSalon\",\"TEDxClearBrookHighSchool\",\"Monday.com\",\"TEDxSSE\",\"TEDxJacksonHole\",\"TEDxUCSD\",\"TEDxWanChai\",\"TEDxMICA\",\"TEDxYouth@Valladolid\",\"TEDxUCIrvine\",\"TEDxFergusonLibrary\",\"TEDxStLouis\",\"TEDxYouth@M\\u00fcnchen\",\"TEDxUSU\",\"TEDxOxford\",\"TEDxUWA\",\"TEDxUofW\",\"TEDxWellington\",\"TEDxSaintThomas\",\"TEDxCUNY\",\"TEDxDoha\",\"TEDxEindhoven\",\"TEDActive 2015\",\"TEDxYouth@CEHS\",\"TEDxVictoria\",\"TEDxSussexUniversity\",\"TED@SXSWi\",\"TEDxSanJoseCA\",\"TEDxMonterey\",\"TEDxConcordiaUPortland\",\"TEDxNewy\",\"TEDxUW\",\"TEDxAsheville\",\"TEDxAmericanRiviera\",\"TEDxGrandRapids\",\"TEDxIslay\",\"TED1994\",\"TEDxSanMigueldeAllende\",\"TEDxNASA@SiliconValley\",\"TEDxMIA\",\"TEDxZurich 2011\",\"TEDxDU 2011\",\"TEDxOrangeCoast\",\"TEDxHogeschoolUtrecht\",\"TEDxABQ\",\"TEDxWaterloo\",\"TEDxJaffa 2012\",\"TEDxConcorde\",\"TEDxSeoul\",\"TEDxGoodenoughCollege\",\"SoulPancake\",\"TEDxGlasgow\",\"TED@Johannesburg\",\"TED@Nairobi\",\"TEDxEQChCh\",\"TEDxWitsUniversity\",\"TEDxImperialCollege\",\"TEDxHampshireCollege\",\"TEDxHelvetia\",\"TED@London\",\"TEDxWinnipeg\",\"TEDxCHUV\",\"TED@Bangalore\",\"TEDxObserver\",\"TEDxUCL\",\"TEDxKids@Brussels\",\"TEDxO'Porto\",\"TEDxSeattleU\",\"Justice with Michael Sandel\",\"BBC TV\",\"World Science Festival\",\"TEDxBoston 2009\",\"Harvard University\",\"Bowery Poetry Club\",\"Royal Institution\",\"AORN Congress\",\"Carnegie Mellon University\",\"TEDSalon London 2009\",\"Web 2.0 Expo 2008\",\"Elizabeth G. Anderson School\",\"TEDSalon 2008\",\"TED Prize Wish\",\"LIFT 2007\",\"TED1990\",\"DLD 2007\",\"TED1984\",\"Skoll World Forum 2007\",\"Arbejdsglaede Live\",\"Michael Howard Studios\",\"TEDxUIUC\",\"Fort Worth City Council\",\"NextGen:Charity\",\"TEDxBG\",\"TEDxNorthwesternU\",\"TEDxSiliconValley\",\"Handheld Learning\",\"TEDxPennQuarter\",\"TEDxG\\u00f6teborg 2010\",\"TEDxNextGenerationAsheville\",\"TED Senior Fellows at TEDGlobal 2010\",\"DICE Summit 2010\",\"The Do Lectures\",\"TEDxBoston 2010\",\"New York State Senate\",\"Princeton University\",\"TEDxEdmonton\",\"Toronto Youth Corps\",\"TEDxPuget Sound\",\"Eric Whitacre's Virtual Choir\",\"TEDActive 2013\",\"TEDYouth 2012\",\"TEDxUND\",\"TEDxPaloAlto\",\"TEDxLincolnSquare\",\"TEDxHull\",\"TEDxBerkleeValencia\",\"TEDxCoconutGrove\",\"TEDxMalagueta\",\"TEDxUppsalaUniversity\",\"TEDxSnoIsleLibraries\",\"TEDxYorkU\",\"TEDxGatewayArch\",\"TEDxAustinWomen\",\"TEDxVermilionStreet\",\"TEDxBariloche\",\"TEDxLeuven\",\"TEDxStormontWomen\",\"TEDxStLouisWomen\",\"TEDxYouth@Bath\",\"TEDxHamburg\",\"TEDxCrenshaw\",\"TEDxParis\",\"TEDxUCDavis\",\"TEDxFulbrightDublin\",\"TEDxUniversityofRochester\",\"TEDxUGA\",\"TEDxUWLaCrosse\",\"TEDxBocaRaton\",\"TEDxVeniceBeach\",\"TEDxLivoniaCCLibrary\",\"TEDxSanFranciscoSalon\",\"TEDxOU\",\"TEDxMemphis\",\"TEDxUTFSM\",\"TEDxFIU\",\"TEDxCalzadaDeLosH\\u00e9roes\",\"TEDxRosario\",\"TEDxUFM\",\"TEDxPitic\",\"TEDxReus\",\"TEDxRosario 2017\",\"TEDxVCU\",\"TEDxUIdaho\",\"TEDxOrcasIsland\",\"TEDNairobi Ideas Search\",\"TEDxMiamiUniversity\",\"TEDxZurich 2013\",\"TEDxAmazonia\",\"TEDxSonomaCounty\",\"TEDxBrighton\",\"TEDxMonroeCorrectionalComplex\",\"TEDxClaremontColleges\",\"TEDxLeuvenSalon\",\"TEDxUMKC\",\"TEDxParis 2012\",\"TEDxJaffa 2013\",\"TEDxNorrkoping\",\"TEDxCaFoscariU\",\"TEDxBeirut\",\"TEDxUdeM\",\"TEDxKids@Ambleside\",\"TEDxColbyCollege\",\"TEDxNijmegen\",\"TEDxFiDiWomen\",\"TEDxDubai\",\"TEDxArendal\",\"TEDxLinnaeusUniversity\",\"TEDxSanQuentin\",\"TEDxUM\",\"TEDxColumbusWomen\",\"TEDxFrankfurt\",\"TEDxOmaha\",\"TEDxColoradoSprings\",\"TEDxDesMoines\",\"TEDxEastEnd\",\"Global Witness\",\"TEDxCreativeCoast\",\"2015\",\"TEDxSBU\",\"TEDxCannes\",\"TED Fellows 2015\",\"TEDxGoldenGatePark 2012\",\"TEDxChapmanU\",\"TEDxIndianapolis\",\"TEDSalon NY2015\",\"TEDxSouthBank\",\"TEDxMuncyStatePrison\",\"TEDxSeattleWomen\"],\"xaxis\":\"x\",\"y\":[865,104,102,101,97,84,83,76,75,75,70,70,68,68,68,67,66,65,64,61,59,57,55,55,53,53,50,49,46,44,44,43,41,41,40,40,38,37,36,36,35,34,34,33,33,32,31,30,28,28,26,26,26,26,25,25,20,20,20,19,18,18,18,18,17,17,17,17,17,16,16,16,16,16,15,15,15,15,14,13,13,13,13,12,12,12,11,11,11,11,11,11,11,10,10,10,10,10,10,10,9,9,9,9,9,9,9,9,8,8,8,8,8,8,8,8,8,8,8,8,8,8,8,8,8,8,8,7,7,7,7,7,7,7,7,7,7,7,6,6,6,6,6,6,6,6,6,6,6,6,6,6,6,6,6,6,6,6,6,6,5,5,5,5,5,5,5,5,5,5,5,5,5,5,5,5,5,5,5,5,5,5,5,4,4,4,4,4,4,4,4,4,4,4,4,4,4,4,4,4,4,4,4,4,4,4,4,4,4,4,4,4,4,4,4,4,4,4,4,4,4,3,3,3,3,3,3,3,3,3,3,3,3,3,3,3,3,3,3,3,3,3,3,3,3,3,3,3,3,3,3,3,3,3,3,3,3,3,3,3,3,3,3,3,3,3,3,3,3,3,2,2,2,2,2,2,2,2,2,2,2,2,2,2,2,2,2,2,2,2,2,2,2,2,2,2,2,2,2,2,2,2,2,2,2,2,2,2,2,2,2,2,2,2,2,2,2,2,2,2,2,2,2,2,2,2,2,2,2,2,2,2,2,2,2,2,2,2,2,2,2,2,2,2,2,2,2,2,2,2,1,1,1,1,1,1,1,1,1,1,1,1,1,1,1,1,1,1,1,1,1,1,1,1,1,1,1,1,1,1,1,1,1,1,1,1,1,1,1,1,1,1,1,1,1,1,1,1,1,1,1,1,1,1,1,1,1,1,1,1,1,1,1,1,1,1,1,1,1,1,1,1,1,1,1,1,1,1,1,1,1,1,1,1,1,1,1,1,1,1,1,1,1,1,1,1,1,1,1,1,1,1,1,1,1,1,1,1,1,1,1,1,1,1,1,1,1,1,1,1,1,1,1,1,1,1,1,1,1,1,1,1,1,1,1,1,1,1,1,1,1,1,1,1,1,1,1,1,1,1,1,1,1,1,1,1,1,1,1,1,1,1,1,1,1,1,1,1,1,1,1,1,1,1,1,1,1,1,1,1,1,1,1,1,1,1,1,1,1,1,1,1,1,1,1,1,1,1,1,1,1,1,1,1,1,1,1,1,1,1,1,1,1,1,1,1,1,1,1,1,1,1,1,1,1,1,1,1,1,1,1,1,1,1,1,1,1,1,1,1,1,1,1,1,1,1,1,1,1,1,1,1,1,1,1,1,1,1,1,1,1,1,1,1,1,1,1,1,1,1,1,1,1,1,1,1,1,1,1,1],\"yaxis\":\"y\",\"type\":\"scatter\"}],                        {\"template\":{\"data\":{\"bar\":[{\"error_x\":{\"color\":\"#2a3f5f\"},\"error_y\":{\"color\":\"#2a3f5f\"},\"marker\":{\"line\":{\"color\":\"#E5ECF6\",\"width\":0.5},\"pattern\":{\"fillmode\":\"overlay\",\"size\":10,\"solidity\":0.2}},\"type\":\"bar\"}],\"barpolar\":[{\"marker\":{\"line\":{\"color\":\"#E5ECF6\",\"width\":0.5},\"pattern\":{\"fillmode\":\"overlay\",\"size\":10,\"solidity\":0.2}},\"type\":\"barpolar\"}],\"carpet\":[{\"aaxis\":{\"endlinecolor\":\"#2a3f5f\",\"gridcolor\":\"white\",\"linecolor\":\"white\",\"minorgridcolor\":\"white\",\"startlinecolor\":\"#2a3f5f\"},\"baxis\":{\"endlinecolor\":\"#2a3f5f\",\"gridcolor\":\"white\",\"linecolor\":\"white\",\"minorgridcolor\":\"white\",\"startlinecolor\":\"#2a3f5f\"},\"type\":\"carpet\"}],\"choropleth\":[{\"colorbar\":{\"outlinewidth\":0,\"ticks\":\"\"},\"type\":\"choropleth\"}],\"contour\":[{\"colorbar\":{\"outlinewidth\":0,\"ticks\":\"\"},\"colorscale\":[[0.0,\"#0d0887\"],[0.1111111111111111,\"#46039f\"],[0.2222222222222222,\"#7201a8\"],[0.3333333333333333,\"#9c179e\"],[0.4444444444444444,\"#bd3786\"],[0.5555555555555556,\"#d8576b\"],[0.6666666666666666,\"#ed7953\"],[0.7777777777777778,\"#fb9f3a\"],[0.8888888888888888,\"#fdca26\"],[1.0,\"#f0f921\"]],\"type\":\"contour\"}],\"contourcarpet\":[{\"colorbar\":{\"outlinewidth\":0,\"ticks\":\"\"},\"type\":\"contourcarpet\"}],\"heatmap\":[{\"colorbar\":{\"outlinewidth\":0,\"ticks\":\"\"},\"colorscale\":[[0.0,\"#0d0887\"],[0.1111111111111111,\"#46039f\"],[0.2222222222222222,\"#7201a8\"],[0.3333333333333333,\"#9c179e\"],[0.4444444444444444,\"#bd3786\"],[0.5555555555555556,\"#d8576b\"],[0.6666666666666666,\"#ed7953\"],[0.7777777777777778,\"#fb9f3a\"],[0.8888888888888888,\"#fdca26\"],[1.0,\"#f0f921\"]],\"type\":\"heatmap\"}],\"heatmapgl\":[{\"colorbar\":{\"outlinewidth\":0,\"ticks\":\"\"},\"colorscale\":[[0.0,\"#0d0887\"],[0.1111111111111111,\"#46039f\"],[0.2222222222222222,\"#7201a8\"],[0.3333333333333333,\"#9c179e\"],[0.4444444444444444,\"#bd3786\"],[0.5555555555555556,\"#d8576b\"],[0.6666666666666666,\"#ed7953\"],[0.7777777777777778,\"#fb9f3a\"],[0.8888888888888888,\"#fdca26\"],[1.0,\"#f0f921\"]],\"type\":\"heatmapgl\"}],\"histogram\":[{\"marker\":{\"pattern\":{\"fillmode\":\"overlay\",\"size\":10,\"solidity\":0.2}},\"type\":\"histogram\"}],\"histogram2d\":[{\"colorbar\":{\"outlinewidth\":0,\"ticks\":\"\"},\"colorscale\":[[0.0,\"#0d0887\"],[0.1111111111111111,\"#46039f\"],[0.2222222222222222,\"#7201a8\"],[0.3333333333333333,\"#9c179e\"],[0.4444444444444444,\"#bd3786\"],[0.5555555555555556,\"#d8576b\"],[0.6666666666666666,\"#ed7953\"],[0.7777777777777778,\"#fb9f3a\"],[0.8888888888888888,\"#fdca26\"],[1.0,\"#f0f921\"]],\"type\":\"histogram2d\"}],\"histogram2dcontour\":[{\"colorbar\":{\"outlinewidth\":0,\"ticks\":\"\"},\"colorscale\":[[0.0,\"#0d0887\"],[0.1111111111111111,\"#46039f\"],[0.2222222222222222,\"#7201a8\"],[0.3333333333333333,\"#9c179e\"],[0.4444444444444444,\"#bd3786\"],[0.5555555555555556,\"#d8576b\"],[0.6666666666666666,\"#ed7953\"],[0.7777777777777778,\"#fb9f3a\"],[0.8888888888888888,\"#fdca26\"],[1.0,\"#f0f921\"]],\"type\":\"histogram2dcontour\"}],\"mesh3d\":[{\"colorbar\":{\"outlinewidth\":0,\"ticks\":\"\"},\"type\":\"mesh3d\"}],\"parcoords\":[{\"line\":{\"colorbar\":{\"outlinewidth\":0,\"ticks\":\"\"}},\"type\":\"parcoords\"}],\"pie\":[{\"automargin\":true,\"type\":\"pie\"}],\"scatter\":[{\"marker\":{\"colorbar\":{\"outlinewidth\":0,\"ticks\":\"\"}},\"type\":\"scatter\"}],\"scatter3d\":[{\"line\":{\"colorbar\":{\"outlinewidth\":0,\"ticks\":\"\"}},\"marker\":{\"colorbar\":{\"outlinewidth\":0,\"ticks\":\"\"}},\"type\":\"scatter3d\"}],\"scattercarpet\":[{\"marker\":{\"colorbar\":{\"outlinewidth\":0,\"ticks\":\"\"}},\"type\":\"scattercarpet\"}],\"scattergeo\":[{\"marker\":{\"colorbar\":{\"outlinewidth\":0,\"ticks\":\"\"}},\"type\":\"scattergeo\"}],\"scattergl\":[{\"marker\":{\"colorbar\":{\"outlinewidth\":0,\"ticks\":\"\"}},\"type\":\"scattergl\"}],\"scattermapbox\":[{\"marker\":{\"colorbar\":{\"outlinewidth\":0,\"ticks\":\"\"}},\"type\":\"scattermapbox\"}],\"scatterpolar\":[{\"marker\":{\"colorbar\":{\"outlinewidth\":0,\"ticks\":\"\"}},\"type\":\"scatterpolar\"}],\"scatterpolargl\":[{\"marker\":{\"colorbar\":{\"outlinewidth\":0,\"ticks\":\"\"}},\"type\":\"scatterpolargl\"}],\"scatterternary\":[{\"marker\":{\"colorbar\":{\"outlinewidth\":0,\"ticks\":\"\"}},\"type\":\"scatterternary\"}],\"surface\":[{\"colorbar\":{\"outlinewidth\":0,\"ticks\":\"\"},\"colorscale\":[[0.0,\"#0d0887\"],[0.1111111111111111,\"#46039f\"],[0.2222222222222222,\"#7201a8\"],[0.3333333333333333,\"#9c179e\"],[0.4444444444444444,\"#bd3786\"],[0.5555555555555556,\"#d8576b\"],[0.6666666666666666,\"#ed7953\"],[0.7777777777777778,\"#fb9f3a\"],[0.8888888888888888,\"#fdca26\"],[1.0,\"#f0f921\"]],\"type\":\"surface\"}],\"table\":[{\"cells\":{\"fill\":{\"color\":\"#EBF0F8\"},\"line\":{\"color\":\"white\"}},\"header\":{\"fill\":{\"color\":\"#C8D4E3\"},\"line\":{\"color\":\"white\"}},\"type\":\"table\"}]},\"layout\":{\"annotationdefaults\":{\"arrowcolor\":\"#2a3f5f\",\"arrowhead\":0,\"arrowwidth\":1},\"autotypenumbers\":\"strict\",\"coloraxis\":{\"colorbar\":{\"outlinewidth\":0,\"ticks\":\"\"}},\"colorscale\":{\"diverging\":[[0,\"#8e0152\"],[0.1,\"#c51b7d\"],[0.2,\"#de77ae\"],[0.3,\"#f1b6da\"],[0.4,\"#fde0ef\"],[0.5,\"#f7f7f7\"],[0.6,\"#e6f5d0\"],[0.7,\"#b8e186\"],[0.8,\"#7fbc41\"],[0.9,\"#4d9221\"],[1,\"#276419\"]],\"sequential\":[[0.0,\"#0d0887\"],[0.1111111111111111,\"#46039f\"],[0.2222222222222222,\"#7201a8\"],[0.3333333333333333,\"#9c179e\"],[0.4444444444444444,\"#bd3786\"],[0.5555555555555556,\"#d8576b\"],[0.6666666666666666,\"#ed7953\"],[0.7777777777777778,\"#fb9f3a\"],[0.8888888888888888,\"#fdca26\"],[1.0,\"#f0f921\"]],\"sequentialminus\":[[0.0,\"#0d0887\"],[0.1111111111111111,\"#46039f\"],[0.2222222222222222,\"#7201a8\"],[0.3333333333333333,\"#9c179e\"],[0.4444444444444444,\"#bd3786\"],[0.5555555555555556,\"#d8576b\"],[0.6666666666666666,\"#ed7953\"],[0.7777777777777778,\"#fb9f3a\"],[0.8888888888888888,\"#fdca26\"],[1.0,\"#f0f921\"]]},\"colorway\":[\"#636efa\",\"#EF553B\",\"#00cc96\",\"#ab63fa\",\"#FFA15A\",\"#19d3f3\",\"#FF6692\",\"#B6E880\",\"#FF97FF\",\"#FECB52\"],\"font\":{\"color\":\"#2a3f5f\"},\"geo\":{\"bgcolor\":\"white\",\"lakecolor\":\"white\",\"landcolor\":\"#E5ECF6\",\"showlakes\":true,\"showland\":true,\"subunitcolor\":\"white\"},\"hoverlabel\":{\"align\":\"left\"},\"hovermode\":\"closest\",\"mapbox\":{\"style\":\"light\"},\"paper_bgcolor\":\"white\",\"plot_bgcolor\":\"#E5ECF6\",\"polar\":{\"angularaxis\":{\"gridcolor\":\"white\",\"linecolor\":\"white\",\"ticks\":\"\"},\"bgcolor\":\"#E5ECF6\",\"radialaxis\":{\"gridcolor\":\"white\",\"linecolor\":\"white\",\"ticks\":\"\"}},\"scene\":{\"xaxis\":{\"backgroundcolor\":\"#E5ECF6\",\"gridcolor\":\"white\",\"gridwidth\":2,\"linecolor\":\"white\",\"showbackground\":true,\"ticks\":\"\",\"zerolinecolor\":\"white\"},\"yaxis\":{\"backgroundcolor\":\"#E5ECF6\",\"gridcolor\":\"white\",\"gridwidth\":2,\"linecolor\":\"white\",\"showbackground\":true,\"ticks\":\"\",\"zerolinecolor\":\"white\"},\"zaxis\":{\"backgroundcolor\":\"#E5ECF6\",\"gridcolor\":\"white\",\"gridwidth\":2,\"linecolor\":\"white\",\"showbackground\":true,\"ticks\":\"\",\"zerolinecolor\":\"white\"}},\"shapedefaults\":{\"line\":{\"color\":\"#2a3f5f\"}},\"ternary\":{\"aaxis\":{\"gridcolor\":\"white\",\"linecolor\":\"white\",\"ticks\":\"\"},\"baxis\":{\"gridcolor\":\"white\",\"linecolor\":\"white\",\"ticks\":\"\"},\"bgcolor\":\"#E5ECF6\",\"caxis\":{\"gridcolor\":\"white\",\"linecolor\":\"white\",\"ticks\":\"\"}},\"title\":{\"x\":0.05},\"xaxis\":{\"automargin\":true,\"gridcolor\":\"white\",\"linecolor\":\"white\",\"ticks\":\"\",\"title\":{\"standoff\":15},\"zerolinecolor\":\"white\",\"zerolinewidth\":2},\"yaxis\":{\"automargin\":true,\"gridcolor\":\"white\",\"linecolor\":\"white\",\"ticks\":\"\",\"title\":{\"standoff\":15},\"zerolinecolor\":\"white\",\"zerolinewidth\":2}}},\"xaxis\":{\"anchor\":\"y\",\"domain\":[0.0,1.0],\"title\":{\"text\":\"Event\"}},\"yaxis\":{\"anchor\":\"x\",\"domain\":[0.0,1.0],\"title\":{\"text\":\"Count\"}},\"legend\":{\"title\":{\"text\":\"variable\"},\"tracegroupgap\":0},\"margin\":{\"t\":60}},                        {\"responsive\": true}                    ).then(function(){\n",
              "                            \n",
              "var gd = document.getElementById('5845cfeb-a938-4dfe-81d7-ba5a071ca63e');\n",
              "var x = new MutationObserver(function (mutations, observer) {{\n",
              "        var display = window.getComputedStyle(gd).display;\n",
              "        if (!display || display === 'none') {{\n",
              "            console.log([gd, 'removed!']);\n",
              "            Plotly.purge(gd);\n",
              "            observer.disconnect();\n",
              "        }}\n",
              "}});\n",
              "\n",
              "// Listen for the removal of the full notebook cells\n",
              "var notebookContainer = gd.closest('#notebook-container');\n",
              "if (notebookContainer) {{\n",
              "    x.observe(notebookContainer, {childList: true});\n",
              "}}\n",
              "\n",
              "// Listen for the clearing of the current output cell\n",
              "var outputEl = gd.closest('.output');\n",
              "if (outputEl) {{\n",
              "    x.observe(outputEl, {childList: true});\n",
              "}}\n",
              "\n",
              "                        })                };                            </script>        </div>\n",
              "</body>\n",
              "</html>"
            ]
          },
          "metadata": {}
        }
      ]
    },
    {
      "cell_type": "code",
      "source": [
        "px.histogram(df['event'].value_counts(), title='Event frequency', nbins=200)"
      ],
      "metadata": {
        "colab": {
          "base_uri": "https://localhost:8080/",
          "height": 542
        },
        "id": "U00FHSPN5scV",
        "outputId": "476c0ec5-e3b7-47f0-fed8-975827fb5547"
      },
      "execution_count": 16,
      "outputs": [
        {
          "output_type": "display_data",
          "data": {
            "text/html": [
              "<html>\n",
              "<head><meta charset=\"utf-8\" /></head>\n",
              "<body>\n",
              "    <div>            <script src=\"https://cdnjs.cloudflare.com/ajax/libs/mathjax/2.7.5/MathJax.js?config=TeX-AMS-MML_SVG\"></script><script type=\"text/javascript\">if (window.MathJax) {MathJax.Hub.Config({SVG: {font: \"STIX-Web\"}});}</script>                <script type=\"text/javascript\">window.PlotlyConfig = {MathJaxConfig: 'local'};</script>\n",
              "        <script src=\"https://cdn.plot.ly/plotly-2.8.3.min.js\"></script>                <div id=\"e339a977-7ae0-4e56-bba3-4437d708aebd\" class=\"plotly-graph-div\" style=\"height:525px; width:100%;\"></div>            <script type=\"text/javascript\">                                    window.PLOTLYENV=window.PLOTLYENV || {};                                    if (document.getElementById(\"e339a977-7ae0-4e56-bba3-4437d708aebd\")) {                    Plotly.newPlot(                        \"e339a977-7ae0-4e56-bba3-4437d708aebd\",                        [{\"alignmentgroup\":\"True\",\"bingroup\":\"x\",\"hovertemplate\":\"variable=event<br>value=%{x}<br>count=%{y}<extra></extra>\",\"legendgroup\":\"event\",\"marker\":{\"color\":\"#636efa\",\"pattern\":{\"shape\":\"\"}},\"name\":\"event\",\"nbinsx\":200,\"offsetgroup\":\"event\",\"orientation\":\"v\",\"showlegend\":true,\"x\":[865,104,102,101,97,84,83,76,75,75,70,70,68,68,68,67,66,65,64,61,59,57,55,55,53,53,50,49,46,44,44,43,41,41,40,40,38,37,36,36,35,34,34,33,33,32,31,30,28,28,26,26,26,26,25,25,20,20,20,19,18,18,18,18,17,17,17,17,17,16,16,16,16,16,15,15,15,15,14,13,13,13,13,12,12,12,11,11,11,11,11,11,11,10,10,10,10,10,10,10,9,9,9,9,9,9,9,9,8,8,8,8,8,8,8,8,8,8,8,8,8,8,8,8,8,8,8,7,7,7,7,7,7,7,7,7,7,7,6,6,6,6,6,6,6,6,6,6,6,6,6,6,6,6,6,6,6,6,6,6,5,5,5,5,5,5,5,5,5,5,5,5,5,5,5,5,5,5,5,5,5,5,5,4,4,4,4,4,4,4,4,4,4,4,4,4,4,4,4,4,4,4,4,4,4,4,4,4,4,4,4,4,4,4,4,4,4,4,4,4,4,3,3,3,3,3,3,3,3,3,3,3,3,3,3,3,3,3,3,3,3,3,3,3,3,3,3,3,3,3,3,3,3,3,3,3,3,3,3,3,3,3,3,3,3,3,3,3,3,3,2,2,2,2,2,2,2,2,2,2,2,2,2,2,2,2,2,2,2,2,2,2,2,2,2,2,2,2,2,2,2,2,2,2,2,2,2,2,2,2,2,2,2,2,2,2,2,2,2,2,2,2,2,2,2,2,2,2,2,2,2,2,2,2,2,2,2,2,2,2,2,2,2,2,2,2,2,2,2,2,1,1,1,1,1,1,1,1,1,1,1,1,1,1,1,1,1,1,1,1,1,1,1,1,1,1,1,1,1,1,1,1,1,1,1,1,1,1,1,1,1,1,1,1,1,1,1,1,1,1,1,1,1,1,1,1,1,1,1,1,1,1,1,1,1,1,1,1,1,1,1,1,1,1,1,1,1,1,1,1,1,1,1,1,1,1,1,1,1,1,1,1,1,1,1,1,1,1,1,1,1,1,1,1,1,1,1,1,1,1,1,1,1,1,1,1,1,1,1,1,1,1,1,1,1,1,1,1,1,1,1,1,1,1,1,1,1,1,1,1,1,1,1,1,1,1,1,1,1,1,1,1,1,1,1,1,1,1,1,1,1,1,1,1,1,1,1,1,1,1,1,1,1,1,1,1,1,1,1,1,1,1,1,1,1,1,1,1,1,1,1,1,1,1,1,1,1,1,1,1,1,1,1,1,1,1,1,1,1,1,1,1,1,1,1,1,1,1,1,1,1,1,1,1,1,1,1,1,1,1,1,1,1,1,1,1,1,1,1,1,1,1,1,1,1,1,1,1,1,1,1,1,1,1,1,1,1,1,1,1,1,1,1,1,1,1,1,1,1,1,1,1,1,1,1,1,1,1,1,1],\"xaxis\":\"x\",\"yaxis\":\"y\",\"type\":\"histogram\"}],                        {\"template\":{\"data\":{\"bar\":[{\"error_x\":{\"color\":\"#2a3f5f\"},\"error_y\":{\"color\":\"#2a3f5f\"},\"marker\":{\"line\":{\"color\":\"#E5ECF6\",\"width\":0.5},\"pattern\":{\"fillmode\":\"overlay\",\"size\":10,\"solidity\":0.2}},\"type\":\"bar\"}],\"barpolar\":[{\"marker\":{\"line\":{\"color\":\"#E5ECF6\",\"width\":0.5},\"pattern\":{\"fillmode\":\"overlay\",\"size\":10,\"solidity\":0.2}},\"type\":\"barpolar\"}],\"carpet\":[{\"aaxis\":{\"endlinecolor\":\"#2a3f5f\",\"gridcolor\":\"white\",\"linecolor\":\"white\",\"minorgridcolor\":\"white\",\"startlinecolor\":\"#2a3f5f\"},\"baxis\":{\"endlinecolor\":\"#2a3f5f\",\"gridcolor\":\"white\",\"linecolor\":\"white\",\"minorgridcolor\":\"white\",\"startlinecolor\":\"#2a3f5f\"},\"type\":\"carpet\"}],\"choropleth\":[{\"colorbar\":{\"outlinewidth\":0,\"ticks\":\"\"},\"type\":\"choropleth\"}],\"contour\":[{\"colorbar\":{\"outlinewidth\":0,\"ticks\":\"\"},\"colorscale\":[[0.0,\"#0d0887\"],[0.1111111111111111,\"#46039f\"],[0.2222222222222222,\"#7201a8\"],[0.3333333333333333,\"#9c179e\"],[0.4444444444444444,\"#bd3786\"],[0.5555555555555556,\"#d8576b\"],[0.6666666666666666,\"#ed7953\"],[0.7777777777777778,\"#fb9f3a\"],[0.8888888888888888,\"#fdca26\"],[1.0,\"#f0f921\"]],\"type\":\"contour\"}],\"contourcarpet\":[{\"colorbar\":{\"outlinewidth\":0,\"ticks\":\"\"},\"type\":\"contourcarpet\"}],\"heatmap\":[{\"colorbar\":{\"outlinewidth\":0,\"ticks\":\"\"},\"colorscale\":[[0.0,\"#0d0887\"],[0.1111111111111111,\"#46039f\"],[0.2222222222222222,\"#7201a8\"],[0.3333333333333333,\"#9c179e\"],[0.4444444444444444,\"#bd3786\"],[0.5555555555555556,\"#d8576b\"],[0.6666666666666666,\"#ed7953\"],[0.7777777777777778,\"#fb9f3a\"],[0.8888888888888888,\"#fdca26\"],[1.0,\"#f0f921\"]],\"type\":\"heatmap\"}],\"heatmapgl\":[{\"colorbar\":{\"outlinewidth\":0,\"ticks\":\"\"},\"colorscale\":[[0.0,\"#0d0887\"],[0.1111111111111111,\"#46039f\"],[0.2222222222222222,\"#7201a8\"],[0.3333333333333333,\"#9c179e\"],[0.4444444444444444,\"#bd3786\"],[0.5555555555555556,\"#d8576b\"],[0.6666666666666666,\"#ed7953\"],[0.7777777777777778,\"#fb9f3a\"],[0.8888888888888888,\"#fdca26\"],[1.0,\"#f0f921\"]],\"type\":\"heatmapgl\"}],\"histogram\":[{\"marker\":{\"pattern\":{\"fillmode\":\"overlay\",\"size\":10,\"solidity\":0.2}},\"type\":\"histogram\"}],\"histogram2d\":[{\"colorbar\":{\"outlinewidth\":0,\"ticks\":\"\"},\"colorscale\":[[0.0,\"#0d0887\"],[0.1111111111111111,\"#46039f\"],[0.2222222222222222,\"#7201a8\"],[0.3333333333333333,\"#9c179e\"],[0.4444444444444444,\"#bd3786\"],[0.5555555555555556,\"#d8576b\"],[0.6666666666666666,\"#ed7953\"],[0.7777777777777778,\"#fb9f3a\"],[0.8888888888888888,\"#fdca26\"],[1.0,\"#f0f921\"]],\"type\":\"histogram2d\"}],\"histogram2dcontour\":[{\"colorbar\":{\"outlinewidth\":0,\"ticks\":\"\"},\"colorscale\":[[0.0,\"#0d0887\"],[0.1111111111111111,\"#46039f\"],[0.2222222222222222,\"#7201a8\"],[0.3333333333333333,\"#9c179e\"],[0.4444444444444444,\"#bd3786\"],[0.5555555555555556,\"#d8576b\"],[0.6666666666666666,\"#ed7953\"],[0.7777777777777778,\"#fb9f3a\"],[0.8888888888888888,\"#fdca26\"],[1.0,\"#f0f921\"]],\"type\":\"histogram2dcontour\"}],\"mesh3d\":[{\"colorbar\":{\"outlinewidth\":0,\"ticks\":\"\"},\"type\":\"mesh3d\"}],\"parcoords\":[{\"line\":{\"colorbar\":{\"outlinewidth\":0,\"ticks\":\"\"}},\"type\":\"parcoords\"}],\"pie\":[{\"automargin\":true,\"type\":\"pie\"}],\"scatter\":[{\"marker\":{\"colorbar\":{\"outlinewidth\":0,\"ticks\":\"\"}},\"type\":\"scatter\"}],\"scatter3d\":[{\"line\":{\"colorbar\":{\"outlinewidth\":0,\"ticks\":\"\"}},\"marker\":{\"colorbar\":{\"outlinewidth\":0,\"ticks\":\"\"}},\"type\":\"scatter3d\"}],\"scattercarpet\":[{\"marker\":{\"colorbar\":{\"outlinewidth\":0,\"ticks\":\"\"}},\"type\":\"scattercarpet\"}],\"scattergeo\":[{\"marker\":{\"colorbar\":{\"outlinewidth\":0,\"ticks\":\"\"}},\"type\":\"scattergeo\"}],\"scattergl\":[{\"marker\":{\"colorbar\":{\"outlinewidth\":0,\"ticks\":\"\"}},\"type\":\"scattergl\"}],\"scattermapbox\":[{\"marker\":{\"colorbar\":{\"outlinewidth\":0,\"ticks\":\"\"}},\"type\":\"scattermapbox\"}],\"scatterpolar\":[{\"marker\":{\"colorbar\":{\"outlinewidth\":0,\"ticks\":\"\"}},\"type\":\"scatterpolar\"}],\"scatterpolargl\":[{\"marker\":{\"colorbar\":{\"outlinewidth\":0,\"ticks\":\"\"}},\"type\":\"scatterpolargl\"}],\"scatterternary\":[{\"marker\":{\"colorbar\":{\"outlinewidth\":0,\"ticks\":\"\"}},\"type\":\"scatterternary\"}],\"surface\":[{\"colorbar\":{\"outlinewidth\":0,\"ticks\":\"\"},\"colorscale\":[[0.0,\"#0d0887\"],[0.1111111111111111,\"#46039f\"],[0.2222222222222222,\"#7201a8\"],[0.3333333333333333,\"#9c179e\"],[0.4444444444444444,\"#bd3786\"],[0.5555555555555556,\"#d8576b\"],[0.6666666666666666,\"#ed7953\"],[0.7777777777777778,\"#fb9f3a\"],[0.8888888888888888,\"#fdca26\"],[1.0,\"#f0f921\"]],\"type\":\"surface\"}],\"table\":[{\"cells\":{\"fill\":{\"color\":\"#EBF0F8\"},\"line\":{\"color\":\"white\"}},\"header\":{\"fill\":{\"color\":\"#C8D4E3\"},\"line\":{\"color\":\"white\"}},\"type\":\"table\"}]},\"layout\":{\"annotationdefaults\":{\"arrowcolor\":\"#2a3f5f\",\"arrowhead\":0,\"arrowwidth\":1},\"autotypenumbers\":\"strict\",\"coloraxis\":{\"colorbar\":{\"outlinewidth\":0,\"ticks\":\"\"}},\"colorscale\":{\"diverging\":[[0,\"#8e0152\"],[0.1,\"#c51b7d\"],[0.2,\"#de77ae\"],[0.3,\"#f1b6da\"],[0.4,\"#fde0ef\"],[0.5,\"#f7f7f7\"],[0.6,\"#e6f5d0\"],[0.7,\"#b8e186\"],[0.8,\"#7fbc41\"],[0.9,\"#4d9221\"],[1,\"#276419\"]],\"sequential\":[[0.0,\"#0d0887\"],[0.1111111111111111,\"#46039f\"],[0.2222222222222222,\"#7201a8\"],[0.3333333333333333,\"#9c179e\"],[0.4444444444444444,\"#bd3786\"],[0.5555555555555556,\"#d8576b\"],[0.6666666666666666,\"#ed7953\"],[0.7777777777777778,\"#fb9f3a\"],[0.8888888888888888,\"#fdca26\"],[1.0,\"#f0f921\"]],\"sequentialminus\":[[0.0,\"#0d0887\"],[0.1111111111111111,\"#46039f\"],[0.2222222222222222,\"#7201a8\"],[0.3333333333333333,\"#9c179e\"],[0.4444444444444444,\"#bd3786\"],[0.5555555555555556,\"#d8576b\"],[0.6666666666666666,\"#ed7953\"],[0.7777777777777778,\"#fb9f3a\"],[0.8888888888888888,\"#fdca26\"],[1.0,\"#f0f921\"]]},\"colorway\":[\"#636efa\",\"#EF553B\",\"#00cc96\",\"#ab63fa\",\"#FFA15A\",\"#19d3f3\",\"#FF6692\",\"#B6E880\",\"#FF97FF\",\"#FECB52\"],\"font\":{\"color\":\"#2a3f5f\"},\"geo\":{\"bgcolor\":\"white\",\"lakecolor\":\"white\",\"landcolor\":\"#E5ECF6\",\"showlakes\":true,\"showland\":true,\"subunitcolor\":\"white\"},\"hoverlabel\":{\"align\":\"left\"},\"hovermode\":\"closest\",\"mapbox\":{\"style\":\"light\"},\"paper_bgcolor\":\"white\",\"plot_bgcolor\":\"#E5ECF6\",\"polar\":{\"angularaxis\":{\"gridcolor\":\"white\",\"linecolor\":\"white\",\"ticks\":\"\"},\"bgcolor\":\"#E5ECF6\",\"radialaxis\":{\"gridcolor\":\"white\",\"linecolor\":\"white\",\"ticks\":\"\"}},\"scene\":{\"xaxis\":{\"backgroundcolor\":\"#E5ECF6\",\"gridcolor\":\"white\",\"gridwidth\":2,\"linecolor\":\"white\",\"showbackground\":true,\"ticks\":\"\",\"zerolinecolor\":\"white\"},\"yaxis\":{\"backgroundcolor\":\"#E5ECF6\",\"gridcolor\":\"white\",\"gridwidth\":2,\"linecolor\":\"white\",\"showbackground\":true,\"ticks\":\"\",\"zerolinecolor\":\"white\"},\"zaxis\":{\"backgroundcolor\":\"#E5ECF6\",\"gridcolor\":\"white\",\"gridwidth\":2,\"linecolor\":\"white\",\"showbackground\":true,\"ticks\":\"\",\"zerolinecolor\":\"white\"}},\"shapedefaults\":{\"line\":{\"color\":\"#2a3f5f\"}},\"ternary\":{\"aaxis\":{\"gridcolor\":\"white\",\"linecolor\":\"white\",\"ticks\":\"\"},\"baxis\":{\"gridcolor\":\"white\",\"linecolor\":\"white\",\"ticks\":\"\"},\"bgcolor\":\"#E5ECF6\",\"caxis\":{\"gridcolor\":\"white\",\"linecolor\":\"white\",\"ticks\":\"\"}},\"title\":{\"x\":0.05},\"xaxis\":{\"automargin\":true,\"gridcolor\":\"white\",\"linecolor\":\"white\",\"ticks\":\"\",\"title\":{\"standoff\":15},\"zerolinecolor\":\"white\",\"zerolinewidth\":2},\"yaxis\":{\"automargin\":true,\"gridcolor\":\"white\",\"linecolor\":\"white\",\"ticks\":\"\",\"title\":{\"standoff\":15},\"zerolinecolor\":\"white\",\"zerolinewidth\":2}}},\"xaxis\":{\"anchor\":\"y\",\"domain\":[0.0,1.0],\"title\":{\"text\":\"value\"}},\"yaxis\":{\"anchor\":\"x\",\"domain\":[0.0,1.0],\"title\":{\"text\":\"count\"}},\"legend\":{\"title\":{\"text\":\"variable\"},\"tracegroupgap\":0},\"title\":{\"text\":\"Event frequency\"},\"barmode\":\"relative\"},                        {\"responsive\": true}                    ).then(function(){\n",
              "                            \n",
              "var gd = document.getElementById('e339a977-7ae0-4e56-bba3-4437d708aebd');\n",
              "var x = new MutationObserver(function (mutations, observer) {{\n",
              "        var display = window.getComputedStyle(gd).display;\n",
              "        if (!display || display === 'none') {{\n",
              "            console.log([gd, 'removed!']);\n",
              "            Plotly.purge(gd);\n",
              "            observer.disconnect();\n",
              "        }}\n",
              "}});\n",
              "\n",
              "// Listen for the removal of the full notebook cells\n",
              "var notebookContainer = gd.closest('#notebook-container');\n",
              "if (notebookContainer) {{\n",
              "    x.observe(notebookContainer, {childList: true});\n",
              "}}\n",
              "\n",
              "// Listen for the clearing of the current output cell\n",
              "var outputEl = gd.closest('.output');\n",
              "if (outputEl) {{\n",
              "    x.observe(outputEl, {childList: true});\n",
              "}}\n",
              "\n",
              "                        })                };                            </script>        </div>\n",
              "</body>\n",
              "</html>"
            ]
          },
          "metadata": {}
        }
      ]
    },
    {
      "cell_type": "markdown",
      "source": [
        "\n",
        "There a lot of events that had several talks, we can assign them label \"Other\".<br>\n",
        "Also there are events like \"TED Women 2010\", \"TED Women 2011\" and so on. We'll group them into \"TED Women\" later when cleaning data"
      ],
      "metadata": {
        "id": "Z7wlMk3wRelH"
      }
    },
    {
      "cell_type": "code",
      "source": [
        "# Find events with year in the end\n",
        "event_list = df['event'].loc[df['event'].str.contains(r\"\\d{4}$\", na=False, regex=True)].unique()\n",
        "for event in event_list:\n",
        "    print(event)"
      ],
      "metadata": {
        "colab": {
          "base_uri": "https://localhost:8080/"
        },
        "id": "F_RoNpQz8Mkq",
        "outputId": "63e07a55-aafc-41ea-9b6b-8d3d573b7133"
      },
      "execution_count": 17,
      "outputs": [
        {
          "output_type": "stream",
          "name": "stdout",
          "text": [
            "TED2006\n",
            "TEDGlobal 2005\n",
            "TED2004\n",
            "TED2005\n",
            "TEDSalon 2006\n",
            "TED2007\n",
            "TED2003\n",
            "TED2002\n",
            "TEDGlobal 2007\n",
            "TED2001\n",
            "Skoll World Forum 2007\n",
            "TED2008\n",
            "TED1984\n",
            "DLD 2007\n",
            "TED1990\n",
            "EG 2007\n",
            "TED1998\n",
            "LIFT 2007\n",
            "TEDSalon 2008\n",
            "Serious Play 2008\n",
            "Taste3 2008\n",
            "TED2009\n",
            "EG 2008\n",
            "TEDGlobal 2009\n",
            "TEDIndia 2009\n",
            "TEDSalon London 2009\n",
            "TEDMED 2009\n",
            "TEDxBoston 2009\n",
            "TED2010\n",
            "Web 2.0 Expo 2008\n",
            "DICE Summit 2010\n",
            "TEDSalon London 2010\n",
            "TEDGlobal 2010\n",
            "TEDxBoston 2010\n",
            "TED Senior Fellows at TEDGlobal 2010\n",
            "TEDxTelAviv 2010\n",
            "TEDxDU 2010\n",
            "TEDxRotterdam 2010\n",
            "TEDWomen 2010\n",
            "TEDSalon NY2011\n",
            "TEDxToronto 2010\n",
            "TEDMED 2010\n",
            "TEDxGöteborg 2010\n",
            "TEDxToronto 2011\n",
            "TED2011\n",
            "TEDActive 2011\n",
            "TEDSalon London Spring 2011\n",
            "TEDGlobal 2011\n",
            "TEDxBoston 2011\n",
            "TEDxParis 2010\n",
            "TEDxBoulder 2011\n",
            "TEDMED 2011\n",
            "TEDxDU 2011\n",
            "TEDxWomen 2011\n",
            "TEDxZurich 2011\n",
            "TEDSalon NY2012\n",
            "TED1994\n",
            "TEDSalon London Fall 2011\n",
            "TED2012\n",
            "TEDYouth 2011\n",
            "TEDMED 2012\n",
            "TEDSalon London Spring 2012\n",
            "TEDGlobal 2012\n",
            "TEDxBoston 2012\n",
            "TEDSalon London Fall 2012\n",
            "TEDxJaffa 2012\n",
            "TEDxZurich 2012\n",
            "TEDxWomen 2012\n",
            "TEDSalon NY2013\n",
            "TED2013\n",
            "TEDActive 2013\n",
            "TEDYouth 2012\n",
            "TEDMED 2013\n",
            "TEDGlobal 2013\n",
            "TEDWomen 2013\n",
            "TEDYouth 2013\n",
            "TEDxJaffa 2013\n",
            "TEDxZurich 2013\n",
            "TED Fellows Retreat 2013\n",
            "TEDxParis 2012\n",
            "TED2014\n",
            "TEDxMidAtlantic 2013\n",
            "TEDActive 2014\n",
            "TEDSalon NY2014\n",
            "TEDSalon Berlin 2014\n",
            "TEDMED 2014\n",
            "TEDGlobal 2014\n",
            "TEDYouth 2014\n",
            "TED2015\n",
            "TEDWomen 2015\n",
            "TEDSalon NY2015\n",
            "TEDxGoldenGatePark 2012\n",
            "TED Fellows Retreat 2015\n",
            "TED Fellows 2015\n",
            "2015\n",
            "TEDYouth 2015\n",
            "TEDMED 2015\n",
            "TED2016\n",
            "TEDActive 2015\n",
            "TEDWomen 2016\n",
            "TEDMED 2016\n",
            "TED2017\n",
            "TEDGlobal 2017\n",
            "TEDWomen 2017\n",
            "TEDMED 2017\n",
            "TEDxMidAtlantic 2017\n",
            "TED2018\n",
            "TEDxRosario 2017\n",
            "TEDWomen 2018\n",
            "TEDMED 2018\n",
            "TED2019\n",
            "TEDSummit 2019\n",
            "TEDWomen 2019\n",
            "TEDMED 2020\n",
            "TEDWomen 2020\n",
            "TED Global Idea Search 2021\n",
            "TEDWomen 2021\n",
            "TED2022\n",
            "TED Countdown New York Session 2022\n"
          ]
        }
      ]
    },
    {
      "cell_type": "code",
      "source": [
        "ted_event_count = len(df['event'].loc[df['event'].str.contains(r\"TED\\d{4}\", na=False, regex=True)])\n",
        "print(f'There are {ted_event_count} official TED talks')"
      ],
      "metadata": {
        "id": "ICfbNj9t12mg",
        "outputId": "d8d38ba5-d7fe-4ef6-f6ad-288a4133912f",
        "colab": {
          "base_uri": "https://localhost:8080/"
        }
      },
      "execution_count": 18,
      "outputs": [
        {
          "output_type": "stream",
          "name": "stdout",
          "text": [
            "There are 1356 official TED talks\n"
          ]
        }
      ]
    },
    {
      "cell_type": "code",
      "source": [
        "# There is an event named - 2015\n",
        "df.loc[df['event'] == '2015']"
      ],
      "metadata": {
        "colab": {
          "base_uri": "https://localhost:8080/",
          "height": 197
        },
        "id": "Hb4CzN98Xl3s",
        "outputId": "a442c532-6074-4dc3-93fb-396bce5066e6"
      },
      "execution_count": 19,
      "outputs": [
        {
          "output_type": "execute_result",
          "data": {
            "text/plain": [
              "       _id  duration event likes  \\\n",
              "2401  2386       509  2015    17   \n",
              "\n",
              "                                          page_url        published_date  \\\n",
              "2401  https://www.ted.com/talks/year_in_ideas_2015  2015-11-30T20:41:15Z   \n",
              "\n",
              "     recorded_date related_videos speakers subtitle_languages  \\\n",
              "2401    2015-12-01             []       []                 []   \n",
              "\n",
              "                      summary               title topics transcript  views  \\\n",
              "2401  The Year In Ideas 2015.  Year In Ideas 2015     []        NaN    587   \n",
              "\n",
              "     youtube_video_code  \n",
              "2401                NaN  "
            ],
            "text/html": [
              "\n",
              "  <div id=\"df-f256d783-c277-4b13-a906-8a7e9585973c\">\n",
              "    <div class=\"colab-df-container\">\n",
              "      <div>\n",
              "<style scoped>\n",
              "    .dataframe tbody tr th:only-of-type {\n",
              "        vertical-align: middle;\n",
              "    }\n",
              "\n",
              "    .dataframe tbody tr th {\n",
              "        vertical-align: top;\n",
              "    }\n",
              "\n",
              "    .dataframe thead th {\n",
              "        text-align: right;\n",
              "    }\n",
              "</style>\n",
              "<table border=\"1\" class=\"dataframe\">\n",
              "  <thead>\n",
              "    <tr style=\"text-align: right;\">\n",
              "      <th></th>\n",
              "      <th>_id</th>\n",
              "      <th>duration</th>\n",
              "      <th>event</th>\n",
              "      <th>likes</th>\n",
              "      <th>page_url</th>\n",
              "      <th>published_date</th>\n",
              "      <th>recorded_date</th>\n",
              "      <th>related_videos</th>\n",
              "      <th>speakers</th>\n",
              "      <th>subtitle_languages</th>\n",
              "      <th>summary</th>\n",
              "      <th>title</th>\n",
              "      <th>topics</th>\n",
              "      <th>transcript</th>\n",
              "      <th>views</th>\n",
              "      <th>youtube_video_code</th>\n",
              "    </tr>\n",
              "  </thead>\n",
              "  <tbody>\n",
              "    <tr>\n",
              "      <th>2401</th>\n",
              "      <td>2386</td>\n",
              "      <td>509</td>\n",
              "      <td>2015</td>\n",
              "      <td>17</td>\n",
              "      <td>https://www.ted.com/talks/year_in_ideas_2015</td>\n",
              "      <td>2015-11-30T20:41:15Z</td>\n",
              "      <td>2015-12-01</td>\n",
              "      <td>[]</td>\n",
              "      <td>[]</td>\n",
              "      <td>[]</td>\n",
              "      <td>The Year In Ideas 2015.</td>\n",
              "      <td>Year In Ideas 2015</td>\n",
              "      <td>[]</td>\n",
              "      <td>NaN</td>\n",
              "      <td>587</td>\n",
              "      <td>NaN</td>\n",
              "    </tr>\n",
              "  </tbody>\n",
              "</table>\n",
              "</div>\n",
              "      <button class=\"colab-df-convert\" onclick=\"convertToInteractive('df-f256d783-c277-4b13-a906-8a7e9585973c')\"\n",
              "              title=\"Convert this dataframe to an interactive table.\"\n",
              "              style=\"display:none;\">\n",
              "        \n",
              "  <svg xmlns=\"http://www.w3.org/2000/svg\" height=\"24px\"viewBox=\"0 0 24 24\"\n",
              "       width=\"24px\">\n",
              "    <path d=\"M0 0h24v24H0V0z\" fill=\"none\"/>\n",
              "    <path d=\"M18.56 5.44l.94 2.06.94-2.06 2.06-.94-2.06-.94-.94-2.06-.94 2.06-2.06.94zm-11 1L8.5 8.5l.94-2.06 2.06-.94-2.06-.94L8.5 2.5l-.94 2.06-2.06.94zm10 10l.94 2.06.94-2.06 2.06-.94-2.06-.94-.94-2.06-.94 2.06-2.06.94z\"/><path d=\"M17.41 7.96l-1.37-1.37c-.4-.4-.92-.59-1.43-.59-.52 0-1.04.2-1.43.59L10.3 9.45l-7.72 7.72c-.78.78-.78 2.05 0 2.83L4 21.41c.39.39.9.59 1.41.59.51 0 1.02-.2 1.41-.59l7.78-7.78 2.81-2.81c.8-.78.8-2.07 0-2.86zM5.41 20L4 18.59l7.72-7.72 1.47 1.35L5.41 20z\"/>\n",
              "  </svg>\n",
              "      </button>\n",
              "      \n",
              "  <style>\n",
              "    .colab-df-container {\n",
              "      display:flex;\n",
              "      flex-wrap:wrap;\n",
              "      gap: 12px;\n",
              "    }\n",
              "\n",
              "    .colab-df-convert {\n",
              "      background-color: #E8F0FE;\n",
              "      border: none;\n",
              "      border-radius: 50%;\n",
              "      cursor: pointer;\n",
              "      display: none;\n",
              "      fill: #1967D2;\n",
              "      height: 32px;\n",
              "      padding: 0 0 0 0;\n",
              "      width: 32px;\n",
              "    }\n",
              "\n",
              "    .colab-df-convert:hover {\n",
              "      background-color: #E2EBFA;\n",
              "      box-shadow: 0px 1px 2px rgba(60, 64, 67, 0.3), 0px 1px 3px 1px rgba(60, 64, 67, 0.15);\n",
              "      fill: #174EA6;\n",
              "    }\n",
              "\n",
              "    [theme=dark] .colab-df-convert {\n",
              "      background-color: #3B4455;\n",
              "      fill: #D2E3FC;\n",
              "    }\n",
              "\n",
              "    [theme=dark] .colab-df-convert:hover {\n",
              "      background-color: #434B5C;\n",
              "      box-shadow: 0px 1px 3px 1px rgba(0, 0, 0, 0.15);\n",
              "      filter: drop-shadow(0px 1px 2px rgba(0, 0, 0, 0.3));\n",
              "      fill: #FFFFFF;\n",
              "    }\n",
              "  </style>\n",
              "\n",
              "      <script>\n",
              "        const buttonEl =\n",
              "          document.querySelector('#df-f256d783-c277-4b13-a906-8a7e9585973c button.colab-df-convert');\n",
              "        buttonEl.style.display =\n",
              "          google.colab.kernel.accessAllowed ? 'block' : 'none';\n",
              "\n",
              "        async function convertToInteractive(key) {\n",
              "          const element = document.querySelector('#df-f256d783-c277-4b13-a906-8a7e9585973c');\n",
              "          const dataTable =\n",
              "            await google.colab.kernel.invokeFunction('convertToInteractive',\n",
              "                                                     [key], {});\n",
              "          if (!dataTable) return;\n",
              "\n",
              "          const docLinkHtml = 'Like what you see? Visit the ' +\n",
              "            '<a target=\"_blank\" href=https://colab.research.google.com/notebooks/data_table.ipynb>data table notebook</a>'\n",
              "            + ' to learn more about interactive tables.';\n",
              "          element.innerHTML = '';\n",
              "          dataTable['output_type'] = 'display_data';\n",
              "          await google.colab.output.renderOutput(dataTable, element);\n",
              "          const docLink = document.createElement('div');\n",
              "          docLink.innerHTML = docLinkHtml;\n",
              "          element.appendChild(docLink);\n",
              "        }\n",
              "      </script>\n",
              "    </div>\n",
              "  </div>\n",
              "  "
            ]
          },
          "metadata": {},
          "execution_count": 19
        }
      ]
    },
    {
      "cell_type": "code",
      "source": [
        "# Row with None value\n",
        "df.loc[df['event'].isnull()]"
      ],
      "metadata": {
        "colab": {
          "base_uri": "https://localhost:8080/",
          "height": 231
        },
        "id": "gJh4n84xe3d_",
        "outputId": "e108dc23-60e9-4226-dc09-2aa6dac1113d"
      },
      "execution_count": 20,
      "outputs": [
        {
          "output_type": "execute_result",
          "data": {
            "text/plain": [
              "        _id  duration event likes  \\\n",
              "5614  94839       223   NaN   238   \n",
              "\n",
              "                                               page_url        published_date  \\\n",
              "5614  https://www.ted.com/talks/countdown_how_dilemm...  2022-07-08T16:15:03Z   \n",
              "\n",
              "     recorded_date             related_videos  \\\n",
              "5614    2022-06-16  [\"83259\",\"94157\",\"86064\"]   \n",
              "\n",
              "                                    speakers  \\\n",
              "5614  [{\"name\":\"Countdown\",\"occupation\":\"\"}]   \n",
              "\n",
              "                    subtitle_languages  \\\n",
              "5614  [{\"name\":\"English\",\"code\":\"en\"}]   \n",
              "\n",
              "                                                summary  \\\n",
              "5614  Throughout the world, we find ourselves faced ...   \n",
              "\n",
              "                                                  title  \\\n",
              "5614  How \"dilemma thinking\" transforms argument int...   \n",
              "\n",
              "                                                 topics  \\\n",
              "5614  [{\"id\":\"3\",\"name\":\"climate change\"},{\"id\":\"5\",...   \n",
              "\n",
              "                                             transcript  views  \\\n",
              "5614  Throughout the world, we find ourselves faced ...   7949   \n",
              "\n",
              "     youtube_video_code  \n",
              "5614                NaN  "
            ],
            "text/html": [
              "\n",
              "  <div id=\"df-9cd9d2ad-243c-4931-b50d-9107f8ed4057\">\n",
              "    <div class=\"colab-df-container\">\n",
              "      <div>\n",
              "<style scoped>\n",
              "    .dataframe tbody tr th:only-of-type {\n",
              "        vertical-align: middle;\n",
              "    }\n",
              "\n",
              "    .dataframe tbody tr th {\n",
              "        vertical-align: top;\n",
              "    }\n",
              "\n",
              "    .dataframe thead th {\n",
              "        text-align: right;\n",
              "    }\n",
              "</style>\n",
              "<table border=\"1\" class=\"dataframe\">\n",
              "  <thead>\n",
              "    <tr style=\"text-align: right;\">\n",
              "      <th></th>\n",
              "      <th>_id</th>\n",
              "      <th>duration</th>\n",
              "      <th>event</th>\n",
              "      <th>likes</th>\n",
              "      <th>page_url</th>\n",
              "      <th>published_date</th>\n",
              "      <th>recorded_date</th>\n",
              "      <th>related_videos</th>\n",
              "      <th>speakers</th>\n",
              "      <th>subtitle_languages</th>\n",
              "      <th>summary</th>\n",
              "      <th>title</th>\n",
              "      <th>topics</th>\n",
              "      <th>transcript</th>\n",
              "      <th>views</th>\n",
              "      <th>youtube_video_code</th>\n",
              "    </tr>\n",
              "  </thead>\n",
              "  <tbody>\n",
              "    <tr>\n",
              "      <th>5614</th>\n",
              "      <td>94839</td>\n",
              "      <td>223</td>\n",
              "      <td>NaN</td>\n",
              "      <td>238</td>\n",
              "      <td>https://www.ted.com/talks/countdown_how_dilemm...</td>\n",
              "      <td>2022-07-08T16:15:03Z</td>\n",
              "      <td>2022-06-16</td>\n",
              "      <td>[\"83259\",\"94157\",\"86064\"]</td>\n",
              "      <td>[{\"name\":\"Countdown\",\"occupation\":\"\"}]</td>\n",
              "      <td>[{\"name\":\"English\",\"code\":\"en\"}]</td>\n",
              "      <td>Throughout the world, we find ourselves faced ...</td>\n",
              "      <td>How \"dilemma thinking\" transforms argument int...</td>\n",
              "      <td>[{\"id\":\"3\",\"name\":\"climate change\"},{\"id\":\"5\",...</td>\n",
              "      <td>Throughout the world, we find ourselves faced ...</td>\n",
              "      <td>7949</td>\n",
              "      <td>NaN</td>\n",
              "    </tr>\n",
              "  </tbody>\n",
              "</table>\n",
              "</div>\n",
              "      <button class=\"colab-df-convert\" onclick=\"convertToInteractive('df-9cd9d2ad-243c-4931-b50d-9107f8ed4057')\"\n",
              "              title=\"Convert this dataframe to an interactive table.\"\n",
              "              style=\"display:none;\">\n",
              "        \n",
              "  <svg xmlns=\"http://www.w3.org/2000/svg\" height=\"24px\"viewBox=\"0 0 24 24\"\n",
              "       width=\"24px\">\n",
              "    <path d=\"M0 0h24v24H0V0z\" fill=\"none\"/>\n",
              "    <path d=\"M18.56 5.44l.94 2.06.94-2.06 2.06-.94-2.06-.94-.94-2.06-.94 2.06-2.06.94zm-11 1L8.5 8.5l.94-2.06 2.06-.94-2.06-.94L8.5 2.5l-.94 2.06-2.06.94zm10 10l.94 2.06.94-2.06 2.06-.94-2.06-.94-.94-2.06-.94 2.06-2.06.94z\"/><path d=\"M17.41 7.96l-1.37-1.37c-.4-.4-.92-.59-1.43-.59-.52 0-1.04.2-1.43.59L10.3 9.45l-7.72 7.72c-.78.78-.78 2.05 0 2.83L4 21.41c.39.39.9.59 1.41.59.51 0 1.02-.2 1.41-.59l7.78-7.78 2.81-2.81c.8-.78.8-2.07 0-2.86zM5.41 20L4 18.59l7.72-7.72 1.47 1.35L5.41 20z\"/>\n",
              "  </svg>\n",
              "      </button>\n",
              "      \n",
              "  <style>\n",
              "    .colab-df-container {\n",
              "      display:flex;\n",
              "      flex-wrap:wrap;\n",
              "      gap: 12px;\n",
              "    }\n",
              "\n",
              "    .colab-df-convert {\n",
              "      background-color: #E8F0FE;\n",
              "      border: none;\n",
              "      border-radius: 50%;\n",
              "      cursor: pointer;\n",
              "      display: none;\n",
              "      fill: #1967D2;\n",
              "      height: 32px;\n",
              "      padding: 0 0 0 0;\n",
              "      width: 32px;\n",
              "    }\n",
              "\n",
              "    .colab-df-convert:hover {\n",
              "      background-color: #E2EBFA;\n",
              "      box-shadow: 0px 1px 2px rgba(60, 64, 67, 0.3), 0px 1px 3px 1px rgba(60, 64, 67, 0.15);\n",
              "      fill: #174EA6;\n",
              "    }\n",
              "\n",
              "    [theme=dark] .colab-df-convert {\n",
              "      background-color: #3B4455;\n",
              "      fill: #D2E3FC;\n",
              "    }\n",
              "\n",
              "    [theme=dark] .colab-df-convert:hover {\n",
              "      background-color: #434B5C;\n",
              "      box-shadow: 0px 1px 3px 1px rgba(0, 0, 0, 0.15);\n",
              "      filter: drop-shadow(0px 1px 2px rgba(0, 0, 0, 0.3));\n",
              "      fill: #FFFFFF;\n",
              "    }\n",
              "  </style>\n",
              "\n",
              "      <script>\n",
              "        const buttonEl =\n",
              "          document.querySelector('#df-9cd9d2ad-243c-4931-b50d-9107f8ed4057 button.colab-df-convert');\n",
              "        buttonEl.style.display =\n",
              "          google.colab.kernel.accessAllowed ? 'block' : 'none';\n",
              "\n",
              "        async function convertToInteractive(key) {\n",
              "          const element = document.querySelector('#df-9cd9d2ad-243c-4931-b50d-9107f8ed4057');\n",
              "          const dataTable =\n",
              "            await google.colab.kernel.invokeFunction('convertToInteractive',\n",
              "                                                     [key], {});\n",
              "          if (!dataTable) return;\n",
              "\n",
              "          const docLinkHtml = 'Like what you see? Visit the ' +\n",
              "            '<a target=\"_blank\" href=https://colab.research.google.com/notebooks/data_table.ipynb>data table notebook</a>'\n",
              "            + ' to learn more about interactive tables.';\n",
              "          element.innerHTML = '';\n",
              "          dataTable['output_type'] = 'display_data';\n",
              "          await google.colab.output.renderOutput(dataTable, element);\n",
              "          const docLink = document.createElement('div');\n",
              "          docLink.innerHTML = docLinkHtml;\n",
              "          element.appendChild(docLink);\n",
              "        }\n",
              "      </script>\n",
              "    </div>\n",
              "  </div>\n",
              "  "
            ]
          },
          "metadata": {},
          "execution_count": 20
        }
      ]
    },
    {
      "cell_type": "markdown",
      "source": [
        "We'll drop them when cleaning data\n",
        "***"
      ],
      "metadata": {
        "id": "LalhZp2bX_0W"
      }
    },
    {
      "cell_type": "code",
      "source": [
        "df['likes'].head()"
      ],
      "metadata": {
        "colab": {
          "base_uri": "https://localhost:8080/"
        },
        "id": "RB3E8zEo1fYy",
        "outputId": "28db2339-fe98-4cd6-c5be-e2097ef74003"
      },
      "execution_count": 21,
      "outputs": [
        {
          "output_type": "execute_result",
          "data": {
            "text/plain": [
              "0     17K\n",
              "1    110K\n",
              "2     60K\n",
              "3     80K\n",
              "4     14K\n",
              "Name: likes, dtype: object"
            ]
          },
          "metadata": {},
          "execution_count": 21
        }
      ]
    },
    {
      "cell_type": "code",
      "source": [
        "df['likes'].value_counts()"
      ],
      "metadata": {
        "colab": {
          "base_uri": "https://localhost:8080/"
        },
        "id": "3Bk9LBRSYZZE",
        "outputId": "f543cb92-f19e-4575-fb3d-2244f0ca8d2a"
      },
      "execution_count": 22,
      "outputs": [
        {
          "output_type": "execute_result",
          "data": {
            "text/plain": [
              "43K     85\n",
              "40K     84\n",
              "38K     83\n",
              "45K     79\n",
              "47K     79\n",
              "        ..\n",
              "1.2M     1\n",
              "702K     1\n",
              "229K     1\n",
              "357K     1\n",
              "4.5K     1\n",
              "Name: likes, Length: 743, dtype: int64"
            ]
          },
          "metadata": {},
          "execution_count": 22
        }
      ]
    },
    {
      "cell_type": "code",
      "source": [
        "# separate regex search because of f-string errors\n",
        "likes_count = len(df[\"likes\"].loc[df[\"likes\"].str.contains(r\"^\\d{1,3}$\", regex=True)])\n",
        "print(f'There are {likes_count} talks with less than 1000 likes')\n",
        "\n",
        "likes_count = len(df[\"likes\"].loc[df[\"likes\"].str.contains(r\"\\S+K\", regex=True)])\n",
        "print(f'There are {likes_count} talks with >= 1K and < 1M likes')\n",
        "\n",
        "likes_count = len(df[\"likes\"].loc[df[\"likes\"].str.contains(r\"\\S+M\", regex=True)])\n",
        "print(f'There are {likes_count} talks with >= 1M likes')"
      ],
      "metadata": {
        "colab": {
          "base_uri": "https://localhost:8080/"
        },
        "id": "B_CitlghiuZI",
        "outputId": "8a894c35-f89a-4447-deeb-010e628c1c0d"
      },
      "execution_count": 23,
      "outputs": [
        {
          "output_type": "stream",
          "name": "stdout",
          "text": [
            "There are 374 talks with less than 1000 likes\n",
            "There are 5244 talks with >= 1K and < 1M likes\n",
            "There are 13 talks with >= 1M likes\n"
          ]
        }
      ]
    },
    {
      "cell_type": "markdown",
      "source": [
        "Likes column contains strings representing like counter with bad precision so we'll have to convert values to integers\n",
        "***"
      ],
      "metadata": {
        "id": "-EyW5ZbpfxBx"
      }
    },
    {
      "cell_type": "code",
      "source": [
        "for col in ['related_videos', 'speakers', 'subtitle_languages', 'topics']:\n",
        "    print(df[col].head(), end='\\n\\n')"
      ],
      "metadata": {
        "colab": {
          "base_uri": "https://localhost:8080/"
        },
        "id": "wlv-NRQu1iIw",
        "outputId": "79fbc322-9a4a-42b2-9046-a077b1d0cde7"
      },
      "execution_count": 24,
      "outputs": [
        {
          "output_type": "stream",
          "name": "stdout",
          "text": [
            "0        [\"144\",\"1282\",\"1379\",\"87\",\"2302\",\"2638\"]\n",
            "1    [\"243\",\"547\",\"2093\",\"74405\",\"64693\",\"83767\"]\n",
            "2      [\"1725\",\"2274\",\"172\",\"2664\",\"2464\",\"1268\"]\n",
            "3      [\"2237\",\"701\",\"1095\",\"1386\",\"76211\",\"242\"]\n",
            "4     [\"2228\",\"1476\",\"800\",\"2890\",\"45233\",\"2694\"]\n",
            "Name: related_videos, dtype: object\n",
            "\n",
            "0    [{\"name\":\"Mena Trott\",\"occupation\":\"Blogger; c...\n",
            "1    [{\"name\":\"Al Gore\",\"occupation\":\"Climate advoc...\n",
            "2    [{\"name\":\"David Pogue\",\"occupation\":\"Technolog...\n",
            "3    [{\"name\":\"David Deutsch\",\"occupation\":\"Physici...\n",
            "4    [{\"name\":\"Jehane Noujaim\",\"occupation\":\"Filmma...\n",
            "Name: speakers, dtype: object\n",
            "\n",
            "0    [{\"name\":\"English\",\"code\":\"en\"},{\"name\":\"Vietn...\n",
            "1    [{\"name\":\"Greek\",\"code\":\"el\"},{\"name\":\"Gujarat...\n",
            "2    [{\"name\":\"Greek\",\"code\":\"el\"},{\"name\":\"English...\n",
            "3    [{\"name\":\"Greek\",\"code\":\"el\"},{\"name\":\"English...\n",
            "4    [{\"name\":\"English\",\"code\":\"en\"},{\"name\":\"Vietn...\n",
            "Name: subtitle_languages, dtype: object\n",
            "\n",
            "0    [{\"id\":\"4\",\"name\":\"culture\"},{\"id\":\"13\",\"name\"...\n",
            "1    [{\"id\":\"3\",\"name\":\"climate change\"},{\"id\":\"4\",...\n",
            "2    [{\"id\":\"10\",\"name\":\"technology\"},{\"id\":\"36\",\"n...\n",
            "3    [{\"id\":\"3\",\"name\":\"climate change\"},{\"id\":\"4\",...\n",
            "4    [{\"id\":\"4\",\"name\":\"culture\"},{\"id\":\"6\",\"name\":...\n",
            "Name: topics, dtype: object\n",
            "\n"
          ]
        }
      ]
    },
    {
      "cell_type": "markdown",
      "source": [
        "These columns contain a list of values, so feature engineering and data cleaning are required to gain meaningful insights from this data\n",
        "***"
      ],
      "metadata": {
        "id": "97KBQxLg1itu"
      }
    },
    {
      "cell_type": "markdown",
      "source": [
        "## Data cleaning and wrangling"
      ],
      "metadata": {
        "id": "n13T8clh8FHq"
      }
    },
    {
      "cell_type": "markdown",
      "source": [
        "#### Converting data types"
      ],
      "metadata": {
        "id": "Af9t9y4n9AAU"
      }
    },
    {
      "cell_type": "code",
      "source": [
        "print(f'Mem use before: {sum(df.memory_usage()) / 1024} KB')\n",
        "\n",
        "# convert to category dtypes for faster computation and less memory usage\n",
        "df['likes'] = df['likes'].astype('category')\n",
        "\n",
        "print(f'Mem use after: {sum(df.memory_usage()) / 1024} KB')"
      ],
      "metadata": {
        "colab": {
          "base_uri": "https://localhost:8080/"
        },
        "id": "gluyYrvuZXub",
        "outputId": "fa774a72-6015-4980-c163-e53d70ebf62d"
      },
      "execution_count": 25,
      "outputs": [
        {
          "output_type": "stream",
          "name": "stdout",
          "text": [
            "Mem use before: 704.0 KB\n",
            "Mem use after: 692.974609375 KB\n"
          ]
        }
      ]
    },
    {
      "cell_type": "code",
      "source": [
        "# convert to datetime and get date value\n",
        "df['published_date'] = pd.to_datetime(df['published_date']).dt.date"
      ],
      "metadata": {
        "id": "iQbz5dFlfE4J"
      },
      "execution_count": 26,
      "outputs": []
    },
    {
      "cell_type": "markdown",
      "source": [
        "Clean likes column"
      ],
      "metadata": {
        "id": "QxsIbk26gOZI"
      }
    },
    {
      "cell_type": "code",
      "source": [
        "def clean_likes_col(num):\n",
        "    \"\"\"\n",
        "    Returns integer number from string\n",
        "    :param num: number in string format\n",
        "    :type num: str\n",
        "    :rtype: int\n",
        "    \"\"\"\n",
        "    if num[-1] == 'K':\n",
        "        num = float(num[:-1]) * 1000\n",
        "        # to get a bit of randomness in data\n",
        "        if num >= 100000:\n",
        "            num += np.random.randint(1, 1000)\n",
        "        else:\n",
        "            num += np.random.randint(1, 100)\n",
        "    elif num[-1] == 'M':\n",
        "        num = float(num[:-1]) * 1000000 + np.random.randint(1000, 10000)\n",
        "\n",
        "    return int(num)"
      ],
      "metadata": {
        "id": "k5PNT_jiXwJP"
      },
      "execution_count": 27,
      "outputs": []
    },
    {
      "cell_type": "code",
      "source": [
        "df['likes'] = df['likes'].apply(clean_likes_col)\n",
        "\n",
        "df['likes']"
      ],
      "metadata": {
        "colab": {
          "base_uri": "https://localhost:8080/"
        },
        "id": "OW3Rs5K6ddLD",
        "outputId": "298a99b9-1239-40bb-e48b-ce49218b9281"
      },
      "execution_count": 28,
      "outputs": [
        {
          "output_type": "execute_result",
          "data": {
            "text/plain": [
              "0        17078\n",
              "1       110561\n",
              "2        60084\n",
              "3        80061\n",
              "4        14008\n",
              "         ...  \n",
              "5626      5857\n",
              "5627     10089\n",
              "5628     12051\n",
              "5629      7233\n",
              "5630      4544\n",
              "Name: likes, Length: 5631, dtype: category\n",
              "Categories (743, int64): [1152, 1101860, 1215, 1206191, ..., 993, 994, 99024, 9032]"
            ]
          },
          "metadata": {},
          "execution_count": 28
        }
      ]
    },
    {
      "cell_type": "markdown",
      "source": [
        "#### Dropping columns and rows"
      ],
      "metadata": {
        "id": "J8Fi7Ij3bB3R"
      }
    },
    {
      "cell_type": "code",
      "source": [
        "# drop unnecessary columns\n",
        "df.drop(columns=['recorded_date', 'page_url', 'youtube_video_code', 'related_videos', 'transcript'], inplace=True)\n",
        "print(f'Columns left {df.columns}')"
      ],
      "metadata": {
        "colab": {
          "base_uri": "https://localhost:8080/"
        },
        "id": "HsVjNRKo_8OG",
        "outputId": "1f0798d3-594d-48a8-d271-c73913ab1c5a"
      },
      "execution_count": 29,
      "outputs": [
        {
          "output_type": "stream",
          "name": "stdout",
          "text": [
            "Columns left Index(['_id', 'duration', 'event', 'likes', 'published_date', 'speakers',\n",
            "       'subtitle_languages', 'summary', 'title', 'topics', 'views'],\n",
            "      dtype='object')\n"
          ]
        }
      ]
    },
    {
      "cell_type": "code",
      "source": [
        "# drop rows\n",
        "df.drop([2401, 5614], inplace=True)"
      ],
      "metadata": {
        "id": "cUcGyL1vodTu"
      },
      "execution_count": 30,
      "outputs": []
    },
    {
      "cell_type": "code",
      "source": [
        "df.info()"
      ],
      "metadata": {
        "colab": {
          "base_uri": "https://localhost:8080/"
        },
        "id": "O-hRj1Isc_4W",
        "outputId": "69efd1be-28a1-406b-92d6-bac8ce617f31"
      },
      "execution_count": 31,
      "outputs": [
        {
          "output_type": "stream",
          "name": "stdout",
          "text": [
            "<class 'pandas.core.frame.DataFrame'>\n",
            "Int64Index: 5629 entries, 0 to 5630\n",
            "Data columns (total 11 columns):\n",
            " #   Column              Non-Null Count  Dtype   \n",
            "---  ------              --------------  -----   \n",
            " 0   _id                 5629 non-null   int64   \n",
            " 1   duration            5629 non-null   int64   \n",
            " 2   event               5629 non-null   object  \n",
            " 3   likes               5629 non-null   category\n",
            " 4   published_date      5629 non-null   object  \n",
            " 5   speakers            5629 non-null   object  \n",
            " 6   subtitle_languages  5629 non-null   object  \n",
            " 7   summary             5629 non-null   object  \n",
            " 8   title               5629 non-null   object  \n",
            " 9   topics              5629 non-null   object  \n",
            " 10  views               5629 non-null   int64   \n",
            "dtypes: category(1), int64(3), object(7)\n",
            "memory usage: 516.7+ KB\n"
          ]
        }
      ]
    },
    {
      "cell_type": "markdown",
      "source": [
        "#### Cleaning columns containing lists"
      ],
      "metadata": {
        "id": "p2DL1sa9dlkp"
      }
    },
    {
      "cell_type": "markdown",
      "source": [
        "We have 3 columns that have lists as values:\n",
        "1.   speakers\n",
        "2.   subtitle_languages\n",
        "3.   topics\n",
        "\n",
        "Those lists are actually strings to we'll need to convert them to python lists.\n",
        "We can use literal_eval from ast to do that."
      ],
      "metadata": {
        "id": "bk0AcuKJe1nb"
      }
    },
    {
      "cell_type": "code",
      "source": [
        "print(f'Before conversion: {type(df[\"subtitle_languages\"][0])}')\n",
        "\n",
        "df['subtitle_languages'] = df['subtitle_languages'].apply(literal_eval)\n",
        "df['speakers'] = df['speakers'].apply(literal_eval)\n",
        "df['topics'] = df['topics'].apply(literal_eval)\n",
        "\n",
        "print(f'After conversion: {type(df[\"subtitle_languages\"][0])}')"
      ],
      "metadata": {
        "colab": {
          "base_uri": "https://localhost:8080/"
        },
        "id": "mkW2uKefdFHT",
        "outputId": "fd91ced0-d9f6-473a-e49c-ed8366841270"
      },
      "execution_count": 32,
      "outputs": [
        {
          "output_type": "stream",
          "name": "stdout",
          "text": [
            "Before conversion: <class 'str'>\n",
            "After conversion: <class 'list'>\n"
          ]
        }
      ]
    },
    {
      "cell_type": "markdown",
      "source": [
        "Let's check how many rows in columns have empty lists as values"
      ],
      "metadata": {
        "id": "quQNJl4bFbEA"
      }
    },
    {
      "cell_type": "code",
      "source": [
        "print(f'Column topics has - {len(df[df[\"topics\"].str.len() == 0])} empty cells')\n",
        "print(f'Column speakers has - {len(df[df[\"speakers\"].str.len() == 0])} empty cells')\n",
        "print(f'Column subtitle_languages has - {len(df[df[\"subtitle_languages\"].str.len() == 0])} empty cells')"
      ],
      "metadata": {
        "colab": {
          "base_uri": "https://localhost:8080/"
        },
        "id": "L9UCg-k7FaQM",
        "outputId": "88a88796-1932-47b2-c3c3-e4658bd09b20"
      },
      "execution_count": 33,
      "outputs": [
        {
          "output_type": "stream",
          "name": "stdout",
          "text": [
            "Column topics has - 11 empty cells\n",
            "Column speakers has - 13 empty cells\n",
            "Column subtitle_languages has - 617 empty cells\n"
          ]
        }
      ]
    },
    {
      "cell_type": "code",
      "source": [
        "# drop rows with empty topics list\n",
        "df.drop(df[df['topics'].str.len() == 0].index, inplace = True)"
      ],
      "metadata": {
        "id": "-85Ok3UaLiwY"
      },
      "execution_count": 34,
      "outputs": []
    },
    {
      "cell_type": "markdown",
      "source": [
        "Clean list data"
      ],
      "metadata": {
        "id": "H2dPwV5BPjbr"
      }
    },
    {
      "cell_type": "code",
      "source": [
        "col_list = ['topics', 'subtitle_languages']\n",
        "\n",
        "# explode list into rows with dictionaries\n",
        "# get field 'name' value for each row if value is not np.NaN\n",
        "# group topic values into a list by index\n",
        "for col in col_list:\n",
        "    df_series = df[col].explode()\n",
        "    df_series = df_series.apply(lambda x: x.get('name') if not isinstance(x, float) else None)\n",
        "    df[col] = df_series.groupby(df_series.index).agg(list)\n",
        "\n",
        "    print(df[col].head(2))"
      ],
      "metadata": {
        "colab": {
          "base_uri": "https://localhost:8080/"
        },
        "id": "pMZBmCk-chzW",
        "outputId": "ad6de55f-af11-477a-d9b6-434224f037e3"
      },
      "execution_count": 35,
      "outputs": [
        {
          "output_type": "stream",
          "name": "stdout",
          "text": [
            "0    [culture, design, business, entertainment, sof...\n",
            "1    [climate change, culture, environment, global ...\n",
            "Name: topics, dtype: object\n",
            "0    [English, Vietnamese, Italian, Arabic, Portugu...\n",
            "1    [Greek, Gujarati, English, Italian, Swedish, C...\n",
            "Name: subtitle_languages, dtype: object\n"
          ]
        }
      ]
    },
    {
      "cell_type": "markdown",
      "source": [
        "#### Cleaning Event column"
      ],
      "metadata": {
        "id": "Ii1vAvVbu4nS"
      }
    },
    {
      "cell_type": "code",
      "source": [
        "df['event'].value_counts()"
      ],
      "metadata": {
        "id": "ia5ifcR_-PEy",
        "outputId": "bb98a0e0-b87c-42c7-d230-14033e79d26b",
        "colab": {
          "base_uri": "https://localhost:8080/"
        }
      },
      "execution_count": 36,
      "outputs": [
        {
          "output_type": "execute_result",
          "data": {
            "text/plain": [
              "TED-Ed               865\n",
              "TED2018              104\n",
              "TED2020              102\n",
              "TED2019              101\n",
              "TED2017               97\n",
              "                    ... \n",
              "TEDxBariloche          1\n",
              "TEDxLeuven             1\n",
              "TEDxWaterloo           1\n",
              "TEDxStormontWomen      1\n",
              "TEDxSeattleWomen       1\n",
              "Name: event, Length: 623, dtype: int64"
            ]
          },
          "metadata": {},
          "execution_count": 36
        }
      ]
    },
    {
      "cell_type": "code",
      "source": [
        "# change all occurences of 'TED2021', 'TED2016' to just 'TED'\n",
        "df['event'].loc[df['event'].str.contains(r\"TED\\d{4}\", regex=True)] = 'TED'\n",
        "\n",
        "# remove year number from events essentially grouping them\n",
        "mask = (df['event'].str.contains(r\"\\s\\d{4}\", regex=True))\n",
        "df.loc[mask, 'event'] = df.loc[mask, 'event'].apply(lambda event_name: event_name[:-5])\n",
        "\n",
        "mask = (df['event'].str.contains(r\"NY\\d{4}\", regex=True))\n",
        "df.loc[mask, 'event'] = df.loc[mask, 'event'].apply(lambda event_name: event_name[:-4])"
      ],
      "metadata": {
        "colab": {
          "base_uri": "https://localhost:8080/"
        },
        "id": "anyQ8AZqfbuF",
        "outputId": "0f65607e-68ba-48a4-fdf9-4676e2a3b1fa"
      },
      "execution_count": 37,
      "outputs": [
        {
          "output_type": "stream",
          "name": "stderr",
          "text": [
            "/usr/local/lib/python3.7/dist-packages/pandas/core/indexing.py:1732: SettingWithCopyWarning:\n",
            "\n",
            "\n",
            "A value is trying to be set on a copy of a slice from a DataFrame\n",
            "\n",
            "See the caveats in the documentation: https://pandas.pydata.org/pandas-docs/stable/user_guide/indexing.html#returning-a-view-versus-a-copy\n",
            "\n"
          ]
        }
      ]
    },
    {
      "cell_type": "code",
      "source": [
        "df['event'].value_counts()"
      ],
      "metadata": {
        "id": "WI1vGaIV5EfX",
        "outputId": "51212082-a6eb-4b9a-e25f-632117be9d67",
        "colab": {
          "base_uri": "https://localhost:8080/"
        }
      },
      "execution_count": 39,
      "outputs": [
        {
          "output_type": "execute_result",
          "data": {
            "text/plain": [
              "TED                    1356\n",
              "TED-Ed                  865\n",
              "TEDGlobal               481\n",
              "TEDWomen                271\n",
              "TEDMED                  108\n",
              "                       ... \n",
              "TEDxPaloAlto              1\n",
              "TEDxGatewayArch           1\n",
              "TEDxSiliconValley         1\n",
              "TEDxVermilionStreet       1\n",
              "TEDxSeattleWomen          1\n",
              "Name: event, Length: 537, dtype: int64"
            ]
          },
          "metadata": {},
          "execution_count": 39
        }
      ]
    },
    {
      "cell_type": "code",
      "source": [
        "plot = px.scatter(df['event'].value_counts())\n",
        "plot.update_layout(xaxis_title=\"Event\", yaxis_title=\"Count\")\n",
        "plot.show()"
      ],
      "metadata": {
        "id": "_2Q4DgzP5KyE",
        "outputId": "2676788f-fbb6-461e-df44-ca203389c9eb",
        "colab": {
          "base_uri": "https://localhost:8080/",
          "height": 542
        }
      },
      "execution_count": 40,
      "outputs": [
        {
          "output_type": "display_data",
          "data": {
            "text/html": [
              "<html>\n",
              "<head><meta charset=\"utf-8\" /></head>\n",
              "<body>\n",
              "    <div>            <script src=\"https://cdnjs.cloudflare.com/ajax/libs/mathjax/2.7.5/MathJax.js?config=TeX-AMS-MML_SVG\"></script><script type=\"text/javascript\">if (window.MathJax) {MathJax.Hub.Config({SVG: {font: \"STIX-Web\"}});}</script>                <script type=\"text/javascript\">window.PlotlyConfig = {MathJaxConfig: 'local'};</script>\n",
              "        <script src=\"https://cdn.plot.ly/plotly-2.8.3.min.js\"></script>                <div id=\"526cf208-0983-4e60-b11d-ca5515563e13\" class=\"plotly-graph-div\" style=\"height:525px; width:100%;\"></div>            <script type=\"text/javascript\">                                    window.PLOTLYENV=window.PLOTLYENV || {};                                    if (document.getElementById(\"526cf208-0983-4e60-b11d-ca5515563e13\")) {                    Plotly.newPlot(                        \"526cf208-0983-4e60-b11d-ca5515563e13\",                        [{\"hovertemplate\":\"variable=event<br>index=%{x}<br>value=%{y}<extra></extra>\",\"legendgroup\":\"event\",\"marker\":{\"color\":\"#636efa\",\"symbol\":\"circle\"},\"mode\":\"markers\",\"name\":\"event\",\"orientation\":\"v\",\"showlegend\":true,\"x\":[\"TED\",\"TED-Ed\",\"TEDGlobal\",\"TEDWomen\",\"TEDMED\",\"TEDSummit\",\"Countdown\",\"TED@IBM\",\"Countdown Summit\",\"TEDMonterey\",\"TED@UPS\",\"TEDxMidAtlantic\",\"TEDxMileHigh\",\"TED@BCG\",\"TEDxBeaconStreet\",\"TED Residency\",\"TEDIndia\",\"TEDSalon NY\",\"The Way We Work\",\"TED@Merck KGaA, Darmstadt, Germany\",\"TEDxSydney\",\"TED Salon Brightline Initiative\",\"TED@State Street Boston\",\"TEDNYC\",\"EG\",\"TED@BCG Berlin\",\"TEDxRiodelaPlata\",\"TEDYouth\",\"TED Talks Live\",\"TEDxBoston\",\"TED@BCG Paris\",\"We the Future\",\"TED@Intel\",\"Mission Blue Voyage\",\"TED Membership\",\"TED@Westpac\",\"Sleeping with Science\",\"TED Fellows: Shape Your Future\",\"TED@BCG Toronto\",\"Small Thing Big Idea\",\"TED Connects\",\"TED@BCG Milan\",\"TED@BCG London\",\"TEDxExeter\",\"TED@State Street London\",\"TED@BCG San Francisco\",\"TED@Tommy\",\"TEDxStanford\",\"TEDGlobal>London\",\"TEDxWomen\",\"TED@Unilever\",\"TED@NAS\",\"TEDxSummit\",\"TEDxCambridge\",\"TED Fellows Retreat\",\"TED@BCG Mumbai\",\"TEDCity2.0\",\"TEDSalon London Spring\",\"TEDxBoulder\",\"TEDxToronto\",\"TEDxUniversityofNevada\",\"TED Audio Collective\",\"TED@NYC\",\"TEDxCERN\",\"TEDSalon Berlin\",\"TEDxPSU\",\"TEDGlobal>Geneva\",\"TEDxUSC\",\"TED@WellsFargo\",\"Am I Normal? with Mona Chalabi\",\"TEDxLondon\",\"TED@PMI\",\"TED Studio\",\"TEDxCaltech\",\"Mission Blue II\",\"Body Stuff with Dr. Jen Gunter\",\"TEDxSeattle\",\"TEDGlobal>NYC\",\"TEDxVienna\",\"TEDGlobalLondon\",\"TED Talks Education\",\"TED@DuPont\",\"TEDxRainier\",\"TEDSalon London Fall\",\"TEDxNewYork\",\"Your Money and Your Mind\",\"Serious Play\",\"TEDxBrussels\",\"TEDSalon London\",\"TED en Espa\\u00f1ol en NYC\",\"TEDxLondonWomen\",\"TEDActive\",\"TEDxMarin\",\"Countdown Global Livestream\",\"TEDxBerkeley\",\"How to Deal with Difficult Feelings\",\"TEDxZurich\",\"Taste3\",\"TEDxOslo\",\"TEDxHousesOfParliament\",\"TEDxManhattanBeach\",\"TEDxOhioStateUniversity\",\"TEDxWarwick\",\"TED Salon Border Stories\",\"TEDxSanFrancisco\",\"Build Back Better\",\"TED Salon: Radical Craft\",\"INK Conference\",\"DIY Neuroscience\",\"TEDxSMU\",\"TED-Ed Weekend\",\"TEDxSaltLakeCity\",\"TED Countdown New York Session\",\"TED Salon UNICEF\",\"TED Salon: Belonging\",\"TED Salon Novo Nordisk\",\"TED Salon The Macallan\",\"TED Salon American Family Insurance\",\"TEDSalon\",\"TEDxEast\",\"TEDxGateway\",\"TEDxLondonBusinessSchool\",\"TED Salon Samsung\",\"TEDxTeen\",\"TEDxChristchurch\",\"TED@Cannes\",\"TEDxKC\",\"TEDxDublin\",\"Torchbearers\",\"WorkLife with Adam Grant\",\"TED@State\",\"TEDxAmsterdam\",\"TED Salon Doha Debates\",\"TED Salon DWEN\",\"TEDxYouth@Sydney\",\"TED@New York\",\"TED Salon UNDP\",\"Far Flung\",\"TED Salon U.S. Air Force\",\"TEDxRiga\",\"The TED Interview\",\"TEDxKyoto\",\"TED Salon Zebra Technologies\",\"TEDxMadrid\",\"TED Talks India: Nayi Baat\",\"TEDxYouth@Beaconstreet\",\"TEDxUofM\",\"TEDxColumbus\",\"TEDxBend\",\"TEDxManchester\",\"TEDxCanberra\",\"TEDxYYC\",\"TEDxChange\",\"TEDxBloomington\",\"TEDxVancouver\",\"TEDxPhoenix\",\"TEDxMaastricht\",\"TEDxPittsburgh\",\"TEDxAustin\",\"TEDxThessaloniki\",\"TEDxCMU\",\"TEDxPeachtree\",\"TEDxAtlanta\",\"TEDxParis\",\"Business Innovation Factory\",\"TEDxBratislava\",\"TEDxMIT\",\"TEDxAthens\",\"TED@BCG Singapore\",\"TEDxRC2\",\"TEDxPenn\",\"TEDxNashville\",\"TEDxPerth\",\"TEDxCharlottesville\",\"Full Spectrum Auditions\",\"TEDxTC\",\"TEDxSkoll\",\"TEDxLSU\",\"TEDxUCincinnati\",\"TEDxMinneapolis\",\"TED Salon Dell Technologies\",\"TEDxMileHighWomen\",\"TEDxUniversityofMississippi\",\"TEDxPasadena\",\"TED Salon: Border Stories\",\"TEDxBinghamtonUniversity\",\"TEDxGreatPacificGarbagePatch\",\"TEDxWrigleyville\",\"TEDxDanubia\",\"TEDxMidwest\",\"RSA Animate\",\"TEDxDayton\",\"TEDxSanDiego\",\"TEDxManhattan\",\"TEDxGhent\",\"TEDxBerlin\",\"TED Salon: Education Everywhere\",\"TEDxOilSpill\",\"In the Green: The Business of Climate Action\",\"TEDxPlaceDesNations\",\"TEDxDU\",\"TEDxCU\",\"TEDxGroningen\",\"TED Salon Verizon\",\"TEDxKlagenfurt\",\"TED Salon Optum\",\"TED in the Field\",\"TEDxCordoba\",\"Chautauqua Institution\",\"TEDxSFU\",\"TEDxPennsylvaniaAvenue\",\"TEDxTufts\",\"TEDxEuston\",\"TED Dialogues\",\"TEDxMtHood\",\"TEDxVirginiaTech\",\"TEDxSalem\",\"TEDxNaperville\",\"TEDxRapidCity\",\"TEDxIndianaUniversity\",\"TEDLagos Ideas Search\",\"TEDxNatick\",\"TED Talks India\",\"TEDxBeaconStreetSalon\",\"TEDxBroadway\",\"TEDxDePaulUniversity\",\"TEDxUofT\",\"TEDxTelAviv\",\"Gel Conference\",\"TEDxCSU\",\"TEDxAuckland\",\"TEDxFondduLac\",\"TEDxSydneySalon\",\"TEDxPurdueU\",\"TEDxStockholm\",\"TEDxFoggyBottom\",\"TEDxCopenhagen\",\"TED Salon Education Everywhere\",\"TEDxGalway\",\"TEDxHouston\",\"TEDxNASA\",\"TEDxRotterdam\",\"TEDxBristol\",\"TED Masterclass\",\"TEDPrize@UN\",\"TEDxTysons\",\"TEDxNYED\",\"TED@MotorCity\",\"TEDxSantaCruz\",\"TEDxRoma\",\"TEDxUCLA\",\"TEDxRosario\",\"TEDxTarragona\",\"TEDxValladolid\",\"TEDxKakumaCamp\",\"TEDxOrlando\",\"TEDxMontreal\",\"TEDxCapeTownWomen\",\"TEDxSF\",\"TEDxKrakow\",\"Stanford University\",\"TEDxDelft\",\"University of California\",\"TEDSalon 2009 Compa\",\"TEDxDeExtinction\",\"American Family Insurance\",\"TEDxGeorgetown\",\"TED Global Idea Search\",\"TEDxTokyo\",\"TEDxUF\",\"TEDxJaffa\",\"TEDxProvidence\",\"TEDxDirigo\",\"TEDxToulouse\",\"TEDxYouth@Manchester\",\"TEDxMet\",\"TEDxPortofSpain\",\"TEDxGatewayWomen\",\"TEDSalon 2007 Hot Sc\",\"TEDxMaui\",\"TEDxAmoskeagMillyard\",\"TEDxSandhillsCommunityCollege\",\"TEDxSiouxFalls\",\"TEDxUofW\",\"TED Prize Wish\",\"TEDxNashvilleSalon\",\"TEDxSMCC\",\"TEDxCuauht\\u00e9moc\",\"TEDxTaipei\",\"TED and Minderoo Foundation\",\"TEDxWellington\",\"TEDxSSE\",\"TEDxSaintThomas\",\"TEDxDoha\",\"TEDxSavannah\",\"TEDxEdmonton\",\"TEDxUWA\",\"TEDxUSU\",\"LIFT\",\"Elizabeth G. Anderson School\",\"TEDxSuffolkUniversity\",\"TEDxJacksonHole\",\"TEDxOxford\",\"TEDxVillanovaU\",\"DLD\",\"TEDxInnsbruck\",\"Princeton University\",\"TEDxUHasselt\",\"TEDxOshkosh\",\"TEDxProvincetown\",\"TEDxAmsterdamWomen\",\"TEDxIEMadrid\",\"TEDxEastVan\",\"TEDxAarhus\",\"TEDxMalvern\",\"TEDxMidAtlanticSalon\",\"TEDxParramatta\",\"TEDxWalthamED\",\"Skoll World Forum\",\"TEDxBerkshires\",\"TEDxShimizu\",\"TEDxTemecula\",\"TEDxSingapore\",\"TEDxClearBrookHighSchool\",\"TEDxLusakaStudio\",\"TEDxCreightonU\",\"TEDxNSU\",\"TEDxWanChai\",\"TEDxAlbertopolis\",\"TEDxUTAustin\",\"Justice with Michael Sandel\",\"TEDxUCIrvine\",\"TEDxYouth@M\\u00fcnchen\",\"Web 2.0 Expo\",\"TEDxEasthamptonWomen\",\"TEDxStCloud\",\"TEDxMonashUniversityMalaysia\",\"TEDxTinHau\",\"Royal Institution\",\"Bowery Poetry Club\",\"TEDxSHHS\",\"TEDxOgden\",\"Arbejdsglaede Live\",\"TEDxEindhoven\",\"TEDxQueensU\",\"TEDxFargo\",\"TEDxDetroit\",\"ZigZag\",\"TEDxCambridgeSalon\",\"Checking In with Susan David\",\"TEDxLeicester\",\"TEDxHerndon\",\"TEDxCambridgeUniversity\",\"TED Legacy Project\",\"TEDxParcDuCinquantenaire\",\"Harvard University\",\"BBC TV\",\"World Science Festival\",\"TEDxNTU\",\"TEDxConnecticutCollege\",\"TEDxTAMUSalon\",\"Currently\",\"TEDx SHORTS\",\"TEDxFergusonLibrary\",\"AORN Congress\",\"TEDxStLouis\",\"TEDxBoise\",\"TEDxTimberlaneSchools\",\"TEDxMICA\",\"Toronto Youth Corps\",\"TEDxUniversityofGlasgow\",\"TEDxYouth@Valladolid\",\"TEDxUofSC\",\"Carnegie Mellon University\",\"TEDxPuget Sound\",\"TEDxUSN\",\"TEDxBasel\",\"TEDxJacksonville\",\"Eric Whitacre's Virtual Choir\",\"taken for granted\",\"TEDxCherryCreekWomen\",\"DICE Summit\",\"Design Matters with Debbie Millman\",\"TEDxNewcastle\",\"TEDxKeene\",\"Conversations with People Who Hate Me\",\"Michael Howard Studios\",\"TEDxSantaClaraUniversity\",\"TEDxOakland\",\"2021 US Presidential Inauguration\",\"TEDxBahiaBlanca\",\"TEDxNashvilleWomen\",\"TEDxImperialCollege\",\"TEDxUniversityofRochester\",\"TEDxMcMinnville\",\"TEDxSonomaCounty\",\"TEDxLinnaeusUniversity\",\"TEDxNorrkoping\",\"TEDxArendal\",\"TEDxIslay\",\"TEDxAmazonia\",\"TEDxAmericanRiviera\",\"TEDxBrighton\",\"TEDxMuncyStatePrison\",\"TEDxMonroeCorrectionalComplex\",\"TEDxClaremontColleges\",\"TEDxVictoria\",\"TEDxAsheville\",\"TEDxUW\",\"TEDxNewy\",\"TEDxSBU\",\"TEDxSouthBank\",\"TEDxUMKC\",\"TEDxUM\",\"TEDxDesMoines\",\"TEDxKids@Brussels\",\"TEDxEastEnd\",\"Global Witness\",\"TEDxOrangeCoast\",\"TEDxCreativeCoast\",\"TEDxCannes\",\"TEDxSanMigueldeAllende\",\"TED Fellows\",\"TEDxMIA\",\"TEDxGoldenGatePark\",\"TEDxChapmanU\",\"TEDxNASA@SiliconValley\",\"TEDxIndianapolis\",\"TEDxLeuvenSalon\",\"TEDxCaFoscariU\",\"TEDxWaterloo\",\"TEDxHampshireCollege\",\"SoulPancake\",\"TEDxGlasgow\",\"TED@Johannesburg\",\"TED@Nairobi\",\"TEDxEQChCh\",\"TEDxWitsUniversity\",\"TEDxHelvetia\",\"TEDxGoodenoughCollege\",\"TED@London\",\"TEDxWinnipeg\",\"TEDxCHUV\",\"TED@Bangalore\",\"TEDxABQ\",\"TEDxObserver\",\"TEDxGrandRapids\",\"TEDxSeoul\",\"TEDxBeirut\",\"TEDxSanJoseCA\",\"TEDxConcordiaUPortland\",\"TEDxUdeM\",\"TEDxMonterey\",\"TEDxKids@Ambleside\",\"TEDxColbyCollege\",\"TEDxNijmegen\",\"TEDxFiDiWomen\",\"TEDxHogeschoolUtrecht\",\"TEDxDubai\",\"TEDxMiamiUniversity\",\"TED@SXSWi\",\"TEDxSeattleU\",\"TEDxSussexUniversity\",\"TEDxConcorde\",\"TEDxColoradoSprings\",\"TEDxO'Porto\",\"TEDxCesena\",\"TEDxUTFSM\",\"Fort Worth City Council\",\"TEDxLivoniaCCLibrary\",\"TEDxSanFranciscoSalon\",\"TEDxOU\",\"TEDxMemphis\",\"TEDxUCL\",\"TEDxCalzadaDeLosH\\u00e9roes\",\"TEDxBocaRaton\",\"TEDxUFM\",\"TEDxPitic\",\"TEDxReus\",\"TEDxNextGenerationAsheville\",\"TEDxVCU\",\"TEDxUIdaho\",\"TEDxVeniceBeach\",\"TED Senior Fellows at TEDGlobal\",\"TEDxUCDavis\",\"TEDxBellevue\",\"New York State Senate\",\"TEDxNantes\",\"TEDxSoMa\",\"TEDxCoventGardenWomen\",\"TEDxSalford\",\"TEDxDebrecenUniversity\",\"TEDxCapeMay\",\"TEDxUWLaCrosse\",\"TED Salon Belonging\",\"TEDxBrisbane\",\"TEDxYouth@CEHS\",\"TEDxUND\",\"TEDxUGA\",\"The Do Lectures\",\"TEDxFIU\",\"TEDxAustinWomen\",\"TEDxOmaha\",\"TEDxFulbrightDublin\",\"TEDxStLouisWomen\",\"TEDxYouth@Bath\",\"TEDxBG\",\"TEDxHamburg\",\"TEDxCrenshaw\",\"TEDxOrcasIsland\",\"TEDNairobi Ideas Search\",\"TEDxLeuven\",\"TEDxSanQuentin\",\"TEDxColumbusWomen\",\"NextGen:Charity\",\"TEDxFrankfurt\",\"TEDxUIUC\",\"TEDxPortland\",\"TEDxStormontWomen\",\"TEDxBariloche\",\"TEDxG\\u00f6teborg\",\"TEDxUppsalaUniversity\",\"TEDxLincolnSquare\",\"TEDxHull\",\"TEDxBerkleeValencia\",\"TEDxCoconutGrove\",\"TEDxMalagueta\",\"TEDxPennQuarter\",\"TEDxSnoIsleLibraries\",\"TEDxNorthwesternU\",\"Handheld Learning\",\"TEDxYorkU\",\"TEDxPaloAlto\",\"TEDxGatewayArch\",\"TEDxSiliconValley\",\"TEDxVermilionStreet\",\"TEDxSeattleWomen\"],\"xaxis\":\"x\",\"y\":[1356,865,481,271,108,82,64,61,59,55,53,47,42,41,40,40,35,33,33,31,30,28,26,25,21,20,20,20,19,19,18,18,18,18,17,17,17,17,17,16,16,16,16,15,15,15,15,14,13,13,13,13,12,12,12,11,11,11,10,10,10,10,10,10,10,9,9,9,9,9,9,9,8,8,8,8,8,8,8,8,8,8,8,8,8,8,8,8,8,7,7,7,7,7,7,7,6,6,6,6,6,6,6,6,6,6,6,6,6,6,6,6,5,5,5,5,5,5,5,5,5,5,5,5,5,5,5,5,5,5,5,5,4,4,4,4,4,4,4,4,4,4,4,4,4,4,4,4,4,4,4,4,4,4,4,4,4,4,4,4,4,4,4,4,3,3,3,3,3,3,3,3,3,3,3,3,3,3,3,3,3,3,3,3,3,3,3,3,3,3,3,3,3,3,3,3,3,3,3,3,3,3,3,3,3,3,3,3,3,2,2,2,2,2,2,2,2,2,2,2,2,2,2,2,2,2,2,2,2,2,2,2,2,2,2,2,2,2,2,2,2,2,2,2,2,2,2,2,2,2,2,2,2,2,2,2,2,2,2,2,2,2,2,2,2,2,2,2,2,2,2,2,2,2,2,2,2,2,2,2,2,1,1,1,1,1,1,1,1,1,1,1,1,1,1,1,1,1,1,1,1,1,1,1,1,1,1,1,1,1,1,1,1,1,1,1,1,1,1,1,1,1,1,1,1,1,1,1,1,1,1,1,1,1,1,1,1,1,1,1,1,1,1,1,1,1,1,1,1,1,1,1,1,1,1,1,1,1,1,1,1,1,1,1,1,1,1,1,1,1,1,1,1,1,1,1,1,1,1,1,1,1,1,1,1,1,1,1,1,1,1,1,1,1,1,1,1,1,1,1,1,1,1,1,1,1,1,1,1,1,1,1,1,1,1,1,1,1,1,1,1,1,1,1,1,1,1,1,1,1,1,1,1,1,1,1,1,1,1,1,1,1,1,1,1,1,1,1,1,1,1,1,1,1,1,1,1,1,1,1,1,1,1,1,1,1,1,1,1,1,1,1,1,1,1,1,1,1,1,1,1,1,1,1,1,1,1,1,1,1,1,1,1,1,1,1,1,1,1,1,1,1,1,1,1,1,1,1,1,1,1,1,1,1,1,1,1,1,1,1,1,1,1,1,1,1,1,1,1,1,1,1,1,1,1,1,1],\"yaxis\":\"y\",\"type\":\"scatter\"}],                        {\"template\":{\"data\":{\"bar\":[{\"error_x\":{\"color\":\"#2a3f5f\"},\"error_y\":{\"color\":\"#2a3f5f\"},\"marker\":{\"line\":{\"color\":\"#E5ECF6\",\"width\":0.5},\"pattern\":{\"fillmode\":\"overlay\",\"size\":10,\"solidity\":0.2}},\"type\":\"bar\"}],\"barpolar\":[{\"marker\":{\"line\":{\"color\":\"#E5ECF6\",\"width\":0.5},\"pattern\":{\"fillmode\":\"overlay\",\"size\":10,\"solidity\":0.2}},\"type\":\"barpolar\"}],\"carpet\":[{\"aaxis\":{\"endlinecolor\":\"#2a3f5f\",\"gridcolor\":\"white\",\"linecolor\":\"white\",\"minorgridcolor\":\"white\",\"startlinecolor\":\"#2a3f5f\"},\"baxis\":{\"endlinecolor\":\"#2a3f5f\",\"gridcolor\":\"white\",\"linecolor\":\"white\",\"minorgridcolor\":\"white\",\"startlinecolor\":\"#2a3f5f\"},\"type\":\"carpet\"}],\"choropleth\":[{\"colorbar\":{\"outlinewidth\":0,\"ticks\":\"\"},\"type\":\"choropleth\"}],\"contour\":[{\"colorbar\":{\"outlinewidth\":0,\"ticks\":\"\"},\"colorscale\":[[0.0,\"#0d0887\"],[0.1111111111111111,\"#46039f\"],[0.2222222222222222,\"#7201a8\"],[0.3333333333333333,\"#9c179e\"],[0.4444444444444444,\"#bd3786\"],[0.5555555555555556,\"#d8576b\"],[0.6666666666666666,\"#ed7953\"],[0.7777777777777778,\"#fb9f3a\"],[0.8888888888888888,\"#fdca26\"],[1.0,\"#f0f921\"]],\"type\":\"contour\"}],\"contourcarpet\":[{\"colorbar\":{\"outlinewidth\":0,\"ticks\":\"\"},\"type\":\"contourcarpet\"}],\"heatmap\":[{\"colorbar\":{\"outlinewidth\":0,\"ticks\":\"\"},\"colorscale\":[[0.0,\"#0d0887\"],[0.1111111111111111,\"#46039f\"],[0.2222222222222222,\"#7201a8\"],[0.3333333333333333,\"#9c179e\"],[0.4444444444444444,\"#bd3786\"],[0.5555555555555556,\"#d8576b\"],[0.6666666666666666,\"#ed7953\"],[0.7777777777777778,\"#fb9f3a\"],[0.8888888888888888,\"#fdca26\"],[1.0,\"#f0f921\"]],\"type\":\"heatmap\"}],\"heatmapgl\":[{\"colorbar\":{\"outlinewidth\":0,\"ticks\":\"\"},\"colorscale\":[[0.0,\"#0d0887\"],[0.1111111111111111,\"#46039f\"],[0.2222222222222222,\"#7201a8\"],[0.3333333333333333,\"#9c179e\"],[0.4444444444444444,\"#bd3786\"],[0.5555555555555556,\"#d8576b\"],[0.6666666666666666,\"#ed7953\"],[0.7777777777777778,\"#fb9f3a\"],[0.8888888888888888,\"#fdca26\"],[1.0,\"#f0f921\"]],\"type\":\"heatmapgl\"}],\"histogram\":[{\"marker\":{\"pattern\":{\"fillmode\":\"overlay\",\"size\":10,\"solidity\":0.2}},\"type\":\"histogram\"}],\"histogram2d\":[{\"colorbar\":{\"outlinewidth\":0,\"ticks\":\"\"},\"colorscale\":[[0.0,\"#0d0887\"],[0.1111111111111111,\"#46039f\"],[0.2222222222222222,\"#7201a8\"],[0.3333333333333333,\"#9c179e\"],[0.4444444444444444,\"#bd3786\"],[0.5555555555555556,\"#d8576b\"],[0.6666666666666666,\"#ed7953\"],[0.7777777777777778,\"#fb9f3a\"],[0.8888888888888888,\"#fdca26\"],[1.0,\"#f0f921\"]],\"type\":\"histogram2d\"}],\"histogram2dcontour\":[{\"colorbar\":{\"outlinewidth\":0,\"ticks\":\"\"},\"colorscale\":[[0.0,\"#0d0887\"],[0.1111111111111111,\"#46039f\"],[0.2222222222222222,\"#7201a8\"],[0.3333333333333333,\"#9c179e\"],[0.4444444444444444,\"#bd3786\"],[0.5555555555555556,\"#d8576b\"],[0.6666666666666666,\"#ed7953\"],[0.7777777777777778,\"#fb9f3a\"],[0.8888888888888888,\"#fdca26\"],[1.0,\"#f0f921\"]],\"type\":\"histogram2dcontour\"}],\"mesh3d\":[{\"colorbar\":{\"outlinewidth\":0,\"ticks\":\"\"},\"type\":\"mesh3d\"}],\"parcoords\":[{\"line\":{\"colorbar\":{\"outlinewidth\":0,\"ticks\":\"\"}},\"type\":\"parcoords\"}],\"pie\":[{\"automargin\":true,\"type\":\"pie\"}],\"scatter\":[{\"marker\":{\"colorbar\":{\"outlinewidth\":0,\"ticks\":\"\"}},\"type\":\"scatter\"}],\"scatter3d\":[{\"line\":{\"colorbar\":{\"outlinewidth\":0,\"ticks\":\"\"}},\"marker\":{\"colorbar\":{\"outlinewidth\":0,\"ticks\":\"\"}},\"type\":\"scatter3d\"}],\"scattercarpet\":[{\"marker\":{\"colorbar\":{\"outlinewidth\":0,\"ticks\":\"\"}},\"type\":\"scattercarpet\"}],\"scattergeo\":[{\"marker\":{\"colorbar\":{\"outlinewidth\":0,\"ticks\":\"\"}},\"type\":\"scattergeo\"}],\"scattergl\":[{\"marker\":{\"colorbar\":{\"outlinewidth\":0,\"ticks\":\"\"}},\"type\":\"scattergl\"}],\"scattermapbox\":[{\"marker\":{\"colorbar\":{\"outlinewidth\":0,\"ticks\":\"\"}},\"type\":\"scattermapbox\"}],\"scatterpolar\":[{\"marker\":{\"colorbar\":{\"outlinewidth\":0,\"ticks\":\"\"}},\"type\":\"scatterpolar\"}],\"scatterpolargl\":[{\"marker\":{\"colorbar\":{\"outlinewidth\":0,\"ticks\":\"\"}},\"type\":\"scatterpolargl\"}],\"scatterternary\":[{\"marker\":{\"colorbar\":{\"outlinewidth\":0,\"ticks\":\"\"}},\"type\":\"scatterternary\"}],\"surface\":[{\"colorbar\":{\"outlinewidth\":0,\"ticks\":\"\"},\"colorscale\":[[0.0,\"#0d0887\"],[0.1111111111111111,\"#46039f\"],[0.2222222222222222,\"#7201a8\"],[0.3333333333333333,\"#9c179e\"],[0.4444444444444444,\"#bd3786\"],[0.5555555555555556,\"#d8576b\"],[0.6666666666666666,\"#ed7953\"],[0.7777777777777778,\"#fb9f3a\"],[0.8888888888888888,\"#fdca26\"],[1.0,\"#f0f921\"]],\"type\":\"surface\"}],\"table\":[{\"cells\":{\"fill\":{\"color\":\"#EBF0F8\"},\"line\":{\"color\":\"white\"}},\"header\":{\"fill\":{\"color\":\"#C8D4E3\"},\"line\":{\"color\":\"white\"}},\"type\":\"table\"}]},\"layout\":{\"annotationdefaults\":{\"arrowcolor\":\"#2a3f5f\",\"arrowhead\":0,\"arrowwidth\":1},\"autotypenumbers\":\"strict\",\"coloraxis\":{\"colorbar\":{\"outlinewidth\":0,\"ticks\":\"\"}},\"colorscale\":{\"diverging\":[[0,\"#8e0152\"],[0.1,\"#c51b7d\"],[0.2,\"#de77ae\"],[0.3,\"#f1b6da\"],[0.4,\"#fde0ef\"],[0.5,\"#f7f7f7\"],[0.6,\"#e6f5d0\"],[0.7,\"#b8e186\"],[0.8,\"#7fbc41\"],[0.9,\"#4d9221\"],[1,\"#276419\"]],\"sequential\":[[0.0,\"#0d0887\"],[0.1111111111111111,\"#46039f\"],[0.2222222222222222,\"#7201a8\"],[0.3333333333333333,\"#9c179e\"],[0.4444444444444444,\"#bd3786\"],[0.5555555555555556,\"#d8576b\"],[0.6666666666666666,\"#ed7953\"],[0.7777777777777778,\"#fb9f3a\"],[0.8888888888888888,\"#fdca26\"],[1.0,\"#f0f921\"]],\"sequentialminus\":[[0.0,\"#0d0887\"],[0.1111111111111111,\"#46039f\"],[0.2222222222222222,\"#7201a8\"],[0.3333333333333333,\"#9c179e\"],[0.4444444444444444,\"#bd3786\"],[0.5555555555555556,\"#d8576b\"],[0.6666666666666666,\"#ed7953\"],[0.7777777777777778,\"#fb9f3a\"],[0.8888888888888888,\"#fdca26\"],[1.0,\"#f0f921\"]]},\"colorway\":[\"#636efa\",\"#EF553B\",\"#00cc96\",\"#ab63fa\",\"#FFA15A\",\"#19d3f3\",\"#FF6692\",\"#B6E880\",\"#FF97FF\",\"#FECB52\"],\"font\":{\"color\":\"#2a3f5f\"},\"geo\":{\"bgcolor\":\"white\",\"lakecolor\":\"white\",\"landcolor\":\"#E5ECF6\",\"showlakes\":true,\"showland\":true,\"subunitcolor\":\"white\"},\"hoverlabel\":{\"align\":\"left\"},\"hovermode\":\"closest\",\"mapbox\":{\"style\":\"light\"},\"paper_bgcolor\":\"white\",\"plot_bgcolor\":\"#E5ECF6\",\"polar\":{\"angularaxis\":{\"gridcolor\":\"white\",\"linecolor\":\"white\",\"ticks\":\"\"},\"bgcolor\":\"#E5ECF6\",\"radialaxis\":{\"gridcolor\":\"white\",\"linecolor\":\"white\",\"ticks\":\"\"}},\"scene\":{\"xaxis\":{\"backgroundcolor\":\"#E5ECF6\",\"gridcolor\":\"white\",\"gridwidth\":2,\"linecolor\":\"white\",\"showbackground\":true,\"ticks\":\"\",\"zerolinecolor\":\"white\"},\"yaxis\":{\"backgroundcolor\":\"#E5ECF6\",\"gridcolor\":\"white\",\"gridwidth\":2,\"linecolor\":\"white\",\"showbackground\":true,\"ticks\":\"\",\"zerolinecolor\":\"white\"},\"zaxis\":{\"backgroundcolor\":\"#E5ECF6\",\"gridcolor\":\"white\",\"gridwidth\":2,\"linecolor\":\"white\",\"showbackground\":true,\"ticks\":\"\",\"zerolinecolor\":\"white\"}},\"shapedefaults\":{\"line\":{\"color\":\"#2a3f5f\"}},\"ternary\":{\"aaxis\":{\"gridcolor\":\"white\",\"linecolor\":\"white\",\"ticks\":\"\"},\"baxis\":{\"gridcolor\":\"white\",\"linecolor\":\"white\",\"ticks\":\"\"},\"bgcolor\":\"#E5ECF6\",\"caxis\":{\"gridcolor\":\"white\",\"linecolor\":\"white\",\"ticks\":\"\"}},\"title\":{\"x\":0.05},\"xaxis\":{\"automargin\":true,\"gridcolor\":\"white\",\"linecolor\":\"white\",\"ticks\":\"\",\"title\":{\"standoff\":15},\"zerolinecolor\":\"white\",\"zerolinewidth\":2},\"yaxis\":{\"automargin\":true,\"gridcolor\":\"white\",\"linecolor\":\"white\",\"ticks\":\"\",\"title\":{\"standoff\":15},\"zerolinecolor\":\"white\",\"zerolinewidth\":2}}},\"xaxis\":{\"anchor\":\"y\",\"domain\":[0.0,1.0],\"title\":{\"text\":\"Event\"}},\"yaxis\":{\"anchor\":\"x\",\"domain\":[0.0,1.0],\"title\":{\"text\":\"Count\"}},\"legend\":{\"title\":{\"text\":\"variable\"},\"tracegroupgap\":0},\"margin\":{\"t\":60}},                        {\"responsive\": true}                    ).then(function(){\n",
              "                            \n",
              "var gd = document.getElementById('526cf208-0983-4e60-b11d-ca5515563e13');\n",
              "var x = new MutationObserver(function (mutations, observer) {{\n",
              "        var display = window.getComputedStyle(gd).display;\n",
              "        if (!display || display === 'none') {{\n",
              "            console.log([gd, 'removed!']);\n",
              "            Plotly.purge(gd);\n",
              "            observer.disconnect();\n",
              "        }}\n",
              "}});\n",
              "\n",
              "// Listen for the removal of the full notebook cells\n",
              "var notebookContainer = gd.closest('#notebook-container');\n",
              "if (notebookContainer) {{\n",
              "    x.observe(notebookContainer, {childList: true});\n",
              "}}\n",
              "\n",
              "// Listen for the clearing of the current output cell\n",
              "var outputEl = gd.closest('.output');\n",
              "if (outputEl) {{\n",
              "    x.observe(outputEl, {childList: true});\n",
              "}}\n",
              "\n",
              "                        })                };                            </script>        </div>\n",
              "</body>\n",
              "</html>"
            ]
          },
          "metadata": {}
        }
      ]
    },
    {
      "cell_type": "code",
      "source": [
        "px.histogram(df['event'].value_counts(), title='Event frequency', nbins=500)"
      ],
      "metadata": {
        "id": "PgwL7SMf--Bo",
        "outputId": "994030f5-b818-44fa-d9d7-49df912d57ee",
        "colab": {
          "base_uri": "https://localhost:8080/",
          "height": 542
        }
      },
      "execution_count": 41,
      "outputs": [
        {
          "output_type": "display_data",
          "data": {
            "text/html": [
              "<html>\n",
              "<head><meta charset=\"utf-8\" /></head>\n",
              "<body>\n",
              "    <div>            <script src=\"https://cdnjs.cloudflare.com/ajax/libs/mathjax/2.7.5/MathJax.js?config=TeX-AMS-MML_SVG\"></script><script type=\"text/javascript\">if (window.MathJax) {MathJax.Hub.Config({SVG: {font: \"STIX-Web\"}});}</script>                <script type=\"text/javascript\">window.PlotlyConfig = {MathJaxConfig: 'local'};</script>\n",
              "        <script src=\"https://cdn.plot.ly/plotly-2.8.3.min.js\"></script>                <div id=\"4364f52d-3637-4ff5-88e2-c8d2ca3a2f7c\" class=\"plotly-graph-div\" style=\"height:525px; width:100%;\"></div>            <script type=\"text/javascript\">                                    window.PLOTLYENV=window.PLOTLYENV || {};                                    if (document.getElementById(\"4364f52d-3637-4ff5-88e2-c8d2ca3a2f7c\")) {                    Plotly.newPlot(                        \"4364f52d-3637-4ff5-88e2-c8d2ca3a2f7c\",                        [{\"alignmentgroup\":\"True\",\"bingroup\":\"x\",\"hovertemplate\":\"variable=event<br>value=%{x}<br>count=%{y}<extra></extra>\",\"legendgroup\":\"event\",\"marker\":{\"color\":\"#636efa\",\"pattern\":{\"shape\":\"\"}},\"name\":\"event\",\"nbinsx\":500,\"offsetgroup\":\"event\",\"orientation\":\"v\",\"showlegend\":true,\"x\":[1356,865,481,271,108,82,64,61,59,55,53,47,42,41,40,40,35,33,33,31,30,28,26,25,21,20,20,20,19,19,18,18,18,18,17,17,17,17,17,16,16,16,16,15,15,15,15,14,13,13,13,13,12,12,12,11,11,11,10,10,10,10,10,10,10,9,9,9,9,9,9,9,8,8,8,8,8,8,8,8,8,8,8,8,8,8,8,8,8,7,7,7,7,7,7,7,6,6,6,6,6,6,6,6,6,6,6,6,6,6,6,6,5,5,5,5,5,5,5,5,5,5,5,5,5,5,5,5,5,5,5,5,4,4,4,4,4,4,4,4,4,4,4,4,4,4,4,4,4,4,4,4,4,4,4,4,4,4,4,4,4,4,4,4,3,3,3,3,3,3,3,3,3,3,3,3,3,3,3,3,3,3,3,3,3,3,3,3,3,3,3,3,3,3,3,3,3,3,3,3,3,3,3,3,3,3,3,3,3,2,2,2,2,2,2,2,2,2,2,2,2,2,2,2,2,2,2,2,2,2,2,2,2,2,2,2,2,2,2,2,2,2,2,2,2,2,2,2,2,2,2,2,2,2,2,2,2,2,2,2,2,2,2,2,2,2,2,2,2,2,2,2,2,2,2,2,2,2,2,2,2,1,1,1,1,1,1,1,1,1,1,1,1,1,1,1,1,1,1,1,1,1,1,1,1,1,1,1,1,1,1,1,1,1,1,1,1,1,1,1,1,1,1,1,1,1,1,1,1,1,1,1,1,1,1,1,1,1,1,1,1,1,1,1,1,1,1,1,1,1,1,1,1,1,1,1,1,1,1,1,1,1,1,1,1,1,1,1,1,1,1,1,1,1,1,1,1,1,1,1,1,1,1,1,1,1,1,1,1,1,1,1,1,1,1,1,1,1,1,1,1,1,1,1,1,1,1,1,1,1,1,1,1,1,1,1,1,1,1,1,1,1,1,1,1,1,1,1,1,1,1,1,1,1,1,1,1,1,1,1,1,1,1,1,1,1,1,1,1,1,1,1,1,1,1,1,1,1,1,1,1,1,1,1,1,1,1,1,1,1,1,1,1,1,1,1,1,1,1,1,1,1,1,1,1,1,1,1,1,1,1,1,1,1,1,1,1,1,1,1,1,1,1,1,1,1,1,1,1,1,1,1,1,1,1,1,1,1,1,1,1,1,1,1,1,1,1,1,1,1,1,1,1,1,1,1,1],\"xaxis\":\"x\",\"yaxis\":\"y\",\"type\":\"histogram\"}],                        {\"template\":{\"data\":{\"bar\":[{\"error_x\":{\"color\":\"#2a3f5f\"},\"error_y\":{\"color\":\"#2a3f5f\"},\"marker\":{\"line\":{\"color\":\"#E5ECF6\",\"width\":0.5},\"pattern\":{\"fillmode\":\"overlay\",\"size\":10,\"solidity\":0.2}},\"type\":\"bar\"}],\"barpolar\":[{\"marker\":{\"line\":{\"color\":\"#E5ECF6\",\"width\":0.5},\"pattern\":{\"fillmode\":\"overlay\",\"size\":10,\"solidity\":0.2}},\"type\":\"barpolar\"}],\"carpet\":[{\"aaxis\":{\"endlinecolor\":\"#2a3f5f\",\"gridcolor\":\"white\",\"linecolor\":\"white\",\"minorgridcolor\":\"white\",\"startlinecolor\":\"#2a3f5f\"},\"baxis\":{\"endlinecolor\":\"#2a3f5f\",\"gridcolor\":\"white\",\"linecolor\":\"white\",\"minorgridcolor\":\"white\",\"startlinecolor\":\"#2a3f5f\"},\"type\":\"carpet\"}],\"choropleth\":[{\"colorbar\":{\"outlinewidth\":0,\"ticks\":\"\"},\"type\":\"choropleth\"}],\"contour\":[{\"colorbar\":{\"outlinewidth\":0,\"ticks\":\"\"},\"colorscale\":[[0.0,\"#0d0887\"],[0.1111111111111111,\"#46039f\"],[0.2222222222222222,\"#7201a8\"],[0.3333333333333333,\"#9c179e\"],[0.4444444444444444,\"#bd3786\"],[0.5555555555555556,\"#d8576b\"],[0.6666666666666666,\"#ed7953\"],[0.7777777777777778,\"#fb9f3a\"],[0.8888888888888888,\"#fdca26\"],[1.0,\"#f0f921\"]],\"type\":\"contour\"}],\"contourcarpet\":[{\"colorbar\":{\"outlinewidth\":0,\"ticks\":\"\"},\"type\":\"contourcarpet\"}],\"heatmap\":[{\"colorbar\":{\"outlinewidth\":0,\"ticks\":\"\"},\"colorscale\":[[0.0,\"#0d0887\"],[0.1111111111111111,\"#46039f\"],[0.2222222222222222,\"#7201a8\"],[0.3333333333333333,\"#9c179e\"],[0.4444444444444444,\"#bd3786\"],[0.5555555555555556,\"#d8576b\"],[0.6666666666666666,\"#ed7953\"],[0.7777777777777778,\"#fb9f3a\"],[0.8888888888888888,\"#fdca26\"],[1.0,\"#f0f921\"]],\"type\":\"heatmap\"}],\"heatmapgl\":[{\"colorbar\":{\"outlinewidth\":0,\"ticks\":\"\"},\"colorscale\":[[0.0,\"#0d0887\"],[0.1111111111111111,\"#46039f\"],[0.2222222222222222,\"#7201a8\"],[0.3333333333333333,\"#9c179e\"],[0.4444444444444444,\"#bd3786\"],[0.5555555555555556,\"#d8576b\"],[0.6666666666666666,\"#ed7953\"],[0.7777777777777778,\"#fb9f3a\"],[0.8888888888888888,\"#fdca26\"],[1.0,\"#f0f921\"]],\"type\":\"heatmapgl\"}],\"histogram\":[{\"marker\":{\"pattern\":{\"fillmode\":\"overlay\",\"size\":10,\"solidity\":0.2}},\"type\":\"histogram\"}],\"histogram2d\":[{\"colorbar\":{\"outlinewidth\":0,\"ticks\":\"\"},\"colorscale\":[[0.0,\"#0d0887\"],[0.1111111111111111,\"#46039f\"],[0.2222222222222222,\"#7201a8\"],[0.3333333333333333,\"#9c179e\"],[0.4444444444444444,\"#bd3786\"],[0.5555555555555556,\"#d8576b\"],[0.6666666666666666,\"#ed7953\"],[0.7777777777777778,\"#fb9f3a\"],[0.8888888888888888,\"#fdca26\"],[1.0,\"#f0f921\"]],\"type\":\"histogram2d\"}],\"histogram2dcontour\":[{\"colorbar\":{\"outlinewidth\":0,\"ticks\":\"\"},\"colorscale\":[[0.0,\"#0d0887\"],[0.1111111111111111,\"#46039f\"],[0.2222222222222222,\"#7201a8\"],[0.3333333333333333,\"#9c179e\"],[0.4444444444444444,\"#bd3786\"],[0.5555555555555556,\"#d8576b\"],[0.6666666666666666,\"#ed7953\"],[0.7777777777777778,\"#fb9f3a\"],[0.8888888888888888,\"#fdca26\"],[1.0,\"#f0f921\"]],\"type\":\"histogram2dcontour\"}],\"mesh3d\":[{\"colorbar\":{\"outlinewidth\":0,\"ticks\":\"\"},\"type\":\"mesh3d\"}],\"parcoords\":[{\"line\":{\"colorbar\":{\"outlinewidth\":0,\"ticks\":\"\"}},\"type\":\"parcoords\"}],\"pie\":[{\"automargin\":true,\"type\":\"pie\"}],\"scatter\":[{\"marker\":{\"colorbar\":{\"outlinewidth\":0,\"ticks\":\"\"}},\"type\":\"scatter\"}],\"scatter3d\":[{\"line\":{\"colorbar\":{\"outlinewidth\":0,\"ticks\":\"\"}},\"marker\":{\"colorbar\":{\"outlinewidth\":0,\"ticks\":\"\"}},\"type\":\"scatter3d\"}],\"scattercarpet\":[{\"marker\":{\"colorbar\":{\"outlinewidth\":0,\"ticks\":\"\"}},\"type\":\"scattercarpet\"}],\"scattergeo\":[{\"marker\":{\"colorbar\":{\"outlinewidth\":0,\"ticks\":\"\"}},\"type\":\"scattergeo\"}],\"scattergl\":[{\"marker\":{\"colorbar\":{\"outlinewidth\":0,\"ticks\":\"\"}},\"type\":\"scattergl\"}],\"scattermapbox\":[{\"marker\":{\"colorbar\":{\"outlinewidth\":0,\"ticks\":\"\"}},\"type\":\"scattermapbox\"}],\"scatterpolar\":[{\"marker\":{\"colorbar\":{\"outlinewidth\":0,\"ticks\":\"\"}},\"type\":\"scatterpolar\"}],\"scatterpolargl\":[{\"marker\":{\"colorbar\":{\"outlinewidth\":0,\"ticks\":\"\"}},\"type\":\"scatterpolargl\"}],\"scatterternary\":[{\"marker\":{\"colorbar\":{\"outlinewidth\":0,\"ticks\":\"\"}},\"type\":\"scatterternary\"}],\"surface\":[{\"colorbar\":{\"outlinewidth\":0,\"ticks\":\"\"},\"colorscale\":[[0.0,\"#0d0887\"],[0.1111111111111111,\"#46039f\"],[0.2222222222222222,\"#7201a8\"],[0.3333333333333333,\"#9c179e\"],[0.4444444444444444,\"#bd3786\"],[0.5555555555555556,\"#d8576b\"],[0.6666666666666666,\"#ed7953\"],[0.7777777777777778,\"#fb9f3a\"],[0.8888888888888888,\"#fdca26\"],[1.0,\"#f0f921\"]],\"type\":\"surface\"}],\"table\":[{\"cells\":{\"fill\":{\"color\":\"#EBF0F8\"},\"line\":{\"color\":\"white\"}},\"header\":{\"fill\":{\"color\":\"#C8D4E3\"},\"line\":{\"color\":\"white\"}},\"type\":\"table\"}]},\"layout\":{\"annotationdefaults\":{\"arrowcolor\":\"#2a3f5f\",\"arrowhead\":0,\"arrowwidth\":1},\"autotypenumbers\":\"strict\",\"coloraxis\":{\"colorbar\":{\"outlinewidth\":0,\"ticks\":\"\"}},\"colorscale\":{\"diverging\":[[0,\"#8e0152\"],[0.1,\"#c51b7d\"],[0.2,\"#de77ae\"],[0.3,\"#f1b6da\"],[0.4,\"#fde0ef\"],[0.5,\"#f7f7f7\"],[0.6,\"#e6f5d0\"],[0.7,\"#b8e186\"],[0.8,\"#7fbc41\"],[0.9,\"#4d9221\"],[1,\"#276419\"]],\"sequential\":[[0.0,\"#0d0887\"],[0.1111111111111111,\"#46039f\"],[0.2222222222222222,\"#7201a8\"],[0.3333333333333333,\"#9c179e\"],[0.4444444444444444,\"#bd3786\"],[0.5555555555555556,\"#d8576b\"],[0.6666666666666666,\"#ed7953\"],[0.7777777777777778,\"#fb9f3a\"],[0.8888888888888888,\"#fdca26\"],[1.0,\"#f0f921\"]],\"sequentialminus\":[[0.0,\"#0d0887\"],[0.1111111111111111,\"#46039f\"],[0.2222222222222222,\"#7201a8\"],[0.3333333333333333,\"#9c179e\"],[0.4444444444444444,\"#bd3786\"],[0.5555555555555556,\"#d8576b\"],[0.6666666666666666,\"#ed7953\"],[0.7777777777777778,\"#fb9f3a\"],[0.8888888888888888,\"#fdca26\"],[1.0,\"#f0f921\"]]},\"colorway\":[\"#636efa\",\"#EF553B\",\"#00cc96\",\"#ab63fa\",\"#FFA15A\",\"#19d3f3\",\"#FF6692\",\"#B6E880\",\"#FF97FF\",\"#FECB52\"],\"font\":{\"color\":\"#2a3f5f\"},\"geo\":{\"bgcolor\":\"white\",\"lakecolor\":\"white\",\"landcolor\":\"#E5ECF6\",\"showlakes\":true,\"showland\":true,\"subunitcolor\":\"white\"},\"hoverlabel\":{\"align\":\"left\"},\"hovermode\":\"closest\",\"mapbox\":{\"style\":\"light\"},\"paper_bgcolor\":\"white\",\"plot_bgcolor\":\"#E5ECF6\",\"polar\":{\"angularaxis\":{\"gridcolor\":\"white\",\"linecolor\":\"white\",\"ticks\":\"\"},\"bgcolor\":\"#E5ECF6\",\"radialaxis\":{\"gridcolor\":\"white\",\"linecolor\":\"white\",\"ticks\":\"\"}},\"scene\":{\"xaxis\":{\"backgroundcolor\":\"#E5ECF6\",\"gridcolor\":\"white\",\"gridwidth\":2,\"linecolor\":\"white\",\"showbackground\":true,\"ticks\":\"\",\"zerolinecolor\":\"white\"},\"yaxis\":{\"backgroundcolor\":\"#E5ECF6\",\"gridcolor\":\"white\",\"gridwidth\":2,\"linecolor\":\"white\",\"showbackground\":true,\"ticks\":\"\",\"zerolinecolor\":\"white\"},\"zaxis\":{\"backgroundcolor\":\"#E5ECF6\",\"gridcolor\":\"white\",\"gridwidth\":2,\"linecolor\":\"white\",\"showbackground\":true,\"ticks\":\"\",\"zerolinecolor\":\"white\"}},\"shapedefaults\":{\"line\":{\"color\":\"#2a3f5f\"}},\"ternary\":{\"aaxis\":{\"gridcolor\":\"white\",\"linecolor\":\"white\",\"ticks\":\"\"},\"baxis\":{\"gridcolor\":\"white\",\"linecolor\":\"white\",\"ticks\":\"\"},\"bgcolor\":\"#E5ECF6\",\"caxis\":{\"gridcolor\":\"white\",\"linecolor\":\"white\",\"ticks\":\"\"}},\"title\":{\"x\":0.05},\"xaxis\":{\"automargin\":true,\"gridcolor\":\"white\",\"linecolor\":\"white\",\"ticks\":\"\",\"title\":{\"standoff\":15},\"zerolinecolor\":\"white\",\"zerolinewidth\":2},\"yaxis\":{\"automargin\":true,\"gridcolor\":\"white\",\"linecolor\":\"white\",\"ticks\":\"\",\"title\":{\"standoff\":15},\"zerolinecolor\":\"white\",\"zerolinewidth\":2}}},\"xaxis\":{\"anchor\":\"y\",\"domain\":[0.0,1.0],\"title\":{\"text\":\"value\"}},\"yaxis\":{\"anchor\":\"x\",\"domain\":[0.0,1.0],\"title\":{\"text\":\"count\"}},\"legend\":{\"title\":{\"text\":\"variable\"},\"tracegroupgap\":0},\"title\":{\"text\":\"Event frequency\"},\"barmode\":\"relative\"},                        {\"responsive\": true}                    ).then(function(){\n",
              "                            \n",
              "var gd = document.getElementById('4364f52d-3637-4ff5-88e2-c8d2ca3a2f7c');\n",
              "var x = new MutationObserver(function (mutations, observer) {{\n",
              "        var display = window.getComputedStyle(gd).display;\n",
              "        if (!display || display === 'none') {{\n",
              "            console.log([gd, 'removed!']);\n",
              "            Plotly.purge(gd);\n",
              "            observer.disconnect();\n",
              "        }}\n",
              "}});\n",
              "\n",
              "// Listen for the removal of the full notebook cells\n",
              "var notebookContainer = gd.closest('#notebook-container');\n",
              "if (notebookContainer) {{\n",
              "    x.observe(notebookContainer, {childList: true});\n",
              "}}\n",
              "\n",
              "// Listen for the clearing of the current output cell\n",
              "var outputEl = gd.closest('.output');\n",
              "if (outputEl) {{\n",
              "    x.observe(outputEl, {childList: true});\n",
              "}}\n",
              "\n",
              "                        })                };                            </script>        </div>\n",
              "</body>\n",
              "</html>"
            ]
          },
          "metadata": {}
        }
      ]
    },
    {
      "cell_type": "markdown",
      "source": [
        "There are still a lot of events with low amount of talks"
      ],
      "metadata": {
        "id": "4jXBxCEU_X-h"
      }
    },
    {
      "cell_type": "code",
      "source": [
        "# find events that have less than 10 talks in them\n",
        "index_list = df.groupby('event').filter(lambda x: len(x) < 10).index\n",
        "df['event'].loc[index_list] = 'TED-Other'\n"
      ],
      "metadata": {
        "id": "4UIfbary_CCL",
        "outputId": "045d1270-3749-4a6a-b070-e1ed634cfb04",
        "colab": {
          "base_uri": "https://localhost:8080/"
        }
      },
      "execution_count": 49,
      "outputs": [
        {
          "output_type": "stream",
          "name": "stderr",
          "text": [
            "/usr/local/lib/python3.7/dist-packages/pandas/core/indexing.py:1732: SettingWithCopyWarning:\n",
            "\n",
            "\n",
            "A value is trying to be set on a copy of a slice from a DataFrame\n",
            "\n",
            "See the caveats in the documentation: https://pandas.pydata.org/pandas-docs/stable/user_guide/indexing.html#returning-a-view-versus-a-copy\n",
            "\n"
          ]
        }
      ]
    },
    {
      "cell_type": "code",
      "source": [
        "df['event'].value_counts()"
      ],
      "metadata": {
        "id": "lYJMAVK_AIed",
        "outputId": "15e29c14-1a4a-435d-97bf-d57d5ea6ebae",
        "colab": {
          "base_uri": "https://localhost:8080/"
        }
      },
      "execution_count": 50,
      "outputs": [
        {
          "output_type": "execute_result",
          "data": {
            "text/plain": [
              "TED                     1356\n",
              "TED-Other               1107\n",
              "TED-Ed                   865\n",
              "TEDGlobal                481\n",
              "TEDWomen                 271\n",
              "                        ... \n",
              "TEDxToronto               10\n",
              "TEDSalon Berlin           10\n",
              "TED@NYC                   10\n",
              "TEDxCERN                  10\n",
              "TED Audio Collective      10\n",
              "Name: event, Length: 66, dtype: int64"
            ]
          },
          "metadata": {},
          "execution_count": 50
        }
      ]
    },
    {
      "cell_type": "code",
      "source": [
        "df.head()"
      ],
      "metadata": {
        "id": "JTNZXr8ZX7NS",
        "outputId": "1f2c3125-378a-4f2d-a3d9-747bc1616708",
        "colab": {
          "base_uri": "https://localhost:8080/",
          "height": 337
        }
      },
      "execution_count": 53,
      "outputs": [
        {
          "output_type": "execute_result",
          "data": {
            "text/plain": [
              "   _id  duration      event   likes published_date  \\\n",
              "0   21       992        TED   17078     2006-08-25   \n",
              "1    1       957        TED  110561     2006-06-27   \n",
              "2    7      1266        TED   60084     2006-06-27   \n",
              "3   47      1126  TEDGlobal   80061     2006-09-12   \n",
              "4   55      1524        TED   14008     2006-07-25   \n",
              "\n",
              "                                            speakers  \\\n",
              "0  [{'name': 'Mena Trott', 'occupation': 'Blogger...   \n",
              "1  [{'name': 'Al Gore', 'occupation': 'Climate ad...   \n",
              "2  [{'name': 'David Pogue', 'occupation': 'Techno...   \n",
              "3  [{'name': 'David Deutsch', 'occupation': 'Phys...   \n",
              "4  [{'name': 'Jehane Noujaim', 'occupation': 'Fil...   \n",
              "\n",
              "                                  subtitle_languages  \\\n",
              "0  [English, Vietnamese, Italian, Arabic, Portugu...   \n",
              "1  [Greek, Gujarati, English, Italian, Swedish, C...   \n",
              "2  [Greek, English, Vietnamese, Italian, Arabic, ...   \n",
              "3  [Greek, English, Vietnamese, Italian, Arabic, ...   \n",
              "4  [English, Vietnamese, Italian, Arabic, Portugu...   \n",
              "\n",
              "                                             summary  \\\n",
              "0  The founding mother of the blog revolution, Mo...   \n",
              "1  With the same humor and humanity he exuded in ...   \n",
              "2  New York Times columnist David Pogue takes aim...   \n",
              "3  Legendary scientist David Deutsch puts theoret...   \n",
              "4  Jehane Noujaim unveils her 2006 TED Prize wish...   \n",
              "\n",
              "                                         title  \\\n",
              "0      Meet the founder of the blog revolution   \n",
              "1                  Averting the climate crisis   \n",
              "2                             Simplicity sells   \n",
              "3  Chemical scum that dream of distant quasars   \n",
              "4                My wish: A global day of film   \n",
              "\n",
              "                                              topics    views  \n",
              "0  [culture, design, business, entertainment, sof...   589115  \n",
              "1  [climate change, culture, environment, global ...  3671801  \n",
              "2  [technology, computers, entertainment, media, ...  2008487  \n",
              "3  [climate change, culture, environment, global ...  2694257  \n",
              "4  [culture, global issues, entertainment, social...   489757  "
            ],
            "text/html": [
              "\n",
              "  <div id=\"df-fa7e1c68-f8e9-45f6-a207-1afc06056a7e\">\n",
              "    <div class=\"colab-df-container\">\n",
              "      <div>\n",
              "<style scoped>\n",
              "    .dataframe tbody tr th:only-of-type {\n",
              "        vertical-align: middle;\n",
              "    }\n",
              "\n",
              "    .dataframe tbody tr th {\n",
              "        vertical-align: top;\n",
              "    }\n",
              "\n",
              "    .dataframe thead th {\n",
              "        text-align: right;\n",
              "    }\n",
              "</style>\n",
              "<table border=\"1\" class=\"dataframe\">\n",
              "  <thead>\n",
              "    <tr style=\"text-align: right;\">\n",
              "      <th></th>\n",
              "      <th>_id</th>\n",
              "      <th>duration</th>\n",
              "      <th>event</th>\n",
              "      <th>likes</th>\n",
              "      <th>published_date</th>\n",
              "      <th>speakers</th>\n",
              "      <th>subtitle_languages</th>\n",
              "      <th>summary</th>\n",
              "      <th>title</th>\n",
              "      <th>topics</th>\n",
              "      <th>views</th>\n",
              "    </tr>\n",
              "  </thead>\n",
              "  <tbody>\n",
              "    <tr>\n",
              "      <th>0</th>\n",
              "      <td>21</td>\n",
              "      <td>992</td>\n",
              "      <td>TED</td>\n",
              "      <td>17078</td>\n",
              "      <td>2006-08-25</td>\n",
              "      <td>[{'name': 'Mena Trott', 'occupation': 'Blogger...</td>\n",
              "      <td>[English, Vietnamese, Italian, Arabic, Portugu...</td>\n",
              "      <td>The founding mother of the blog revolution, Mo...</td>\n",
              "      <td>Meet the founder of the blog revolution</td>\n",
              "      <td>[culture, design, business, entertainment, sof...</td>\n",
              "      <td>589115</td>\n",
              "    </tr>\n",
              "    <tr>\n",
              "      <th>1</th>\n",
              "      <td>1</td>\n",
              "      <td>957</td>\n",
              "      <td>TED</td>\n",
              "      <td>110561</td>\n",
              "      <td>2006-06-27</td>\n",
              "      <td>[{'name': 'Al Gore', 'occupation': 'Climate ad...</td>\n",
              "      <td>[Greek, Gujarati, English, Italian, Swedish, C...</td>\n",
              "      <td>With the same humor and humanity he exuded in ...</td>\n",
              "      <td>Averting the climate crisis</td>\n",
              "      <td>[climate change, culture, environment, global ...</td>\n",
              "      <td>3671801</td>\n",
              "    </tr>\n",
              "    <tr>\n",
              "      <th>2</th>\n",
              "      <td>7</td>\n",
              "      <td>1266</td>\n",
              "      <td>TED</td>\n",
              "      <td>60084</td>\n",
              "      <td>2006-06-27</td>\n",
              "      <td>[{'name': 'David Pogue', 'occupation': 'Techno...</td>\n",
              "      <td>[Greek, English, Vietnamese, Italian, Arabic, ...</td>\n",
              "      <td>New York Times columnist David Pogue takes aim...</td>\n",
              "      <td>Simplicity sells</td>\n",
              "      <td>[technology, computers, entertainment, media, ...</td>\n",
              "      <td>2008487</td>\n",
              "    </tr>\n",
              "    <tr>\n",
              "      <th>3</th>\n",
              "      <td>47</td>\n",
              "      <td>1126</td>\n",
              "      <td>TEDGlobal</td>\n",
              "      <td>80061</td>\n",
              "      <td>2006-09-12</td>\n",
              "      <td>[{'name': 'David Deutsch', 'occupation': 'Phys...</td>\n",
              "      <td>[Greek, English, Vietnamese, Italian, Arabic, ...</td>\n",
              "      <td>Legendary scientist David Deutsch puts theoret...</td>\n",
              "      <td>Chemical scum that dream of distant quasars</td>\n",
              "      <td>[climate change, culture, environment, global ...</td>\n",
              "      <td>2694257</td>\n",
              "    </tr>\n",
              "    <tr>\n",
              "      <th>4</th>\n",
              "      <td>55</td>\n",
              "      <td>1524</td>\n",
              "      <td>TED</td>\n",
              "      <td>14008</td>\n",
              "      <td>2006-07-25</td>\n",
              "      <td>[{'name': 'Jehane Noujaim', 'occupation': 'Fil...</td>\n",
              "      <td>[English, Vietnamese, Italian, Arabic, Portugu...</td>\n",
              "      <td>Jehane Noujaim unveils her 2006 TED Prize wish...</td>\n",
              "      <td>My wish: A global day of film</td>\n",
              "      <td>[culture, global issues, entertainment, social...</td>\n",
              "      <td>489757</td>\n",
              "    </tr>\n",
              "  </tbody>\n",
              "</table>\n",
              "</div>\n",
              "      <button class=\"colab-df-convert\" onclick=\"convertToInteractive('df-fa7e1c68-f8e9-45f6-a207-1afc06056a7e')\"\n",
              "              title=\"Convert this dataframe to an interactive table.\"\n",
              "              style=\"display:none;\">\n",
              "        \n",
              "  <svg xmlns=\"http://www.w3.org/2000/svg\" height=\"24px\"viewBox=\"0 0 24 24\"\n",
              "       width=\"24px\">\n",
              "    <path d=\"M0 0h24v24H0V0z\" fill=\"none\"/>\n",
              "    <path d=\"M18.56 5.44l.94 2.06.94-2.06 2.06-.94-2.06-.94-.94-2.06-.94 2.06-2.06.94zm-11 1L8.5 8.5l.94-2.06 2.06-.94-2.06-.94L8.5 2.5l-.94 2.06-2.06.94zm10 10l.94 2.06.94-2.06 2.06-.94-2.06-.94-.94-2.06-.94 2.06-2.06.94z\"/><path d=\"M17.41 7.96l-1.37-1.37c-.4-.4-.92-.59-1.43-.59-.52 0-1.04.2-1.43.59L10.3 9.45l-7.72 7.72c-.78.78-.78 2.05 0 2.83L4 21.41c.39.39.9.59 1.41.59.51 0 1.02-.2 1.41-.59l7.78-7.78 2.81-2.81c.8-.78.8-2.07 0-2.86zM5.41 20L4 18.59l7.72-7.72 1.47 1.35L5.41 20z\"/>\n",
              "  </svg>\n",
              "      </button>\n",
              "      \n",
              "  <style>\n",
              "    .colab-df-container {\n",
              "      display:flex;\n",
              "      flex-wrap:wrap;\n",
              "      gap: 12px;\n",
              "    }\n",
              "\n",
              "    .colab-df-convert {\n",
              "      background-color: #E8F0FE;\n",
              "      border: none;\n",
              "      border-radius: 50%;\n",
              "      cursor: pointer;\n",
              "      display: none;\n",
              "      fill: #1967D2;\n",
              "      height: 32px;\n",
              "      padding: 0 0 0 0;\n",
              "      width: 32px;\n",
              "    }\n",
              "\n",
              "    .colab-df-convert:hover {\n",
              "      background-color: #E2EBFA;\n",
              "      box-shadow: 0px 1px 2px rgba(60, 64, 67, 0.3), 0px 1px 3px 1px rgba(60, 64, 67, 0.15);\n",
              "      fill: #174EA6;\n",
              "    }\n",
              "\n",
              "    [theme=dark] .colab-df-convert {\n",
              "      background-color: #3B4455;\n",
              "      fill: #D2E3FC;\n",
              "    }\n",
              "\n",
              "    [theme=dark] .colab-df-convert:hover {\n",
              "      background-color: #434B5C;\n",
              "      box-shadow: 0px 1px 3px 1px rgba(0, 0, 0, 0.15);\n",
              "      filter: drop-shadow(0px 1px 2px rgba(0, 0, 0, 0.3));\n",
              "      fill: #FFFFFF;\n",
              "    }\n",
              "  </style>\n",
              "\n",
              "      <script>\n",
              "        const buttonEl =\n",
              "          document.querySelector('#df-fa7e1c68-f8e9-45f6-a207-1afc06056a7e button.colab-df-convert');\n",
              "        buttonEl.style.display =\n",
              "          google.colab.kernel.accessAllowed ? 'block' : 'none';\n",
              "\n",
              "        async function convertToInteractive(key) {\n",
              "          const element = document.querySelector('#df-fa7e1c68-f8e9-45f6-a207-1afc06056a7e');\n",
              "          const dataTable =\n",
              "            await google.colab.kernel.invokeFunction('convertToInteractive',\n",
              "                                                     [key], {});\n",
              "          if (!dataTable) return;\n",
              "\n",
              "          const docLinkHtml = 'Like what you see? Visit the ' +\n",
              "            '<a target=\"_blank\" href=https://colab.research.google.com/notebooks/data_table.ipynb>data table notebook</a>'\n",
              "            + ' to learn more about interactive tables.';\n",
              "          element.innerHTML = '';\n",
              "          dataTable['output_type'] = 'display_data';\n",
              "          await google.colab.output.renderOutput(dataTable, element);\n",
              "          const docLink = document.createElement('div');\n",
              "          docLink.innerHTML = docLinkHtml;\n",
              "          element.appendChild(docLink);\n",
              "        }\n",
              "      </script>\n",
              "    </div>\n",
              "  </div>\n",
              "  "
            ]
          },
          "metadata": {},
          "execution_count": 53
        }
      ]
    },
    {
      "cell_type": "code",
      "source": [
        ""
      ],
      "metadata": {
        "id": "aoJnMUhggVVq"
      },
      "execution_count": null,
      "outputs": []
    }
  ],
  "metadata": {
    "kernelspec": {
      "display_name": "Python 3",
      "language": "python",
      "name": "python3"
    },
    "language_info": {
      "codemirror_mode": {
        "name": "ipython",
        "version": 2
      },
      "file_extension": ".py",
      "mimetype": "text/x-python",
      "name": "python",
      "nbconvert_exporter": "python",
      "pygments_lexer": "ipython2",
      "version": "2.7.6"
    },
    "colab": {
      "name": "eda.ipynb",
      "provenance": [],
      "include_colab_link": true
    }
  },
  "nbformat": 4,
  "nbformat_minor": 0
}